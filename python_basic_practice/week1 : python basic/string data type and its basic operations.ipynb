{
 "cells": [
  {
   "cell_type": "code",
   "execution_count": 1,
   "id": "0f95c079",
   "metadata": {},
   "outputs": [
    {
     "data": {
      "text/plain": [
       "'This is a string'"
      ]
     },
     "execution_count": 1,
     "metadata": {},
     "output_type": "execute_result"
    }
   ],
   "source": [
    "\"This is a string\""
   ]
  },
  {
   "cell_type": "code",
   "execution_count": 2,
   "id": "24df9605",
   "metadata": {},
   "outputs": [
    {
     "data": {
      "text/plain": [
       "'this is a string'"
      ]
     },
     "execution_count": 2,
     "metadata": {},
     "output_type": "execute_result"
    }
   ],
   "source": [
    "s = \"this is a string\"\n",
    "s"
   ]
  },
  {
   "cell_type": "markdown",
   "id": "5de08b04",
   "metadata": {},
   "source": [
    "# concatenation : "
   ]
  },
  {
   "cell_type": "code",
   "execution_count": 3,
   "id": "8e3a45df",
   "metadata": {},
   "outputs": [
    {
     "data": {
      "text/plain": [
       "'this is a string'"
      ]
     },
     "execution_count": 3,
     "metadata": {},
     "output_type": "execute_result"
    }
   ],
   "source": [
    "\"this is \" + \"a string\""
   ]
  },
  {
   "cell_type": "code",
   "execution_count": 4,
   "id": "ad822c43",
   "metadata": {},
   "outputs": [
    {
     "name": "stdout",
     "output_type": "stream",
     "text": [
      "this is \n",
      "a string\n",
      "this is a string\n"
     ]
    }
   ],
   "source": [
    "s1 = \"this is \"\n",
    "s2 = \"a string\"\n",
    "print(s1)\n",
    "print(s2)\n",
    "print(s1+s2)"
   ]
  },
  {
   "cell_type": "code",
   "execution_count": 6,
   "id": "2de5f717",
   "metadata": {},
   "outputs": [
    {
     "data": {
      "text/plain": [
       "'22'"
      ]
     },
     "execution_count": 6,
     "metadata": {},
     "output_type": "execute_result"
    }
   ],
   "source": [
    "\"22\" + \"2\""
   ]
  },
  {
   "cell_type": "code",
   "execution_count": 7,
   "id": "2fb86e21",
   "metadata": {},
   "outputs": [
    {
     "ename": "TypeError",
     "evalue": "can only concatenate str (not \"int\") to str",
     "output_type": "error",
     "traceback": [
      "\u001b[0;31m---------------------------------------------------------------------------\u001b[0m",
      "\u001b[0;31mTypeError\u001b[0m                                 Traceback (most recent call last)",
      "Input \u001b[0;32mIn [7]\u001b[0m, in \u001b[0;36m<cell line: 1>\u001b[0;34m()\u001b[0m\n\u001b[0;32m----> 1\u001b[0m \u001b[38;5;124;43m\"\u001b[39;49m\u001b[38;5;124;43m22\u001b[39;49m\u001b[38;5;124;43m\"\u001b[39;49m\u001b[43m \u001b[49m\u001b[38;5;241;43m+\u001b[39;49m\u001b[43m \u001b[49m\u001b[38;5;241;43m2\u001b[39;49m\n",
      "\u001b[0;31mTypeError\u001b[0m: can only concatenate str (not \"int\") to str"
     ]
    }
   ],
   "source": [
    "\"22\" + 2"
   ]
  },
  {
   "cell_type": "markdown",
   "id": "e3709867",
   "metadata": {},
   "source": [
    "# Repeatation"
   ]
  },
  {
   "cell_type": "code",
   "execution_count": 9,
   "id": "fbfc9982",
   "metadata": {},
   "outputs": [
    {
     "name": "stdout",
     "output_type": "stream",
     "text": [
      "spamspamspam\n"
     ]
    }
   ],
   "source": [
    "print(\"spam\" * 3)"
   ]
  },
  {
   "cell_type": "code",
   "execution_count": 10,
   "id": "d20e1edd",
   "metadata": {},
   "outputs": [
    {
     "data": {
      "text/plain": [
       "'2222'"
      ]
     },
     "execution_count": 10,
     "metadata": {},
     "output_type": "execute_result"
    }
   ],
   "source": [
    "4 * '2'"
   ]
  },
  {
   "cell_type": "code",
   "execution_count": 11,
   "id": "efdec4b5",
   "metadata": {},
   "outputs": [
    {
     "ename": "TypeError",
     "evalue": "can't multiply sequence by non-int of type 'str'",
     "output_type": "error",
     "traceback": [
      "\u001b[0;31m---------------------------------------------------------------------------\u001b[0m",
      "\u001b[0;31mTypeError\u001b[0m                                 Traceback (most recent call last)",
      "Input \u001b[0;32mIn [11]\u001b[0m, in \u001b[0;36m<cell line: 1>\u001b[0;34m()\u001b[0m\n\u001b[0;32m----> 1\u001b[0m \u001b[38;5;124;43m'\u001b[39;49m\u001b[38;5;124;43m17\u001b[39;49m\u001b[38;5;124;43m'\u001b[39;49m\u001b[43m \u001b[49m\u001b[38;5;241;43m*\u001b[39;49m\u001b[43m \u001b[49m\u001b[38;5;124;43m'\u001b[39;49m\u001b[38;5;124;43m87\u001b[39;49m\u001b[38;5;124;43m'\u001b[39;49m\n",
      "\u001b[0;31mTypeError\u001b[0m: can't multiply sequence by non-int of type 'str'"
     ]
    }
   ],
   "source": [
    "'17' * '87'"
   ]
  },
  {
   "cell_type": "code",
   "execution_count": 12,
   "id": "e4f0d311",
   "metadata": {},
   "outputs": [
    {
     "ename": "SyntaxError",
     "evalue": "EOL while scanning string literal (3896379598.py, line 1)",
     "output_type": "error",
     "traceback": [
      "\u001b[0;36m  Input \u001b[0;32mIn [12]\u001b[0;36m\u001b[0m\n\u001b[0;31m    pythonisfun' * 7.0\u001b[0m\n\u001b[0m                      ^\u001b[0m\n\u001b[0;31mSyntaxError\u001b[0m\u001b[0;31m:\u001b[0m EOL while scanning string literal\n"
     ]
    }
   ],
   "source": [
    "pythonisfun' * 7.0"
   ]
  },
  {
   "cell_type": "markdown",
   "id": "e87e7d84",
   "metadata": {},
   "source": [
    "# string formatting :"
   ]
  },
  {
   "cell_type": "markdown",
   "id": "e1875482",
   "metadata": {},
   "source": [
    "format() is used to concat or include types other than str() \n",
    "\n",
    "the part need to be faromated is enclosed inside {} "
   ]
  },
  {
   "cell_type": "code",
   "execution_count": 13,
   "id": "3c225130",
   "metadata": {},
   "outputs": [
    {
     "name": "stdout",
     "output_type": "stream",
     "text": [
      "My self score on PHP: 6, Python: 6.5, Java: 5, Swift: 6\n"
     ]
    }
   ],
   "source": [
    "msg = \"My self score on PHP: {0}, Python: {1}, Java: {2}, Swift: {3}\". format(6, 6.5, 5, 6)\n",
    "\n",
    "print(msg)"
   ]
  },
  {
   "cell_type": "code",
   "execution_count": 15,
   "id": "67fd2332",
   "metadata": {},
   "outputs": [
    {
     "data": {
      "text/plain": [
       "'abracadabra'"
      ]
     },
     "execution_count": 15,
     "metadata": {},
     "output_type": "execute_result"
    }
   ],
   "source": [
    ">>> '{2}, {1}, {0}'.format('a', 'b', 'c')\n",
    "'c, b, a'\n",
    ">>> '{0}{1}{0}'.format('abra', 'cad')\n",
    "'abracadabra'"
   ]
  },
  {
   "cell_type": "code",
   "execution_count": 16,
   "id": "83217464",
   "metadata": {},
   "outputs": [
    {
     "name": "stdout",
     "output_type": "stream",
     "text": [
      "If x = 20 and y = 300, then x+y = 320\n"
     ]
    }
   ],
   "source": [
    "message = \"If x = {x} and y = {y}, then x+y = {z}\".format(x = 20, y = 300, z = 20+300)\n",
    "\n",
    "print(message)"
   ]
  },
  {
   "cell_type": "markdown",
   "id": "6cd5694e",
   "metadata": {},
   "source": [
    "# some useful functions "
   ]
  },
  {
   "cell_type": "markdown",
   "id": "a114fe21",
   "metadata": {},
   "source": [
    "join()"
   ]
  },
  {
   "cell_type": "code",
   "execution_count": 17,
   "id": "2fd327ac",
   "metadata": {},
   "outputs": [
    {
     "name": "stdout",
     "output_type": "stream",
     "text": [
      "apple, orange, pineapple\n"
     ]
    }
   ],
   "source": [
    "print(\", \".join([\"apple\", \"orange\", \"pineapple\"]))"
   ]
  },
  {
   "cell_type": "markdown",
   "id": "a9ab0dd6",
   "metadata": {},
   "source": [
    "replace()"
   ]
  },
  {
   "cell_type": "code",
   "execution_count": 18,
   "id": "db6690b9",
   "metadata": {},
   "outputs": [
    {
     "name": "stdout",
     "output_type": "stream",
     "text": [
      "Hello world\n"
     ]
    }
   ],
   "source": [
    "print(\"Hello ME\".replace(\"ME\", \"world\"))"
   ]
  },
  {
   "cell_type": "markdown",
   "id": "3741f768",
   "metadata": {},
   "source": [
    "startswith() and endswith()"
   ]
  },
  {
   "cell_type": "code",
   "execution_count": 20,
   "id": "fc61bd66",
   "metadata": {},
   "outputs": [
    {
     "name": "stdout",
     "output_type": "stream",
     "text": [
      "True\n",
      "True\n"
     ]
    }
   ],
   "source": [
    "print(\"This is a sentence.\".startswith(\"This\"))\n",
    "# prints \"True\"\n",
    "\n",
    "print(\"This is a sentence.\".endswith(\"sentence.\"))\n",
    "# prints \"True\""
   ]
  },
  {
   "cell_type": "markdown",
   "id": "7d540f1b",
   "metadata": {},
   "source": [
    "upper() and lower()"
   ]
  },
  {
   "cell_type": "code",
   "execution_count": 21,
   "id": "6d7226b7",
   "metadata": {},
   "outputs": [
    {
     "name": "stdout",
     "output_type": "stream",
     "text": [
      "THIS IS A SENTENCE.\n",
      "an all caps sentence\n"
     ]
    }
   ],
   "source": [
    "print(\"This is a sentence.\".upper())\n",
    "# prints \"THIS IS A SENTENCE.\"\n",
    "\n",
    "print(\"AN ALL CAPS SENTENCE\".lower())\n",
    "#prints \"an all caps sentence\""
   ]
  },
  {
   "cell_type": "markdown",
   "id": "f8d7c30b",
   "metadata": {},
   "source": [
    "split()"
   ]
  },
  {
   "cell_type": "code",
   "execution_count": 22,
   "id": "4a211201",
   "metadata": {},
   "outputs": [
    {
     "name": "stdout",
     "output_type": "stream",
     "text": [
      "['a', 'e', 'i', 'o', 'u']\n"
     ]
    }
   ],
   "source": [
    "print(\"a, e, i, o, u\".split(\", \"))"
   ]
  },
  {
   "cell_type": "code",
   "execution_count": null,
   "id": "349dafb1",
   "metadata": {},
   "outputs": [],
   "source": []
  }
 ],
 "metadata": {
  "kernelspec": {
   "display_name": "Python 3 (ipykernel)",
   "language": "python",
   "name": "python3"
  },
  "language_info": {
   "codemirror_mode": {
    "name": "ipython",
    "version": 3
   },
   "file_extension": ".py",
   "mimetype": "text/x-python",
   "name": "python",
   "nbconvert_exporter": "python",
   "pygments_lexer": "ipython3",
   "version": "3.8.10"
  }
 },
 "nbformat": 4,
 "nbformat_minor": 5
}
