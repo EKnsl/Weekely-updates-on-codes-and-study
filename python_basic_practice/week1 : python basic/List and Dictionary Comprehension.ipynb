{
 "cells": [
  {
   "cell_type": "code",
   "execution_count": 1,
   "id": "6137147e",
   "metadata": {},
   "outputs": [],
   "source": [
    "num_list = [1, 2, 3, 4, 5, 6, 7, 8, 9, 10]"
   ]
  },
  {
   "cell_type": "markdown",
   "id": "1652d8ac",
   "metadata": {},
   "source": [
    "iterate through list without using list compreshension :"
   ]
  },
  {
   "cell_type": "code",
   "execution_count": 2,
   "id": "a301ea88",
   "metadata": {},
   "outputs": [
    {
     "name": "stdout",
     "output_type": "stream",
     "text": [
      "[2, 4, 6, 8, 10]\n"
     ]
    }
   ],
   "source": [
    "even_num_list = []\n",
    "for num in num_list:\n",
    "    if num % 2 == 0:\n",
    "        even_num_list.append(num)\n",
    "print (even_num_list)"
   ]
  },
  {
   "cell_type": "markdown",
   "id": "ff57bfba",
   "metadata": {},
   "source": [
    "iterate through list elements using list compreshension :"
   ]
  },
  {
   "cell_type": "code",
   "execution_count": 3,
   "id": "5ba9a634",
   "metadata": {},
   "outputs": [
    {
     "name": "stdout",
     "output_type": "stream",
     "text": [
      "[2, 4, 6, 8, 10]\n"
     ]
    }
   ],
   "source": [
    "even_num_list = [even_num for even_num in num_list if even_num % 2 == 0]\n",
    "print (even_num_list)"
   ]
  },
  {
   "cell_type": "code",
   "execution_count": 4,
   "id": "fb7fd36d",
   "metadata": {},
   "outputs": [
    {
     "name": "stdout",
     "output_type": "stream",
     "text": [
      "[2, 4, 6, 8, 10]\n"
     ]
    }
   ],
   "source": [
    "even_num_list = [\n",
    "  num\n",
    "  for num in num_list\n",
    "  if num % 2 == 0\n",
    "]\n",
    "\n",
    "print(even_num_list)"
   ]
  },
  {
   "cell_type": "markdown",
   "id": "2e1f9b22",
   "metadata": {},
   "source": [
    "nested list (list of lists) coprehension: using nested loop"
   ]
  },
  {
   "cell_type": "code",
   "execution_count": 5,
   "id": "c285e316",
   "metadata": {},
   "outputs": [
    {
     "name": "stdout",
     "output_type": "stream",
     "text": [
      "[1, 2, 3, 4, 5, 6]\n"
     ]
    }
   ],
   "source": [
    "matrix_1d = []\n",
    "matrix_2d = [[1, 2, 3],\n",
    "            [4, 5, 6]]\n",
    "\n",
    "for row in matrix_2d:\n",
    "    for num in row:\n",
    "        matrix_1d.append(num)\n",
    "print(matrix_1d)"
   ]
  },
  {
   "cell_type": "markdown",
   "id": "9c215b81",
   "metadata": {},
   "source": [
    "nested list (list of lists) coprehension: using list coprehension"
   ]
  },
  {
   "cell_type": "code",
   "execution_count": 6,
   "id": "584abaa3",
   "metadata": {},
   "outputs": [],
   "source": [
    "matrix_2d = [[1, 2, 3],\n",
    "            [4, 5, 6]]\n",
    "\n",
    "matrix_1d = [num for row in matrix_2d for num in row]"
   ]
  },
  {
   "cell_type": "markdown",
   "id": "af6a8a36",
   "metadata": {},
   "source": [
    "squaring each element in the matrix (list of lists) and stroring in a list: "
   ]
  },
  {
   "cell_type": "code",
   "execution_count": 7,
   "id": "d95c500f",
   "metadata": {},
   "outputs": [
    {
     "data": {
      "text/plain": [
       "[1, 4, 9, 16, 25, 36]"
      ]
     },
     "execution_count": 7,
     "metadata": {},
     "output_type": "execute_result"
    }
   ],
   "source": [
    "matrix_1d = [num**2 for row in matrix_2d for num in row]\n",
    "matrix_1d"
   ]
  },
  {
   "cell_type": "markdown",
   "id": "9b6da791",
   "metadata": {},
   "source": [
    "removing vowels from a text : (without using list comprehension)"
   ]
  },
  {
   "cell_type": "code",
   "execution_count": 10,
   "id": "cf306c9b",
   "metadata": {},
   "outputs": [
    {
     "name": "stdout",
     "output_type": "stream",
     "text": [
      "sentence before removing vowels : \n",
      "I am awesome!\n",
      "\n",
      "sentence after vowels : \n",
      "I m wsm!\n"
     ]
    }
   ],
   "source": [
    "vowels = 'aeiou'\n",
    "sentence = 'I am awesome!'\n",
    "\n",
    "print(\"sentence before removing vowels : \")\n",
    "print(sentence, end='\\n\\n')\n",
    "\n",
    "filtered_letters = []\n",
    "\n",
    "for letter in sentence:\n",
    "    if letter not in vowels:\n",
    "        filtered_letters.append(letter)\n",
    "\n",
    "print(\"sentence after vowels : \")        \n",
    "print(''.join(filtered_letters))"
   ]
  },
  {
   "cell_type": "markdown",
   "id": "218eae74",
   "metadata": {},
   "source": [
    "removing vowels from a text : (without using list comprehension)"
   ]
  },
  {
   "cell_type": "code",
   "execution_count": 12,
   "id": "2cb22ff1",
   "metadata": {},
   "outputs": [
    {
     "name": "stdout",
     "output_type": "stream",
     "text": [
      "sentence before removing vowels : \n",
      "I am awesome\n",
      "\n",
      "sentence after vowels : \n",
      "I m wsm\n"
     ]
    }
   ],
   "source": [
    "vowels = 'aeiou'\n",
    "\n",
    "sentence = 'I am awesome'\n",
    "\n",
    "\n",
    "print(\"sentence before removing vowels : \")\n",
    "print(sentence, end='\\n\\n')\n",
    "\n",
    "filtered_sentence = ''.join([letter for letter in sentence if letter not in vowels])\n",
    "\n",
    "\n",
    "print(\"sentence after vowels : \")        \n",
    "print(filtered_sentence)"
   ]
  },
  {
   "cell_type": "markdown",
   "id": "f9d5825f",
   "metadata": {},
   "source": [
    "iterate through dictionary without using dictionary coprehension : "
   ]
  },
  {
   "cell_type": "code",
   "execution_count": 13,
   "id": "2c5401f1",
   "metadata": {},
   "outputs": [
    {
     "name": "stdout",
     "output_type": "stream",
     "text": [
      "{1: 'Mango', 2: 'Pineapple', 3: 'Watermelon'}\n"
     ]
    }
   ],
   "source": [
    "fruit_ranking = [1, 2, 3]\n",
    "fruit_name = ['Mango', 'Pineapple', 'Watermelon']\n",
    "fruit_rank_dict = {}\n",
    "\n",
    "for i in range(len(fruit_ranking)):\n",
    "    fruit_rank_dict[fruit_ranking[i]] = fruit_name[i]\n",
    "\n",
    "print(fruit_rank_dict)"
   ]
  },
  {
   "cell_type": "markdown",
   "id": "4acab531",
   "metadata": {},
   "source": [
    "using dictionary coprehension : "
   ]
  },
  {
   "cell_type": "code",
   "execution_count": null,
   "id": "f5b8bef3",
   "metadata": {},
   "outputs": [],
   "source": [
    "fruit_ranking = [1, 2, 3]\n",
    "\n",
    "fruit = ['Mango', 'Pineapple', 'Watermelon']\n",
    "\n",
    "fruit_ranking_dict = { fruit_ranking[i] : fruit[i] for i in range(len(fruit_ranking)) }\n",
    "\n",
    "print(fruit_ranking_dict)"
   ]
  }
 ],
 "metadata": {
  "kernelspec": {
   "display_name": "Python 3 (ipykernel)",
   "language": "python",
   "name": "python3"
  },
  "language_info": {
   "codemirror_mode": {
    "name": "ipython",
    "version": 3
   },
   "file_extension": ".py",
   "mimetype": "text/x-python",
   "name": "python",
   "nbconvert_exporter": "python",
   "pygments_lexer": "ipython3",
   "version": "3.8.10"
  }
 },
 "nbformat": 4,
 "nbformat_minor": 5
}
