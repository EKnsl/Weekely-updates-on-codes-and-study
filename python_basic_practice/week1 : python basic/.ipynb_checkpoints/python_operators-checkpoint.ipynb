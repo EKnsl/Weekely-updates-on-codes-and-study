{
 "cells": [
  {
   "cell_type": "markdown",
   "id": "9bbaf4f7",
   "metadata": {},
   "source": [
    "# Arithmetic operators in Python"
   ]
  },
  {
   "cell_type": "code",
   "execution_count": 3,
   "id": "fee27a7a",
   "metadata": {},
   "outputs": [
    {
     "name": "stdout",
     "output_type": "stream",
     "text": [
      "x =  15\n",
      "y =  4\n",
      "\n",
      "\n",
      "x + y = 19\n",
      "x - y = 11\n",
      "x * y = 60\n",
      "x / y = 3.75\n",
      "x // y = 3\n",
      "x ** y = 50625\n"
     ]
    }
   ],
   "source": [
    "x = 15\n",
    "y = 4\n",
    "\n",
    "print(\"x = \", x)\n",
    "print(\"y = \", y)\n",
    "\n",
    "print(\"\\n\")\n",
    "# Output: x + y = 19\n",
    "print('x + y =',x+y)\n",
    "\n",
    "# Output: x - y = 11\n",
    "print('x - y =',x-y)\n",
    "\n",
    "# Output: x * y = 60\n",
    "print('x * y =',x*y)\n",
    "\n",
    "# Output: x / y = 3.75\n",
    "print('x / y =',x/y)\n",
    "\n",
    "# Output: x // y = 3 , // performs integer division\n",
    "print('x // y =',x//y)\n",
    "\n",
    "# Output: x ** y = 50625, perofrms x to the power y\n",
    "print('x ** y =',x**y)"
   ]
  },
  {
   "cell_type": "markdown",
   "id": "6ac61391",
   "metadata": {},
   "source": [
    "# Comparison operators in Python"
   ]
  },
  {
   "cell_type": "code",
   "execution_count": 5,
   "id": "d46fa76d",
   "metadata": {},
   "outputs": [
    {
     "name": "stdout",
     "output_type": "stream",
     "text": [
      "x =  10\n",
      "y =  12\n",
      "\n",
      "\n",
      "x > y is False\n",
      "x < y is True\n",
      "x == y is False\n",
      "x != y is True\n",
      "x >= y is False\n",
      "x <= y is True\n"
     ]
    }
   ],
   "source": [
    "x = 10\n",
    "y = 12\n",
    "\n",
    "print(\"x = \", x)\n",
    "print(\"y = \", y)\n",
    "\n",
    "print(\"\\n\")\n",
    "\n",
    "# Output: x > y is False\n",
    "print('x > y is',x > y)\n",
    "\n",
    "# Output: x < y is True\n",
    "print('x < y is',x < y)\n",
    "\n",
    "# Output: x == y is False\n",
    "print('x == y is',x == y)\n",
    "\n",
    "# Output: x != y is True\n",
    "print('x != y is',x != y)\n",
    "\n",
    "# Output: x >= y is False\n",
    "print('x >= y is',x >= y)\n",
    "\n",
    "# Output: x <= y is True\n",
    "print('x <= y is',x <= y)"
   ]
  },
  {
   "cell_type": "markdown",
   "id": "375960da",
   "metadata": {},
   "source": [
    "# Logical Operators in Python"
   ]
  },
  {
   "cell_type": "code",
   "execution_count": 6,
   "id": "ade6b7f4",
   "metadata": {},
   "outputs": [
    {
     "name": "stdout",
     "output_type": "stream",
     "text": [
      "x =  True\n",
      "y =  False\n",
      "\n",
      "\n",
      "x and y is False\n",
      "x or y is True\n",
      "not x is False\n"
     ]
    }
   ],
   "source": [
    "x = True\n",
    "y = False\n",
    "\n",
    "print(\"x = \", x)\n",
    "print(\"y = \", y)\n",
    "print(\"\\n\")\n",
    "\n",
    "print('x and y is',x and y)\n",
    "\n",
    "print('x or y is',x or y)\n",
    "\n",
    "print('not x is',not x)"
   ]
  },
  {
   "cell_type": "markdown",
   "id": "54af6c05",
   "metadata": {},
   "source": [
    "# Identity operators in Python"
   ]
  },
  {
   "cell_type": "code",
   "execution_count": 7,
   "id": "ec206913",
   "metadata": {},
   "outputs": [
    {
     "name": "stdout",
     "output_type": "stream",
     "text": [
      "x1 =  5\n",
      "y1 =  5\n",
      "x2 =  Hello\n",
      "y2 =  Hello\n",
      "x3 =  [1, 2, 3]\n",
      "y3 =  [1, 2, 3]\n",
      "\n",
      "\n",
      "False\n",
      "True\n",
      "False\n"
     ]
    }
   ],
   "source": [
    "x1 = 5\n",
    "y1 = 5\n",
    "x2 = 'Hello'\n",
    "y2 = 'Hello'\n",
    "x3 = [1,2,3]\n",
    "y3 = [1,2,3]\n",
    "\n",
    "print(\"x1 = \", x1)\n",
    "print(\"y1 = \", y1)\n",
    "print(\"x2 = \", x2)\n",
    "print(\"y2 = \", y2)\n",
    "print(\"x3 = \", x3)\n",
    "print(\"y3 = \", y3)\n",
    "print(\"\\n\")\n",
    "\n",
    "# Output: False\n",
    "print(x1 is not y1)\n",
    "\n",
    "# Output: True\n",
    "print(x2 is y2)\n",
    "\n",
    "# Output: False\n",
    "print(x3 is y3)"
   ]
  },
  {
   "cell_type": "markdown",
   "id": "c25de3e7",
   "metadata": {},
   "source": []
  },
  {
   "cell_type": "code",
   "execution_count": null,
   "id": "862e32b8",
   "metadata": {},
   "outputs": [],
   "source": []
  }
 ],
 "metadata": {
  "kernelspec": {
   "display_name": "Python 3 (ipykernel)",
   "language": "python",
   "name": "python3"
  },
  "language_info": {
   "codemirror_mode": {
    "name": "ipython",
    "version": 3
   },
   "file_extension": ".py",
   "mimetype": "text/x-python",
   "name": "python",
   "nbconvert_exporter": "python",
   "pygments_lexer": "ipython3",
   "version": "3.8.10"
  }
 },
 "nbformat": 4,
 "nbformat_minor": 5
}
