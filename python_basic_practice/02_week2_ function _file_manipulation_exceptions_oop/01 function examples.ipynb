{
 "cells": [
  {
   "cell_type": "markdown",
   "id": "34b625a9",
   "metadata": {},
   "source": [
    "We use functions for readability and reusability."
   ]
  },
  {
   "cell_type": "markdown",
   "id": "96b04c3b",
   "metadata": {},
   "source": [
    "In Python, a function is a group of related statements that performs a specific task."
   ]
  },
  {
   "cell_type": "markdown",
   "id": "5deea1c2",
   "metadata": {},
   "source": [
    " A unction definition consists of the following components.\n",
    "\n",
    "   1. Keyword def that marks the start of the function header.\n",
    "   2. A function name to uniquely identify the function. Function naming follows the same rules of writing identifiers in Python.\n",
    "   3. Parameters (arguments) through which we pass values to a function. They are optional.\n",
    "   4. A colon (:) to mark the end of the function header.\n",
    "   5. Optional documentation string (docstring) to describe what the function does.\n",
    "   6. One or more valid python statements that make up the function body. Statements must have the same indentation level (usually 4 spaces).\n",
    "   7. An optional return statement to return a value from the function.\n"
   ]
  },
  {
   "cell_type": "code",
   "execution_count": 7,
   "id": "efa55064",
   "metadata": {},
   "outputs": [],
   "source": [
    "def simple_function():\n",
    "    print(\"Hello World!\")"
   ]
  },
  {
   "cell_type": "code",
   "execution_count": 8,
   "id": "c0520f8e",
   "metadata": {},
   "outputs": [
    {
     "name": "stdout",
     "output_type": "stream",
     "text": [
      "Hello World!\n"
     ]
    }
   ],
   "source": [
    "simple_function()"
   ]
  },
  {
   "cell_type": "markdown",
   "id": "3e76b412",
   "metadata": {},
   "source": [
    "After defining a function , we can call it as many times as we can"
   ]
  },
  {
   "cell_type": "code",
   "execution_count": 9,
   "id": "30c73425",
   "metadata": {},
   "outputs": [
    {
     "name": "stdout",
     "output_type": "stream",
     "text": [
      "Hello World!\n",
      "Hello World!\n",
      "Hello World!\n",
      "Hello World!\n",
      "Hello World!\n"
     ]
    }
   ],
   "source": [
    "for i in range(5) : \n",
    "    simple_function()"
   ]
  },
  {
   "cell_type": "markdown",
   "id": "aaa8fc76",
   "metadata": {},
   "source": [
    "A function may or may not return something . For example, the function defined above does not have a return statement."
   ]
  },
  {
   "cell_type": "code",
   "execution_count": 10,
   "id": "9f690358",
   "metadata": {},
   "outputs": [
    {
     "name": "stdout",
     "output_type": "stream",
     "text": [
      "Hello World!\n",
      "None\n",
      "<class 'NoneType'>\n"
     ]
    }
   ],
   "source": [
    "return_value = simple_function()\n",
    "print(return_value)\n",
    "print(type(return_value))"
   ]
  },
  {
   "cell_type": "code",
   "execution_count": null,
   "id": "3a8b28cd",
   "metadata": {},
   "outputs": [],
   "source": []
  },
  {
   "cell_type": "code",
   "execution_count": null,
   "id": "5dc4ee5e",
   "metadata": {},
   "outputs": [],
   "source": []
  },
  {
   "cell_type": "code",
   "execution_count": null,
   "id": "fbfec460",
   "metadata": {},
   "outputs": [],
   "source": []
  },
  {
   "cell_type": "code",
   "execution_count": null,
   "id": "26cfd75b",
   "metadata": {},
   "outputs": [],
   "source": []
  },
  {
   "cell_type": "markdown",
   "id": "bf08a8e9",
   "metadata": {},
   "source": [
    "# Reference : \n",
    "https://python.howtocode.dev/function-and-module/functions\n",
    "\n",
    "https://www.programiz.com/python-programming/function"
   ]
  },
  {
   "cell_type": "code",
   "execution_count": null,
   "id": "8913e825",
   "metadata": {},
   "outputs": [],
   "source": []
  }
 ],
 "metadata": {
  "kernelspec": {
   "display_name": "Python 3 (ipykernel)",
   "language": "python",
   "name": "python3"
  },
  "language_info": {
   "codemirror_mode": {
    "name": "ipython",
    "version": 3
   },
   "file_extension": ".py",
   "mimetype": "text/x-python",
   "name": "python",
   "nbconvert_exporter": "python",
   "pygments_lexer": "ipython3",
   "version": "3.8.10"
  }
 },
 "nbformat": 4,
 "nbformat_minor": 5
}
