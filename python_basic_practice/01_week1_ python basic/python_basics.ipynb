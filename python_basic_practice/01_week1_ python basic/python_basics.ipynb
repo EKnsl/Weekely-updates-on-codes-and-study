{
 "cells": [
  {
   "cell_type": "code",
   "execution_count": null,
   "id": "ac68f17d",
   "metadata": {},
   "outputs": [],
   "source": [
    "This notebook demonstates the use of None, string data type, basic input - output e.t.c "
   ]
  },
  {
   "cell_type": "markdown",
   "id": "b3c8bf66",
   "metadata": {},
   "source": [
    "# None data type"
   ]
  },
  {
   "cell_type": "code",
   "execution_count": 1,
   "id": "3062f83a",
   "metadata": {},
   "outputs": [
    {
     "name": "stdout",
     "output_type": "stream",
     "text": [
      "<class 'NoneType'>\n"
     ]
    }
   ],
   "source": [
    "print(type(None) )"
   ]
  },
  {
   "cell_type": "code",
   "execution_count": 7,
   "id": "e1bbf6ff",
   "metadata": {},
   "outputs": [
    {
     "data": {
      "text/plain": [
       "False"
      ]
     },
     "execution_count": 7,
     "metadata": {},
     "output_type": "execute_result"
    }
   ],
   "source": [
    "None == False"
   ]
  },
  {
   "cell_type": "code",
   "execution_count": 8,
   "id": "8145f798",
   "metadata": {},
   "outputs": [
    {
     "data": {
      "text/plain": [
       "False"
      ]
     },
     "execution_count": 8,
     "metadata": {},
     "output_type": "execute_result"
    }
   ],
   "source": [
    "None == \"\""
   ]
  },
  {
   "cell_type": "code",
   "execution_count": 9,
   "id": "5780c953",
   "metadata": {},
   "outputs": [
    {
     "data": {
      "text/plain": [
       "False"
      ]
     },
     "execution_count": 9,
     "metadata": {},
     "output_type": "execute_result"
    }
   ],
   "source": [
    "None == []"
   ]
  },
  {
   "cell_type": "code",
   "execution_count": 10,
   "id": "aa52ec34",
   "metadata": {},
   "outputs": [
    {
     "data": {
      "text/plain": [
       "False"
      ]
     },
     "execution_count": 10,
     "metadata": {},
     "output_type": "execute_result"
    }
   ],
   "source": [
    "None == 0"
   ]
  },
  {
   "cell_type": "code",
   "execution_count": 11,
   "id": "a52776bd",
   "metadata": {},
   "outputs": [
    {
     "data": {
      "text/plain": [
       "True"
      ]
     },
     "execution_count": 11,
     "metadata": {},
     "output_type": "execute_result"
    }
   ],
   "source": [
    "None == None"
   ]
  },
  {
   "cell_type": "code",
   "execution_count": 12,
   "id": "006775ce",
   "metadata": {},
   "outputs": [],
   "source": [
    "a = None"
   ]
  },
  {
   "cell_type": "code",
   "execution_count": 13,
   "id": "f6f070d8",
   "metadata": {},
   "outputs": [
    {
     "data": {
      "text/plain": [
       "True"
      ]
     },
     "execution_count": 13,
     "metadata": {},
     "output_type": "execute_result"
    }
   ],
   "source": [
    "a == None"
   ]
  },
  {
   "cell_type": "code",
   "execution_count": 14,
   "id": "31d56700",
   "metadata": {},
   "outputs": [
    {
     "name": "stdout",
     "output_type": "stream",
     "text": [
      "None\n"
     ]
    }
   ],
   "source": [
    "print(a)"
   ]
  },
  {
   "cell_type": "markdown",
   "id": "f330ef33",
   "metadata": {},
   "source": [
    "When the funcion does not return anything , we get None if we store this in a variable"
   ]
  },
  {
   "cell_type": "code",
   "execution_count": 16,
   "id": "43293349",
   "metadata": {},
   "outputs": [
    {
     "name": "stdout",
     "output_type": "stream",
     "text": [
      "Printing Hello\n",
      "None\n"
     ]
    }
   ],
   "source": [
    "def my_func():\n",
    "    print(\"Printing Hello\")\n",
    "\n",
    "what_i_got = my_func()\n",
    "print(what_i_got)"
   ]
  },
  {
   "cell_type": "markdown",
   "id": "573fafad",
   "metadata": {},
   "source": [
    "# string \n",
    "In python, string is defined as a sequence of characters such as uppercase (A to Z),\n",
    "\n",
    "lowercase(a to z), digits (0 to 9) , ' ' (space) and some special characters  \n",
    "\n",
    "the characters are enclosed inside two single (' '), double (\" \") or triple quotes (\"\"\" \"\"\")"
   ]
  },
  {
   "cell_type": "code",
   "execution_count": 18,
   "id": "07cfd343",
   "metadata": {},
   "outputs": [
    {
     "data": {
      "text/plain": [
       "'We love python!'"
      ]
     },
     "execution_count": 18,
     "metadata": {},
     "output_type": "execute_result"
    }
   ],
   "source": [
    "\"We love python!\""
   ]
  },
  {
   "cell_type": "code",
   "execution_count": 19,
   "id": "c9fbf413",
   "metadata": {},
   "outputs": [
    {
     "data": {
      "text/plain": [
       "'The most popular general purpose programming language'"
      ]
     },
     "execution_count": 19,
     "metadata": {},
     "output_type": "execute_result"
    }
   ],
   "source": [
    "'The most popular general purpose programming language'"
   ]
  },
  {
   "cell_type": "code",
   "execution_count": 22,
   "id": "fd702789",
   "metadata": {},
   "outputs": [
    {
     "name": "stdout",
     "output_type": "stream",
     "text": [
      "\n",
      "This \n",
      "is\n",
      "a\n",
      "multiline \n",
      "string\n",
      "\n"
     ]
    }
   ],
   "source": [
    "s = \"\"\"\n",
    "This \n",
    "is\n",
    "a\n",
    "multiline \n",
    "string\n",
    "\"\"\"\n",
    "print(s)"
   ]
  },
  {
   "cell_type": "markdown",
   "id": "a3023658",
   "metadata": {},
   "source": [
    "To include quotes or some special characters inside string, sometimes we need to add some escape sequence"
   ]
  },
  {
   "cell_type": "code",
   "execution_count": 24,
   "id": "9bb98616",
   "metadata": {},
   "outputs": [
    {
     "data": {
      "text/plain": [
       "\"Brian's mother: He's not the Messiah. He's a very naughty boy!\""
      ]
     },
     "execution_count": 24,
     "metadata": {},
     "output_type": "execute_result"
    }
   ],
   "source": [
    "'Brian\\'s mother: He\\'s not the Messiah. He\\'s a very naughty boy!'"
   ]
  },
  {
   "cell_type": "markdown",
   "id": "83839e01",
   "metadata": {},
   "source": [
    "input() :  used to take  input in python"
   ]
  },
  {
   "cell_type": "code",
   "execution_count": 30,
   "id": "3f7e5822",
   "metadata": {},
   "outputs": [
    {
     "name": "stdout",
     "output_type": "stream",
     "text": [
      "Give me your country name: Bangladesh\n"
     ]
    },
    {
     "data": {
      "text/plain": [
       "'Bangladesh'"
      ]
     },
     "execution_count": 30,
     "metadata": {},
     "output_type": "execute_result"
    }
   ],
   "source": [
    "input(\"Give me your country name: \")"
   ]
  },
  {
   "cell_type": "markdown",
   "id": "48f5bce3",
   "metadata": {},
   "source": [
    "print() : to print anything "
   ]
  },
  {
   "cell_type": "code",
   "execution_count": 32,
   "id": "5bf07b9e",
   "metadata": {},
   "outputs": [
    {
     "name": "stdout",
     "output_type": "stream",
     "text": [
      "Name: Bangladeash\n",
      "Population: 156.6M\n"
     ]
    }
   ],
   "source": [
    "print('Name: Bangladeash\\nPopulation: 156.6M')"
   ]
  },
  {
   "cell_type": "markdown",
   "id": "0959058b",
   "metadata": {},
   "source": [
    "# Reference"
   ]
  },
  {
   "cell_type": "markdown",
   "id": "f9bb3e4c",
   "metadata": {},
   "source": [
    "https://python.howtocode.dev/data-types/none\n",
    "\n",
    "https://python.howtocode.dev/basic-concept/string"
   ]
  },
  {
   "cell_type": "code",
   "execution_count": null,
   "id": "a94668ce",
   "metadata": {},
   "outputs": [],
   "source": []
  }
 ],
 "metadata": {
  "kernelspec": {
   "display_name": "Python 3 (ipykernel)",
   "language": "python",
   "name": "python3"
  },
  "language_info": {
   "codemirror_mode": {
    "name": "ipython",
    "version": 3
   },
   "file_extension": ".py",
   "mimetype": "text/x-python",
   "name": "python",
   "nbconvert_exporter": "python",
   "pygments_lexer": "ipython3",
   "version": "3.8.10"
  }
 },
 "nbformat": 4,
 "nbformat_minor": 5
}
