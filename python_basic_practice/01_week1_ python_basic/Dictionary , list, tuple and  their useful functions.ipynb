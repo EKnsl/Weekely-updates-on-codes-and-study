{
 "cells": [
  {
   "cell_type": "markdown",
   "id": "c9ba0a9a",
   "metadata": {},
   "source": [
    "# dictionary :\n",
    "- works as key-value pair\n",
    "- the keys must be immutable, data types which are mutable cannot be directly used as dictionary keys"
   ]
  },
  {
   "cell_type": "code",
   "execution_count": 2,
   "id": "5be3b996",
   "metadata": {},
   "outputs": [
    {
     "data": {
      "text/plain": [
       "{}"
      ]
     },
     "execution_count": 2,
     "metadata": {},
     "output_type": "execute_result"
    }
   ],
   "source": [
    "my_dictionary = {}\n",
    "my_dictionary"
   ]
  },
  {
   "cell_type": "code",
   "execution_count": 3,
   "id": "c4ad09c2",
   "metadata": {},
   "outputs": [
    {
     "data": {
      "text/plain": [
       "{'Bengali': 80, 'English': 85, 'Math': 90}"
      ]
     },
     "execution_count": 3,
     "metadata": {},
     "output_type": "execute_result"
    }
   ],
   "source": [
    "my_marks = {\"Bengali\": 80, \"English\": 85, \"Math\": 90}\n",
    "my_marks"
   ]
  },
  {
   "cell_type": "code",
   "execution_count": 4,
   "id": "4a15a260",
   "metadata": {},
   "outputs": [
    {
     "name": "stdout",
     "output_type": "stream",
     "text": [
      "90\n"
     ]
    }
   ],
   "source": [
    "my_marks = {\"Bengali\": 80, \"English\": 85, \"Math\": 90}\n",
    "print(my_marks[\"Math\"])"
   ]
  },
  {
   "cell_type": "code",
   "execution_count": 5,
   "id": "84582098",
   "metadata": {},
   "outputs": [
    {
     "data": {
      "text/plain": [
       "{'Bengali': [30, 35, 32], 'English': [45, 52, 33], 'Math': [60, 74, 58]}"
      ]
     },
     "execution_count": 5,
     "metadata": {},
     "output_type": "execute_result"
    }
   ],
   "source": [
    "my_marks = {\"Bengali\" : [30, 35, 32], \"English\" : [45, 52, 33], \"Math\": [60, 74, 58]}\n",
    "my_marks"
   ]
  },
  {
   "cell_type": "code",
   "execution_count": 6,
   "id": "19769c6e",
   "metadata": {},
   "outputs": [
    {
     "ename": "TypeError",
     "evalue": "unhashable type: 'list'",
     "output_type": "error",
     "traceback": [
      "\u001b[0;31m---------------------------------------------------------------------------\u001b[0m",
      "\u001b[0;31mTypeError\u001b[0m                                 Traceback (most recent call last)",
      "Input \u001b[0;32mIn [6]\u001b[0m, in \u001b[0;36m<cell line: 2>\u001b[0;34m()\u001b[0m\n\u001b[1;32m      1\u001b[0m \u001b[38;5;66;03m#will give error\u001b[39;00m\n\u001b[0;32m----> 2\u001b[0m my_marks \u001b[38;5;241m=\u001b[39m {[\u001b[38;5;241m30\u001b[39m, \u001b[38;5;241m35\u001b[39m, \u001b[38;5;241m32\u001b[39m] : \u001b[38;5;124m\"\u001b[39m\u001b[38;5;124mBengali\u001b[39m\u001b[38;5;124m\"\u001b[39m, [\u001b[38;5;241m45\u001b[39m, \u001b[38;5;241m52\u001b[39m, \u001b[38;5;241m33\u001b[39m] : \u001b[38;5;124m\"\u001b[39m\u001b[38;5;124mEnglish\u001b[39m\u001b[38;5;124m\"\u001b[39m, [\u001b[38;5;241m60\u001b[39m, \u001b[38;5;241m74\u001b[39m, \u001b[38;5;241m58\u001b[39m] : \u001b[38;5;124m\"\u001b[39m\u001b[38;5;124mMath\u001b[39m\u001b[38;5;124m\"\u001b[39m}\n",
      "\u001b[0;31mTypeError\u001b[0m: unhashable type: 'list'"
     ]
    }
   ],
   "source": [
    "#will give error\n",
    "my_marks = {[30, 35, 32] : \"Bengali\", [45, 52, 33] : \"English\", [60, 74, 58] : \"Math\"}"
   ]
  },
  {
   "cell_type": "code",
   "execution_count": 7,
   "id": "5602b32e",
   "metadata": {},
   "outputs": [
    {
     "name": "stdout",
     "output_type": "stream",
     "text": [
      "[2, 4, 6, 8]\n"
     ]
    }
   ],
   "source": [
    "my_list = [2, 4, 6, 7]\n",
    "my_list[3] = 8\n",
    "\n",
    "print(my_list)"
   ]
  },
  {
   "cell_type": "code",
   "execution_count": 8,
   "id": "9f50ea2e",
   "metadata": {},
   "outputs": [
    {
     "name": "stdout",
     "output_type": "stream",
     "text": [
      "{1: 1, 2: 4, 3: 9, 4: 16}\n"
     ]
    }
   ],
   "source": [
    "my_nums = {1 : 1, 2 : 4, 3 : 9, 4 : \"What?\"}\n",
    "my_nums[4] = 16\n",
    "\n",
    "print(my_nums)"
   ]
  },
  {
   "cell_type": "code",
   "execution_count": 9,
   "id": "ce265e1a",
   "metadata": {},
   "outputs": [
    {
     "ename": "IndexError",
     "evalue": "list assignment index out of range",
     "output_type": "error",
     "traceback": [
      "\u001b[0;31m---------------------------------------------------------------------------\u001b[0m",
      "\u001b[0;31mIndexError\u001b[0m                                Traceback (most recent call last)",
      "Input \u001b[0;32mIn [9]\u001b[0m, in \u001b[0;36m<cell line: 2>\u001b[0;34m()\u001b[0m\n\u001b[1;32m      1\u001b[0m my_list \u001b[38;5;241m=\u001b[39m [\u001b[38;5;241m2\u001b[39m, \u001b[38;5;241m4\u001b[39m, \u001b[38;5;241m6\u001b[39m, \u001b[38;5;241m8\u001b[39m]\n\u001b[0;32m----> 2\u001b[0m my_list[\u001b[38;5;241m4\u001b[39m] \u001b[38;5;241m=\u001b[39m \u001b[38;5;241m10\u001b[39m\n",
      "\u001b[0;31mIndexError\u001b[0m: list assignment index out of range"
     ]
    }
   ],
   "source": [
    "my_list = [2, 4, 6, 8]\n",
    "my_list[4] = 10"
   ]
  },
  {
   "cell_type": "code",
   "execution_count": 10,
   "id": "b8d17e06",
   "metadata": {},
   "outputs": [
    {
     "name": "stdout",
     "output_type": "stream",
     "text": [
      "{1: 1, 2: 4, 3: 9, 4: 16, 5: 25}\n"
     ]
    }
   ],
   "source": [
    "my_nums = {1 : 1, 2 : 4, 3 : 9, 4 : 16}\n",
    "my_nums[5] = 25\n",
    "\n",
    "print(my_nums)"
   ]
  },
  {
   "cell_type": "markdown",
   "id": "90900628",
   "metadata": {},
   "source": [
    "# tuples"
   ]
  },
  {
   "cell_type": "code",
   "execution_count": 15,
   "id": "d48bd278",
   "metadata": {},
   "outputs": [
    {
     "data": {
      "text/plain": [
       "'Operator'"
      ]
     },
     "execution_count": 15,
     "metadata": {},
     "output_type": "execute_result"
    }
   ],
   "source": [
    "roles = (\"Admin\", \"Operator\", \"User\")\n",
    "roles[1]"
   ]
  },
  {
   "cell_type": "code",
   "execution_count": 16,
   "id": "480d2c88",
   "metadata": {},
   "outputs": [
    {
     "ename": "TypeError",
     "evalue": "'tuple' object does not support item assignment",
     "output_type": "error",
     "traceback": [
      "\u001b[0;31m---------------------------------------------------------------------------\u001b[0m",
      "\u001b[0;31mTypeError\u001b[0m                                 Traceback (most recent call last)",
      "Input \u001b[0;32mIn [16]\u001b[0m, in \u001b[0;36m<cell line: 1>\u001b[0;34m()\u001b[0m\n\u001b[0;32m----> 1\u001b[0m roles[\u001b[38;5;241m2\u001b[39m] \u001b[38;5;241m=\u001b[39m \u001b[38;5;124m\"\u001b[39m\u001b[38;5;124mCustomer\u001b[39m\u001b[38;5;124m\"\u001b[39m\n",
      "\u001b[0;31mTypeError\u001b[0m: 'tuple' object does not support item assignment"
     ]
    }
   ],
   "source": [
    "roles[2] = \"Customer\""
   ]
  },
  {
   "cell_type": "code",
   "execution_count": 17,
   "id": "1530ce9e",
   "metadata": {},
   "outputs": [
    {
     "name": "stdout",
     "output_type": "stream",
     "text": [
      "Development\n"
     ]
    }
   ],
   "source": [
    "permissions = ((\"Admin\", \"Operator\", \"Customer\"), (\"Developer\", \"Tester\"), [1, 2, 3], {\"Stage\": \"Development\"})\n",
    "\n",
    "print(permissions[3][\"Stage\"])"
   ]
  },
  {
   "cell_type": "code",
   "execution_count": 19,
   "id": "80a8994f",
   "metadata": {},
   "outputs": [
    {
     "name": "stdout",
     "output_type": "stream",
     "text": [
      "<class 'tuple'>\n",
      "1\n",
      "2\n",
      "3\n"
     ]
    }
   ],
   "source": [
    "numbers = (1, 2, 3)\n",
    "a, b, c = numbers\n",
    "print(type(numbers))\n",
    "print(a)\n",
    "print(b)\n",
    "print(c)"
   ]
  },
  {
   "cell_type": "markdown",
   "id": "523e08ab",
   "metadata": {},
   "source": [
    "# list"
   ]
  },
  {
   "cell_type": "markdown",
   "id": "47cf3e2d",
   "metadata": {},
   "source": [
    "list slicing :"
   ]
  },
  {
   "cell_type": "code",
   "execution_count": 21,
   "id": "7cba56fd",
   "metadata": {},
   "outputs": [
    {
     "name": "stdout",
     "output_type": "stream",
     "text": [
      "[60, 65, 69, 76]\n",
      "\n",
      "[80, 85, 90]\n",
      "\n",
      "[2, 4, 6, 32]\n",
      "\n"
     ]
    }
   ],
   "source": [
    "some_marks = [2, 4, 6, 32, 60, 65, 69, 76, 80, 85, 90]\n",
    "\n",
    "avg_marks = some_marks[4:8]\n",
    "print(avg_marks, end = '\\n\\n')\n",
    "\n",
    "good_marks = some_marks[8:]\n",
    "print(good_marks, end = '\\n\\n')\n",
    "\n",
    "poor_marks = some_marks[:4]\n",
    "print(poor_marks, end = '\\n\\n')"
   ]
  },
  {
   "cell_type": "code",
   "execution_count": 22,
   "id": "1f3a8bfc",
   "metadata": {},
   "outputs": [
    {
     "name": "stdout",
     "output_type": "stream",
     "text": [
      "[3, 6, 9]\n"
     ]
    }
   ],
   "source": [
    "numbers = [1, 2, 3, 4, 5, 6, 7, 8, 9, 10]\n",
    "print(numbers[2:9:3])"
   ]
  },
  {
   "cell_type": "markdown",
   "id": "87b8555e",
   "metadata": {},
   "source": [
    "slicing with negative index : "
   ]
  },
  {
   "cell_type": "code",
   "execution_count": 23,
   "id": "72d9b701",
   "metadata": {},
   "outputs": [
    {
     "name": "stdout",
     "output_type": "stream",
     "text": [
      "[0, 1, 4, 9, 16, 25, 36, 49, 64, 81]\n"
     ]
    }
   ],
   "source": [
    "squares = [1, 2, 5, 0, 1, 4, 9, 16, 25, 36, 49, 64, 81, 4, 6, 7, 8]\n",
    "print(squares[3:-4])"
   ]
  },
  {
   "cell_type": "markdown",
   "id": "8410a677",
   "metadata": {},
   "source": [
    "list reverse :"
   ]
  },
  {
   "cell_type": "code",
   "execution_count": 24,
   "id": "be25a2d0",
   "metadata": {},
   "outputs": [
    {
     "name": "stdout",
     "output_type": "stream",
     "text": [
      "[8, 7, 6, 5, 4, 3]\n"
     ]
    }
   ],
   "source": [
    "values = [3, 4, 5, 6, 7, 8]\n",
    "print(values[::-1])"
   ]
  },
  {
   "cell_type": "markdown",
   "id": "bea772e5",
   "metadata": {},
   "source": [
    "some common numeric operations on list"
   ]
  },
  {
   "cell_type": "code",
   "execution_count": 25,
   "id": "8970b7ac",
   "metadata": {},
   "outputs": [
    {
     "name": "stdout",
     "output_type": "stream",
     "text": [
      "0\n",
      "9\n",
      "15\n"
     ]
    }
   ],
   "source": [
    "# Prints the minimum value among all the elements of the list below\n",
    "print(min([1, 2, 3, 4, 0, 2, 1]))\n",
    "\n",
    "# Prints the maximum value among all the elements of the following list\n",
    "print(max([1, 4, 9, 2, 5, 6, 8]))\n",
    "\n",
    "# Print sum of all the elements of the following list\n",
    "print(sum([1, 2, 3, 4, 5]))"
   ]
  },
  {
   "cell_type": "code",
   "execution_count": null,
   "id": "c39ed75f",
   "metadata": {},
   "outputs": [],
   "source": []
  },
  {
   "cell_type": "code",
   "execution_count": null,
   "id": "eca01cb8",
   "metadata": {},
   "outputs": [],
   "source": []
  },
  {
   "cell_type": "code",
   "execution_count": null,
   "id": "03742b05",
   "metadata": {},
   "outputs": [],
   "source": []
  },
  {
   "cell_type": "code",
   "execution_count": null,
   "id": "b2fbf6f3",
   "metadata": {},
   "outputs": [],
   "source": []
  },
  {
   "cell_type": "code",
   "execution_count": null,
   "id": "c26e1cc0",
   "metadata": {},
   "outputs": [],
   "source": []
  },
  {
   "cell_type": "code",
   "execution_count": null,
   "id": "bbc93278",
   "metadata": {},
   "outputs": [],
   "source": []
  },
  {
   "cell_type": "markdown",
   "id": "2fcd60d1",
   "metadata": {},
   "source": [
    "# Reference :"
   ]
  },
  {
   "cell_type": "markdown",
   "id": "0a9400f5",
   "metadata": {},
   "source": [
    "https://python.howtocode.dev/data-types/dictionary\n",
    "\n",
    "https://python.howtocode.dev/data-types/dictionary-function\n",
    "\n",
    "https://python.howtocode.dev/data-types/tuple\n",
    "\n",
    "https://python.howtocode.dev/data-types/more-list-opt\n",
    "\n",
    "https://python.howtocode.dev/data-types/list-dict-comprehension"
   ]
  }
 ],
 "metadata": {
  "kernelspec": {
   "display_name": "Python 3 (ipykernel)",
   "language": "python",
   "name": "python3"
  },
  "language_info": {
   "codemirror_mode": {
    "name": "ipython",
    "version": 3
   },
   "file_extension": ".py",
   "mimetype": "text/x-python",
   "name": "python",
   "nbconvert_exporter": "python",
   "pygments_lexer": "ipython3",
   "version": "3.8.10"
  }
 },
 "nbformat": 4,
 "nbformat_minor": 5
}
