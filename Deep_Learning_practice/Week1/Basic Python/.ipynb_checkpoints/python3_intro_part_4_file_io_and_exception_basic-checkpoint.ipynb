{
 "cells": [
  {
   "cell_type": "markdown",
   "id": "d3210d55",
   "metadata": {},
   "source": [
    "# Index\n",
    "\n",
    "- File I/O\n",
    "\n",
    "- OS Module\n"
   ]
  },
  {
   "cell_type": "markdown",
   "id": "fbd47a73",
   "metadata": {},
   "source": [
    "# File manipulation"
   ]
  },
  {
   "cell_type": "code",
   "execution_count": 2,
   "id": "0946864f",
   "metadata": {},
   "outputs": [],
   "source": [
    "# make a file \n",
    "my_file = open('paragraph.txt', 'w') #will create a new file if the file does not exist\n",
    "my_file.write('This is python file')\n",
    "my_file.close()"
   ]
  },
  {
   "cell_type": "code",
   "execution_count": 8,
   "id": "8b30e161",
   "metadata": {},
   "outputs": [
    {
     "name": "stdout",
     "output_type": "stream",
     "text": [
      "<class '_io.TextIOWrapper'>\n"
     ]
    }
   ],
   "source": [
    "# open a file\n",
    "my_file = open('paragraph.txt', 'r')\n",
    "print(type(my_file))"
   ]
  },
  {
   "cell_type": "code",
   "execution_count": 9,
   "id": "eb6b7af3",
   "metadata": {},
   "outputs": [
    {
     "name": "stdout",
     "output_type": "stream",
     "text": [
      "type: <class 'list'>\n",
      "['This is python file']\n"
     ]
    }
   ],
   "source": [
    "#reading line by line from file\n",
    "lines = my_file.readlines()\n",
    "print('type:', type(lines))\n",
    "print(lines)\n",
    "my_file.close()"
   ]
  },
  {
   "cell_type": "code",
   "execution_count": 10,
   "id": "861ad392",
   "metadata": {},
   "outputs": [],
   "source": [
    "# best practics for file IO\n",
    "subjects = ['CSE', 'ETE', 'EEE', 'ME', 'CE']\n",
    "with open('subject.txt', 'w') as f:\n",
    "    for subject in subjects:\n",
    "        f.write(subject + '\\n')"
   ]
  },
  {
   "cell_type": "code",
   "execution_count": 11,
   "id": "e49e4083",
   "metadata": {},
   "outputs": [
    {
     "name": "stdout",
     "output_type": "stream",
     "text": [
      "text from file:\n",
      "CSE\n",
      "\n",
      "ETE\n",
      "\n",
      "EEE\n",
      "\n",
      "ME\n",
      "\n",
      "CE\n",
      "\n"
     ]
    }
   ],
   "source": [
    "print('text from file:')\n",
    "with open('subject.txt', 'r') as f:\n",
    "    for line in f:\n",
    "        print(line)"
   ]
  },
  {
   "cell_type": "code",
   "execution_count": 12,
   "id": "fa9dbb25",
   "metadata": {},
   "outputs": [
    {
     "name": "stdout",
     "output_type": "stream",
     "text": [
      "exlude new line:\n",
      "CSE\n",
      "ETE\n",
      "EEE\n",
      "ME\n",
      "CE\n"
     ]
    }
   ],
   "source": [
    "# print file content excluding extra new line\n",
    "print('exlude new line:')\n",
    "with open('subject.txt', 'r') as f:\n",
    "    for line in f:\n",
    "        print(line.strip('\\n'))"
   ]
  },
  {
   "cell_type": "code",
   "execution_count": 16,
   "id": "afd2db9f",
   "metadata": {},
   "outputs": [
    {
     "name": "stdout",
     "output_type": "stream",
     "text": [
      "read 1'st time\n",
      "CSE\n",
      "ETE\n",
      "EEE\n",
      "ME\n",
      "CE\n",
      "read 2'nd time\n"
     ]
    }
   ],
   "source": [
    "#comment out the 1st or 2nd for loop and observe\n",
    "with open('subject.txt', 'r') as f:\n",
    "    print('read 1\\'st time')\n",
    "    for line in f:\n",
    "        print(line.strip('\\n'))\n",
    "    \n",
    "    print('read 2\\'nd time')\n",
    "    for line in f:\n",
    "        print(line.strip('\\n'))\n"
   ]
  },
  {
   "cell_type": "code",
   "execution_count": 17,
   "id": "7dc8fefb",
   "metadata": {},
   "outputs": [
    {
     "name": "stdout",
     "output_type": "stream",
     "text": [
      "<class '_io.TextIOWrapper'>\n"
     ]
    }
   ],
   "source": [
    "with open('subject.txt', 'r') as f:\n",
    "    print(type(f))"
   ]
  },
  {
   "cell_type": "markdown",
   "id": "c67a3129",
   "metadata": {},
   "source": [
    "# Python Standered Modules\n",
    "\n",
    "OS"
   ]
  },
  {
   "cell_type": "code",
   "execution_count": 19,
   "id": "530a133b",
   "metadata": {},
   "outputs": [],
   "source": [
    "import os\n",
    "\n",
    "current_working_dir = os.getcwd()\n",
    "# print(current_working_dir)"
   ]
  },
  {
   "cell_type": "code",
   "execution_count": 20,
   "id": "27a7b1a3",
   "metadata": {},
   "outputs": [
    {
     "data": {
      "text/plain": [
       "['python3_intro_part_2.ipynb',\n",
       " 'python3_intro_part_3.ipynb',\n",
       " 'paragraph.txt',\n",
       " '.ipynb_checkpoints',\n",
       " 'python3_intro_part_4.ipynb',\n",
       " 'subject.txt',\n",
       " 'python3_intro_part_1.ipynb']"
      ]
     },
     "execution_count": 20,
     "metadata": {},
     "output_type": "execute_result"
    }
   ],
   "source": [
    "os.listdir(current_working_dir)"
   ]
  },
  {
   "cell_type": "code",
   "execution_count": 23,
   "id": "ba17897d",
   "metadata": {},
   "outputs": [
    {
     "name": "stdout",
     "output_type": "stream",
     "text": [
      "train  -created.\n",
      "test  -created.\n"
     ]
    }
   ],
   "source": [
    "# make some folder using os\n",
    "folders = ['train', 'test']\n",
    "for folder in folders:\n",
    "    os.makedirs(folder)\n",
    "    print(folder, ' -created.')"
   ]
  },
  {
   "cell_type": "code",
   "execution_count": 25,
   "id": "cef98590",
   "metadata": {},
   "outputs": [
    {
     "name": "stdout",
     "output_type": "stream",
     "text": [
      "validation  -created.\n"
     ]
    },
    {
     "ename": "FileExistsError",
     "evalue": "[Errno 17] File exists: 'train'",
     "output_type": "error",
     "traceback": [
      "\u001b[0;31m---------------------------------------------------------------------------\u001b[0m",
      "\u001b[0;31mFileExistsError\u001b[0m                           Traceback (most recent call last)",
      "Input \u001b[0;32mIn [25]\u001b[0m, in \u001b[0;36m<cell line: 4>\u001b[0;34m()\u001b[0m\n\u001b[1;32m      3\u001b[0m folders \u001b[38;5;241m=\u001b[39m [\u001b[38;5;124m'\u001b[39m\u001b[38;5;124mvalidation\u001b[39m\u001b[38;5;124m'\u001b[39m,\u001b[38;5;124m'\u001b[39m\u001b[38;5;124mtrain\u001b[39m\u001b[38;5;124m'\u001b[39m, \u001b[38;5;124m'\u001b[39m\u001b[38;5;124mtest\u001b[39m\u001b[38;5;124m'\u001b[39m]\n\u001b[1;32m      4\u001b[0m \u001b[38;5;28;01mfor\u001b[39;00m folder \u001b[38;5;129;01min\u001b[39;00m folders:\n\u001b[0;32m----> 5\u001b[0m     \u001b[43mos\u001b[49m\u001b[38;5;241;43m.\u001b[39;49m\u001b[43mmakedirs\u001b[49m\u001b[43m(\u001b[49m\u001b[43mfolder\u001b[49m\u001b[43m)\u001b[49m\n\u001b[1;32m      6\u001b[0m     \u001b[38;5;28mprint\u001b[39m(folder, \u001b[38;5;124m'\u001b[39m\u001b[38;5;124m -created.\u001b[39m\u001b[38;5;124m'\u001b[39m)\n",
      "File \u001b[0;32m/usr/lib/python3.8/os.py:223\u001b[0m, in \u001b[0;36mmakedirs\u001b[0;34m(name, mode, exist_ok)\u001b[0m\n\u001b[1;32m    221\u001b[0m         \u001b[38;5;28;01mreturn\u001b[39;00m\n\u001b[1;32m    222\u001b[0m \u001b[38;5;28;01mtry\u001b[39;00m:\n\u001b[0;32m--> 223\u001b[0m     \u001b[43mmkdir\u001b[49m\u001b[43m(\u001b[49m\u001b[43mname\u001b[49m\u001b[43m,\u001b[49m\u001b[43m \u001b[49m\u001b[43mmode\u001b[49m\u001b[43m)\u001b[49m\n\u001b[1;32m    224\u001b[0m \u001b[38;5;28;01mexcept\u001b[39;00m \u001b[38;5;167;01mOSError\u001b[39;00m:\n\u001b[1;32m    225\u001b[0m     \u001b[38;5;66;03m# Cannot rely on checking for EEXIST, since the operating system\u001b[39;00m\n\u001b[1;32m    226\u001b[0m     \u001b[38;5;66;03m# could give priority to other errors like EACCES or EROFS\u001b[39;00m\n\u001b[1;32m    227\u001b[0m     \u001b[38;5;28;01mif\u001b[39;00m \u001b[38;5;129;01mnot\u001b[39;00m exist_ok \u001b[38;5;129;01mor\u001b[39;00m \u001b[38;5;129;01mnot\u001b[39;00m path\u001b[38;5;241m.\u001b[39misdir(name):\n",
      "\u001b[0;31mFileExistsError\u001b[0m: [Errno 17] File exists: 'train'"
     ]
    }
   ],
   "source": [
    "# make some folder using os\n",
    "# if file already exists then what happend ? \n",
    "folders = ['validation','train', 'test']\n",
    "for folder in folders:\n",
    "    os.makedirs(folder)\n",
    "    print(folder, ' -created.')"
   ]
  },
  {
   "cell_type": "code",
   "execution_count": 26,
   "id": "6f65a001",
   "metadata": {},
   "outputs": [
    {
     "name": "stdout",
     "output_type": "stream",
     "text": [
      "train  -already exists.\n",
      "test  -already exists.\n"
     ]
    }
   ],
   "source": [
    "# solution\n",
    "folders = ['train', 'test']\n",
    "for folder in folders:\n",
    "    if not os.path.exists(folder):\n",
    "        os.makedirs(folder)\n",
    "        print(folder, ' -created.')\n",
    "    else:\n",
    "        print(folder, ' -already exists.')"
   ]
  },
  {
   "cell_type": "code",
   "execution_count": 30,
   "id": "4d07b2c1",
   "metadata": {},
   "outputs": [
    {
     "name": "stdout",
     "output_type": "stream",
     "text": [
      "cat\n",
      "  train/cat\n",
      "dog\n",
      "  train/dog\n"
     ]
    }
   ],
   "source": [
    "class_names = ['cat', 'dog']\n",
    "for _class in class_names:\n",
    "    train_path = os.path.join('train', _class)\n",
    "    print(_class)\n",
    "    print(' ', train_path)"
   ]
  },
  {
   "cell_type": "code",
   "execution_count": 35,
   "id": "429998e0",
   "metadata": {},
   "outputs": [],
   "source": [
    "train_cat_absulote_path = os.path.join(os.getcwd(), 'train/cat')\n",
    "# print(train_cat_absulote_path)"
   ]
  },
  {
   "cell_type": "code",
   "execution_count": 36,
   "id": "728c84b4",
   "metadata": {},
   "outputs": [
    {
     "ename": "FileNotFoundError",
     "evalue": "[Errno 2] No such file or directory: '/home/nsl56/Desktop/Weekely-updates-on-codes-and-study/Deep_Learning_practice/Week1/Basic Python/train/cat'",
     "output_type": "error",
     "traceback": [
      "\u001b[0;31m---------------------------------------------------------------------------\u001b[0m",
      "\u001b[0;31mFileNotFoundError\u001b[0m                         Traceback (most recent call last)",
      "Input \u001b[0;32mIn [36]\u001b[0m, in \u001b[0;36m<cell line: 2>\u001b[0;34m()\u001b[0m\n\u001b[1;32m      1\u001b[0m \u001b[38;5;66;03m# get size of the folder\u001b[39;00m\n\u001b[0;32m----> 2\u001b[0m \u001b[43mos\u001b[49m\u001b[38;5;241;43m.\u001b[39;49m\u001b[43mpath\u001b[49m\u001b[38;5;241;43m.\u001b[39;49m\u001b[43mgetsize\u001b[49m\u001b[43m(\u001b[49m\u001b[43mtrain_cat_absulote_path\u001b[49m\u001b[43m)\u001b[49m\n",
      "File \u001b[0;32m/usr/lib/python3.8/genericpath.py:50\u001b[0m, in \u001b[0;36mgetsize\u001b[0;34m(filename)\u001b[0m\n\u001b[1;32m     48\u001b[0m \u001b[38;5;28;01mdef\u001b[39;00m \u001b[38;5;21mgetsize\u001b[39m(filename):\n\u001b[1;32m     49\u001b[0m     \u001b[38;5;124;03m\"\"\"Return the size of a file, reported by os.stat().\"\"\"\u001b[39;00m\n\u001b[0;32m---> 50\u001b[0m     \u001b[38;5;28;01mreturn\u001b[39;00m \u001b[43mos\u001b[49m\u001b[38;5;241;43m.\u001b[39;49m\u001b[43mstat\u001b[49m\u001b[43m(\u001b[49m\u001b[43mfilename\u001b[49m\u001b[43m)\u001b[49m\u001b[38;5;241m.\u001b[39mst_size\n",
      "\u001b[0;31mFileNotFoundError\u001b[0m: [Errno 2] No such file or directory: '/home/nsl56/Desktop/Weekely-updates-on-codes-and-study/Deep_Learning_practice/Week1/Basic Python/train/cat'"
     ]
    }
   ],
   "source": [
    "# get size of the folder\n",
    "os.path.getsize(train_cat_absulote_path)"
   ]
  },
  {
   "cell_type": "code",
   "execution_count": 39,
   "id": "05a2576c",
   "metadata": {},
   "outputs": [],
   "source": [
    "# using shell command\n",
    "# !du -sh path"
   ]
  },
  {
   "cell_type": "code",
   "execution_count": 42,
   "id": "773b260a",
   "metadata": {},
   "outputs": [
    {
     "name": "stdout",
     "output_type": "stream",
     "text": [
      "paragraph.txt\n",
      "python3_intro_part_1.ipynb\n",
      "python3_intro_part_2.ipynb\n",
      "python3_intro_part_3.ipynb\n",
      "python3_intro_part_4.ipynb\n",
      "subject.txt\n",
      "test\n",
      "train\n",
      "validation\n",
      "0\n"
     ]
    }
   ],
   "source": [
    "import os\n",
    "\n",
    "# !pwd\n",
    "\n",
    "# run system command using os \n",
    "sys_command = 'pwd'\n",
    "print(os.system(\"ls\"))"
   ]
  },
  {
   "cell_type": "code",
   "execution_count": 44,
   "id": "7dff037d",
   "metadata": {},
   "outputs": [],
   "source": [
    "# !ls -ltr"
   ]
  },
  {
   "cell_type": "code",
   "execution_count": 45,
   "id": "0121c2b8",
   "metadata": {},
   "outputs": [],
   "source": [
    "root = 'test_os_walk'\n",
    "i = 0\n",
    "for r, d, f in os.walk(root):\n",
    "    spacing = len(r.split('/')) - 1\n",
    "    print('\\t' * spacing, 'root  :', r)\n",
    "    print('\\t' * spacing, 'folder:', d)\n",
    "    print('\\t' * spacing, 'file  :', f)\n",
    "    i += 1"
   ]
  },
  {
   "cell_type": "code",
   "execution_count": 46,
   "id": "33c2e29f",
   "metadata": {},
   "outputs": [],
   "source": [
    "# os.remove(path_to_remove)\n",
    "# os.rename(old_name, new_name)"
   ]
  },
  {
   "cell_type": "markdown",
   "id": "e45f1caa",
   "metadata": {},
   "source": [
    "# glob"
   ]
  },
  {
   "cell_type": "code",
   "execution_count": null,
   "id": "e7a500e0",
   "metadata": {},
   "outputs": [],
   "source": []
  },
  {
   "cell_type": "markdown",
   "id": "03e48b27",
   "metadata": {},
   "source": [
    "# shutil"
   ]
  },
  {
   "cell_type": "code",
   "execution_count": 47,
   "id": "85162eed",
   "metadata": {},
   "outputs": [],
   "source": [
    "import shutil\n",
    "\n",
    "# shutil.rmtree(path/to/dir)\n",
    "# shutil.copy(src, des)\n",
    "# shutil.move(src, des)"
   ]
  },
  {
   "cell_type": "markdown",
   "id": "2777da28",
   "metadata": {},
   "source": [
    "# try catch block : "
   ]
  },
  {
   "cell_type": "code",
   "execution_count": 48,
   "id": "3a25f6cd",
   "metadata": {},
   "outputs": [
    {
     "name": "stdout",
     "output_type": "stream",
     "text": [
      "0 / 1 = 0.0\n",
      "1 / 4 = 0.25\n",
      "2 / 5 = 0.4\n"
     ]
    },
    {
     "ename": "ZeroDivisionError",
     "evalue": "division by zero",
     "output_type": "error",
     "traceback": [
      "\u001b[0;31m---------------------------------------------------------------------------\u001b[0m",
      "\u001b[0;31mZeroDivisionError\u001b[0m                         Traceback (most recent call last)",
      "Input \u001b[0;32mIn [48]\u001b[0m, in \u001b[0;36m<cell line: 6>\u001b[0;34m()\u001b[0m\n\u001b[1;32m      4\u001b[0m     \u001b[38;5;28;01mfor\u001b[39;00m i \u001b[38;5;129;01min\u001b[39;00m \u001b[38;5;28mrange\u001b[39m(n):\n\u001b[1;32m      5\u001b[0m         \u001b[38;5;28mprint\u001b[39m(\u001b[38;5;124m'\u001b[39m\u001b[38;5;132;01m{}\u001b[39;00m\u001b[38;5;124m / \u001b[39m\u001b[38;5;132;01m{}\u001b[39;00m\u001b[38;5;124m = \u001b[39m\u001b[38;5;132;01m{}\u001b[39;00m\u001b[38;5;124m'\u001b[39m\u001b[38;5;241m.\u001b[39mformat(i, data[i], i \u001b[38;5;241m/\u001b[39m data[i]))\n\u001b[0;32m----> 6\u001b[0m \u001b[43mcalculate\u001b[49m\u001b[43m(\u001b[49m\u001b[43m)\u001b[49m\n",
      "Input \u001b[0;32mIn [48]\u001b[0m, in \u001b[0;36mcalculate\u001b[0;34m()\u001b[0m\n\u001b[1;32m      3\u001b[0m n \u001b[38;5;241m=\u001b[39m \u001b[38;5;28mlen\u001b[39m(data)\n\u001b[1;32m      4\u001b[0m \u001b[38;5;28;01mfor\u001b[39;00m i \u001b[38;5;129;01min\u001b[39;00m \u001b[38;5;28mrange\u001b[39m(n):\n\u001b[0;32m----> 5\u001b[0m     \u001b[38;5;28mprint\u001b[39m(\u001b[38;5;124m'\u001b[39m\u001b[38;5;132;01m{}\u001b[39;00m\u001b[38;5;124m / \u001b[39m\u001b[38;5;132;01m{}\u001b[39;00m\u001b[38;5;124m = \u001b[39m\u001b[38;5;132;01m{}\u001b[39;00m\u001b[38;5;124m'\u001b[39m\u001b[38;5;241m.\u001b[39mformat(i, data[i], \u001b[43mi\u001b[49m\u001b[43m \u001b[49m\u001b[38;5;241;43m/\u001b[39;49m\u001b[43m \u001b[49m\u001b[43mdata\u001b[49m\u001b[43m[\u001b[49m\u001b[43mi\u001b[49m\u001b[43m]\u001b[49m))\n",
      "\u001b[0;31mZeroDivisionError\u001b[0m: division by zero"
     ]
    }
   ],
   "source": [
    "def calculate():\n",
    "    data = [1, 4, 5, 0, 10, 500]\n",
    "    n = len(data)\n",
    "    for i in range(n):\n",
    "        print('{} / {} = {}'.format(i, data[i], i / data[i]))\n",
    "calculate()"
   ]
  },
  {
   "cell_type": "code",
   "execution_count": 49,
   "id": "e8c8cf85",
   "metadata": {},
   "outputs": [],
   "source": [
    "def calculate():\n",
    "    data = [1, 4, 5, 0, 10, 500]\n",
    "    n = len(data)\n",
    "    for i in range(n):\n",
    "        try:\n",
    "            print('{} / {} = {}'.format(i, data[i], i / data[i]))\n",
    "        except Exception as e:\n",
    "            print('Exception is:', e)"
   ]
  },
  {
   "cell_type": "code",
   "execution_count": 50,
   "id": "6d8669dc",
   "metadata": {},
   "outputs": [
    {
     "name": "stdout",
     "output_type": "stream",
     "text": [
      "0 / 1 = 0.0\n",
      "1 / 4 = 0.25\n",
      "2 / 5 = 0.4\n",
      "Exception is: division by zero\n",
      "4 / 10 = 0.4\n",
      "5 / 500 = 0.01\n"
     ]
    }
   ],
   "source": [
    "calculate()"
   ]
  },
  {
   "cell_type": "markdown",
   "id": "fd4844c1",
   "metadata": {},
   "source": [
    "# Resource\n",
    "\n",
    "https://www.programiz.com/python-programming/file-operation\n",
    "\n",
    "https://www.geeksforgeeks.org/file-handling-python/\n",
    "\n",
    "https://www.w3resource.com/python-exercises/file/\n",
    "\n",
    "https://docs.python.org/3/library/exceptions.html#concrete-exceptions\n",
    "\n",
    "https://realpython.com/python-exceptions/"
   ]
  },
  {
   "cell_type": "code",
   "execution_count": null,
   "id": "2ebed5fb",
   "metadata": {},
   "outputs": [],
   "source": []
  }
 ],
 "metadata": {
  "kernelspec": {
   "display_name": "Python 3 (ipykernel)",
   "language": "python",
   "name": "python3"
  },
  "language_info": {
   "codemirror_mode": {
    "name": "ipython",
    "version": 3
   },
   "file_extension": ".py",
   "mimetype": "text/x-python",
   "name": "python",
   "nbconvert_exporter": "python",
   "pygments_lexer": "ipython3",
   "version": "3.8.10"
  }
 },
 "nbformat": 4,
 "nbformat_minor": 5
}
