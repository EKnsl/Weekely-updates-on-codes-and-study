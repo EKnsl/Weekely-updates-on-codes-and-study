{
 "cells": [
  {
   "cell_type": "markdown",
   "id": "a1092713",
   "metadata": {},
   "source": [
    "# Index\n",
    "\n",
    "- Class & Object\n",
    "    - `__init__`\n",
    "- Inheritence\n",
    "- Magic Method\n",
    "    - `__call__`\n",
    "    - `__setitem__`\n",
    "    - `__getitem__`"
   ]
  },
  {
   "cell_type": "markdown",
   "id": "b176e860",
   "metadata": {},
   "source": [
    "# Class and Object"
   ]
  },
  {
   "cell_type": "code",
   "execution_count": 2,
   "id": "192a9f90",
   "metadata": {},
   "outputs": [
    {
     "ename": "IndentationError",
     "evalue": "expected an indented block (329298011.py, line 4)",
     "output_type": "error",
     "traceback": [
      "\u001b[0;36m  Input \u001b[0;32mIn [2]\u001b[0;36m\u001b[0m\n\u001b[0;31m    c = Computer()\u001b[0m\n\u001b[0m    ^\u001b[0m\n\u001b[0;31mIndentationError\u001b[0m\u001b[0;31m:\u001b[0m expected an indented block\n"
     ]
    }
   ],
   "source": [
    "class Computer:\n",
    "#     pass\n",
    "\n",
    "c = Computer()\n",
    "print(c)"
   ]
  },
  {
   "cell_type": "code",
   "execution_count": 3,
   "id": "9d1f1627",
   "metadata": {},
   "outputs": [
    {
     "name": "stdout",
     "output_type": "stream",
     "text": [
      "<__main__.Computer object at 0x7fd1885c9d60>\n"
     ]
    }
   ],
   "source": [
    "class Computer:\n",
    "    pass\n",
    "\n",
    "c = Computer()\n",
    "print(c)"
   ]
  },
  {
   "cell_type": "code",
   "execution_count": 4,
   "id": "d92ad833",
   "metadata": {},
   "outputs": [
    {
     "ename": "TypeError",
     "evalue": "__init__() missing 2 required positional arguments: 'computer_type' and 'color'",
     "output_type": "error",
     "traceback": [
      "\u001b[0;31m---------------------------------------------------------------------------\u001b[0m",
      "\u001b[0;31mTypeError\u001b[0m                                 Traceback (most recent call last)",
      "Input \u001b[0;32mIn [4]\u001b[0m, in \u001b[0;36m<cell line: 6>\u001b[0;34m()\u001b[0m\n\u001b[1;32m      3\u001b[0m         \u001b[38;5;28mself\u001b[39m\u001b[38;5;241m.\u001b[39mcomputer_type \u001b[38;5;241m=\u001b[39m computer_type\n\u001b[1;32m      4\u001b[0m         \u001b[38;5;28mself\u001b[39m\u001b[38;5;241m.\u001b[39mcolor \u001b[38;5;241m=\u001b[39m color\n\u001b[0;32m----> 6\u001b[0m c \u001b[38;5;241m=\u001b[39m \u001b[43mComputer\u001b[49m\u001b[43m(\u001b[49m\u001b[43m)\u001b[49m\n",
      "\u001b[0;31mTypeError\u001b[0m: __init__() missing 2 required positional arguments: 'computer_type' and 'color'"
     ]
    }
   ],
   "source": [
    "class Computer:\n",
    "    def __init__(self, computer_type, color):\n",
    "        self.computer_type = computer_type\n",
    "        self.color = color\n",
    "    \n",
    "c = Computer()"
   ]
  },
  {
   "cell_type": "code",
   "execution_count": 5,
   "id": "b06b03ec",
   "metadata": {},
   "outputs": [
    {
     "name": "stdout",
     "output_type": "stream",
     "text": [
      "Computer type : Laptop\n",
      "Computer color: Black\n"
     ]
    }
   ],
   "source": [
    "c = Computer('Laptop', 'Black')\n",
    "print('Computer type :', c.computer_type)\n",
    "print('Computer color:', c.color)"
   ]
  },
  {
   "cell_type": "code",
   "execution_count": 6,
   "id": "751dc765",
   "metadata": {},
   "outputs": [
    {
     "name": "stdout",
     "output_type": "stream",
     "text": [
      "Object info after init object\n",
      "Computer type : Desktop\n",
      "Computer color: Silver\n"
     ]
    }
   ],
   "source": [
    "class Computer:\n",
    "    def __init__(self, computer_type, color):\n",
    "        self.computer_type = computer_type\n",
    "        self.color = color\n",
    "    \n",
    "    def set_type(self, name):\n",
    "        self.computer_type = name\n",
    "    \n",
    "    def set_color(self, color):\n",
    "        self.color = color\n",
    "    \n",
    "c = Computer('Desktop', 'Silver')\n",
    "print('Object info after init object')\n",
    "print('Computer type :', c.computer_type)\n",
    "print('Computer color:', c.color)"
   ]
  },
  {
   "cell_type": "code",
   "execution_count": 7,
   "id": "6f08003c",
   "metadata": {},
   "outputs": [
    {
     "name": "stdout",
     "output_type": "stream",
     "text": [
      "Change computer type\n",
      "Computer type : Laptop\n",
      "Computer color: Silver\n"
     ]
    }
   ],
   "source": [
    "print('Change computer type')\n",
    "c.set_type('Laptop')\n",
    "print('Computer type :', c.computer_type)\n",
    "print('Computer color:', c.color)"
   ]
  },
  {
   "cell_type": "code",
   "execution_count": 8,
   "id": "3bb62fa4",
   "metadata": {},
   "outputs": [
    {
     "name": "stdout",
     "output_type": "stream",
     "text": [
      "Change computer color\n",
      "Computer type : Laptop\n",
      "Computer color: yellow\n"
     ]
    }
   ],
   "source": [
    "print('Change computer color')\n",
    "c.set_color('yellow')\n",
    "print('Computer type :', c.computer_type)\n",
    "print('Computer color:', c.color)"
   ]
  },
  {
   "cell_type": "code",
   "execution_count": 9,
   "id": "6383dcde",
   "metadata": {},
   "outputs": [
    {
     "ename": "TypeError",
     "evalue": "__init__() missing 2 required positional arguments: 'computer_type' and 'color'",
     "output_type": "error",
     "traceback": [
      "\u001b[0;31m---------------------------------------------------------------------------\u001b[0m",
      "\u001b[0;31mTypeError\u001b[0m                                 Traceback (most recent call last)",
      "Input \u001b[0;32mIn [9]\u001b[0m, in \u001b[0;36m<cell line: 4>\u001b[0;34m()\u001b[0m\n\u001b[1;32m      1\u001b[0m \u001b[38;5;28;01mclass\u001b[39;00m \u001b[38;5;21;01mLaptop\u001b[39;00m(Computer):\n\u001b[1;32m      2\u001b[0m     \u001b[38;5;28;01mpass\u001b[39;00m\n\u001b[0;32m----> 4\u001b[0m laptop \u001b[38;5;241m=\u001b[39m \u001b[43mLaptop\u001b[49m\u001b[43m(\u001b[49m\u001b[43m)\u001b[49m\n",
      "\u001b[0;31mTypeError\u001b[0m: __init__() missing 2 required positional arguments: 'computer_type' and 'color'"
     ]
    }
   ],
   "source": [
    "class Laptop(Computer):\n",
    "    pass\n",
    "\n",
    "laptop = Laptop()"
   ]
  },
  {
   "cell_type": "code",
   "execution_count": 10,
   "id": "ea8372fc",
   "metadata": {},
   "outputs": [],
   "source": [
    "laptop = Laptop('Laptop', 'Geen')"
   ]
  },
  {
   "cell_type": "code",
   "execution_count": 11,
   "id": "f471eaac",
   "metadata": {},
   "outputs": [
    {
     "data": {
      "text/plain": [
       "['__class__',\n",
       " '__delattr__',\n",
       " '__dict__',\n",
       " '__dir__',\n",
       " '__doc__',\n",
       " '__eq__',\n",
       " '__format__',\n",
       " '__ge__',\n",
       " '__getattribute__',\n",
       " '__gt__',\n",
       " '__hash__',\n",
       " '__init__',\n",
       " '__init_subclass__',\n",
       " '__le__',\n",
       " '__lt__',\n",
       " '__module__',\n",
       " '__ne__',\n",
       " '__new__',\n",
       " '__reduce__',\n",
       " '__reduce_ex__',\n",
       " '__repr__',\n",
       " '__setattr__',\n",
       " '__sizeof__',\n",
       " '__str__',\n",
       " '__subclasshook__',\n",
       " '__weakref__',\n",
       " 'color',\n",
       " 'computer_type',\n",
       " 'set_color',\n",
       " 'set_type']"
      ]
     },
     "execution_count": 11,
     "metadata": {},
     "output_type": "execute_result"
    }
   ],
   "source": [
    "dir(laptop)"
   ]
  },
  {
   "cell_type": "code",
   "execution_count": 12,
   "id": "ebddb90d",
   "metadata": {},
   "outputs": [
    {
     "name": "stdout",
     "output_type": "stream",
     "text": [
      "Laptop Geen\n"
     ]
    }
   ],
   "source": [
    "print(laptop.computer_type, laptop.color)"
   ]
  },
  {
   "cell_type": "markdown",
   "id": "5d1966c6",
   "metadata": {},
   "source": [
    "# Inheritence"
   ]
  },
  {
   "cell_type": "code",
   "execution_count": 13,
   "id": "1997ad2b",
   "metadata": {},
   "outputs": [
    {
     "ename": "TypeError",
     "evalue": "__init__() takes 1 positional argument but 3 were given",
     "output_type": "error",
     "traceback": [
      "\u001b[0;31m---------------------------------------------------------------------------\u001b[0m",
      "\u001b[0;31mTypeError\u001b[0m                                 Traceback (most recent call last)",
      "Input \u001b[0;32mIn [13]\u001b[0m, in \u001b[0;36m<cell line: 5>\u001b[0;34m()\u001b[0m\n\u001b[1;32m      2\u001b[0m     \u001b[38;5;28;01mdef\u001b[39;00m \u001b[38;5;21m__init__\u001b[39m(\u001b[38;5;28mself\u001b[39m):\n\u001b[1;32m      3\u001b[0m         \u001b[38;5;28;01mpass\u001b[39;00m\n\u001b[0;32m----> 5\u001b[0m laptop \u001b[38;5;241m=\u001b[39m \u001b[43mLaptop\u001b[49m\u001b[43m(\u001b[49m\u001b[38;5;124;43m'\u001b[39;49m\u001b[38;5;124;43mLaptop\u001b[39;49m\u001b[38;5;124;43m'\u001b[39;49m\u001b[43m,\u001b[49m\u001b[43m \u001b[49m\u001b[38;5;124;43m'\u001b[39;49m\u001b[38;5;124;43mgreen\u001b[39;49m\u001b[38;5;124;43m'\u001b[39;49m\u001b[43m)\u001b[49m\n",
      "\u001b[0;31mTypeError\u001b[0m: __init__() takes 1 positional argument but 3 were given"
     ]
    }
   ],
   "source": [
    "class Laptop(Computer):\n",
    "    def __init__(self):\n",
    "        pass\n",
    "\n",
    "laptop = Laptop('Laptop', 'green')"
   ]
  },
  {
   "cell_type": "code",
   "execution_count": 14,
   "id": "e125997a",
   "metadata": {},
   "outputs": [],
   "source": [
    "class Laptop(Computer):\n",
    "    def __init__(self, computer_type, color):\n",
    "        super().__init__(computer_type, color)\n",
    "        \n",
    "\n",
    "laptop = Laptop('Laptop', 'green')"
   ]
  },
  {
   "cell_type": "code",
   "execution_count": 15,
   "id": "9bedffcb",
   "metadata": {},
   "outputs": [
    {
     "name": "stdout",
     "output_type": "stream",
     "text": [
      "Laptop green\n"
     ]
    }
   ],
   "source": [
    "print(laptop.computer_type, laptop.color)"
   ]
  },
  {
   "cell_type": "code",
   "execution_count": 23,
   "id": "4c61a3b0",
   "metadata": {},
   "outputs": [
    {
     "name": "stdout",
     "output_type": "stream",
     "text": [
      "Computer(type:Laptop, color:green, price:2000)\n",
      "type  : Laptop\n",
      "color : green\n",
      "bprice: 2000\n"
     ]
    }
   ],
   "source": [
    "class Laptop(Computer):\n",
    "    def __init__(self, computer_type, color, battery_price):\n",
    "        super().__init__(computer_type, color)\n",
    "        self.battery_price = battery_price\n",
    "    \n",
    "    def __repr__(self):\n",
    "        return 'Computer(type:{}, color:{}, price:{})'.format(\n",
    "            self.computer_type, self.color, self.battery_price)\n",
    "    \n",
    "    def set_battery_price(self, price):\n",
    "        self.battery_price = price\n",
    "        \n",
    "\n",
    "laptop = Laptop('Laptop', 'green', 2000)\n",
    "print(laptop)\n",
    "# access super class attribue\n",
    "print('type  :', laptop.computer_type)\n",
    "print('color :', laptop.color)\n",
    "# access drive class attribue\n",
    "print('bprice:', laptop.battery_price)"
   ]
  },
  {
   "cell_type": "code",
   "execution_count": 24,
   "id": "44b3ddb5",
   "metadata": {},
   "outputs": [
    {
     "name": "stdout",
     "output_type": "stream",
     "text": [
      "updated color: new color\n"
     ]
    }
   ],
   "source": [
    "# change super class attribute\n",
    "laptop.set_color('new color')\n",
    "print('updated color:', laptop.color)"
   ]
  },
  {
   "cell_type": "markdown",
   "id": "37a2659c",
   "metadata": {},
   "source": [
    "# Magic Mathods"
   ]
  },
  {
   "cell_type": "markdown",
   "id": "435a3164",
   "metadata": {},
   "source": [
    "## Make object callable"
   ]
  },
  {
   "cell_type": "code",
   "execution_count": 26,
   "id": "4c344ec1",
   "metadata": {},
   "outputs": [
    {
     "ename": "TypeError",
     "evalue": "'Laptop' object is not callable",
     "output_type": "error",
     "traceback": [
      "\u001b[0;31m---------------------------------------------------------------------------\u001b[0m",
      "\u001b[0;31mTypeError\u001b[0m                                 Traceback (most recent call last)",
      "Input \u001b[0;32mIn [26]\u001b[0m, in \u001b[0;36m<cell line: 3>\u001b[0;34m()\u001b[0m\n\u001b[1;32m      1\u001b[0m \u001b[38;5;66;03m# callable __call__()\u001b[39;00m\n\u001b[1;32m      2\u001b[0m laptop \u001b[38;5;241m=\u001b[39m Laptop(\u001b[38;5;124m'\u001b[39m\u001b[38;5;124mLaptop\u001b[39m\u001b[38;5;124m'\u001b[39m, \u001b[38;5;124m'\u001b[39m\u001b[38;5;124mblue\u001b[39m\u001b[38;5;124m'\u001b[39m, \u001b[38;5;241m5000\u001b[39m)\n\u001b[0;32m----> 3\u001b[0m \u001b[43mlaptop\u001b[49m\u001b[43m(\u001b[49m\u001b[43m)\u001b[49m\n",
      "\u001b[0;31mTypeError\u001b[0m: 'Laptop' object is not callable"
     ]
    }
   ],
   "source": [
    "# callable __call__()\n",
    "laptop = Laptop('Laptop', 'blue', 5000)\n",
    "laptop()"
   ]
  },
  {
   "cell_type": "code",
   "execution_count": 27,
   "id": "cca81e13",
   "metadata": {},
   "outputs": [
    {
     "name": "stdout",
     "output_type": "stream",
     "text": [
      "Computer(type:Laptop, color:blue, price:5000)\n"
     ]
    }
   ],
   "source": [
    "class Laptop(Computer):\n",
    "    def __init__(self, computer_type, color, battery_price):\n",
    "        super().__init__(computer_type, color)\n",
    "        self.battery_price = battery_price\n",
    "    \n",
    "    def __repr__(self):\n",
    "        return 'Computer(type:{}, color:{}, price:{})'.format(\n",
    "            self.computer_type, self.color, self.battery_price)\n",
    "\n",
    "    def __call__(self, *args):\n",
    "        self.computer_type, self.color, self.battery_price = args\n",
    "        return self\n",
    "    \n",
    "    def set_battery_price(self, price):\n",
    "        self.battery_price = price\n",
    "    \n",
    "        \n",
    "laptop = Laptop('Laptop', 'blue', 5000)\n",
    "print(laptop)\n"
   ]
  },
  {
   "cell_type": "code",
   "execution_count": 28,
   "id": "26a64f33",
   "metadata": {},
   "outputs": [
    {
     "name": "stdout",
     "output_type": "stream",
     "text": [
      "Computer(type:Notebook, color:blue, price:3000)\n"
     ]
    }
   ],
   "source": [
    "new_laptop = laptop('Notebook', 'blue', 3000)\n",
    "print(new_laptop)"
   ]
  },
  {
   "cell_type": "markdown",
   "id": "d261aad5",
   "metadata": {},
   "source": [
    "### setitem & getitem"
   ]
  },
  {
   "cell_type": "code",
   "execution_count": 29,
   "id": "323b48bc",
   "metadata": {},
   "outputs": [
    {
     "name": "stdout",
     "output_type": "stream",
     "text": [
      "Building([Geography, Mathmatics, CSE, EEE])\n"
     ]
    }
   ],
   "source": [
    "# __setitem__, __getitem__\n",
    "class Building:\n",
    "    def __init__(self, floors):\n",
    "        self._floors = [None]*floors\n",
    "     \n",
    "    def __repr__(self):\n",
    "        return \"Building([{}, {}, {}, {}])\".format(*self._floors)\n",
    "    \n",
    "    def __setitem__(self, floor_number, data):\n",
    "        self._floors[floor_number] = data\n",
    "    \n",
    "    def __getitem__(self, floor_number):\n",
    "        return self._floors[floor_number]\n",
    "\n",
    "# make a building with 3 floors\n",
    "building = Building(4)\n",
    "\n",
    "building[0] = 'Geography'\n",
    "building[1] = 'Mathmatics'\n",
    "building[2] = 'CSE'\n",
    "building[3] = 'EEE'\n",
    "print(building)"
   ]
  },
  {
   "cell_type": "code",
   "execution_count": 30,
   "id": "57d44856",
   "metadata": {},
   "outputs": [
    {
     "name": "stdout",
     "output_type": "stream",
     "text": [
      "Geography\n"
     ]
    }
   ],
   "source": [
    "print(building[0])"
   ]
  },
  {
   "cell_type": "code",
   "execution_count": 31,
   "id": "6d771afd",
   "metadata": {},
   "outputs": [
    {
     "name": "stdout",
     "output_type": "stream",
     "text": [
      "Help on list object:\n",
      "\n",
      "class list(object)\n",
      " |  list(iterable=(), /)\n",
      " |  \n",
      " |  Built-in mutable sequence.\n",
      " |  \n",
      " |  If no argument is given, the constructor creates a new empty list.\n",
      " |  The argument must be an iterable if specified.\n",
      " |  \n",
      " |  Methods defined here:\n",
      " |  \n",
      " |  __add__(self, value, /)\n",
      " |      Return self+value.\n",
      " |  \n",
      " |  __contains__(self, key, /)\n",
      " |      Return key in self.\n",
      " |  \n",
      " |  __delitem__(self, key, /)\n",
      " |      Delete self[key].\n",
      " |  \n",
      " |  __eq__(self, value, /)\n",
      " |      Return self==value.\n",
      " |  \n",
      " |  __ge__(self, value, /)\n",
      " |      Return self>=value.\n",
      " |  \n",
      " |  __getattribute__(self, name, /)\n",
      " |      Return getattr(self, name).\n",
      " |  \n",
      " |  __getitem__(...)\n",
      " |      x.__getitem__(y) <==> x[y]\n",
      " |  \n",
      " |  __gt__(self, value, /)\n",
      " |      Return self>value.\n",
      " |  \n",
      " |  __iadd__(self, value, /)\n",
      " |      Implement self+=value.\n",
      " |  \n",
      " |  __imul__(self, value, /)\n",
      " |      Implement self*=value.\n",
      " |  \n",
      " |  __init__(self, /, *args, **kwargs)\n",
      " |      Initialize self.  See help(type(self)) for accurate signature.\n",
      " |  \n",
      " |  __iter__(self, /)\n",
      " |      Implement iter(self).\n",
      " |  \n",
      " |  __le__(self, value, /)\n",
      " |      Return self<=value.\n",
      " |  \n",
      " |  __len__(self, /)\n",
      " |      Return len(self).\n",
      " |  \n",
      " |  __lt__(self, value, /)\n",
      " |      Return self<value.\n",
      " |  \n",
      " |  __mul__(self, value, /)\n",
      " |      Return self*value.\n",
      " |  \n",
      " |  __ne__(self, value, /)\n",
      " |      Return self!=value.\n",
      " |  \n",
      " |  __repr__(self, /)\n",
      " |      Return repr(self).\n",
      " |  \n",
      " |  __reversed__(self, /)\n",
      " |      Return a reverse iterator over the list.\n",
      " |  \n",
      " |  __rmul__(self, value, /)\n",
      " |      Return value*self.\n",
      " |  \n",
      " |  __setitem__(self, key, value, /)\n",
      " |      Set self[key] to value.\n",
      " |  \n",
      " |  __sizeof__(self, /)\n",
      " |      Return the size of the list in memory, in bytes.\n",
      " |  \n",
      " |  append(self, object, /)\n",
      " |      Append object to the end of the list.\n",
      " |  \n",
      " |  clear(self, /)\n",
      " |      Remove all items from list.\n",
      " |  \n",
      " |  copy(self, /)\n",
      " |      Return a shallow copy of the list.\n",
      " |  \n",
      " |  count(self, value, /)\n",
      " |      Return number of occurrences of value.\n",
      " |  \n",
      " |  extend(self, iterable, /)\n",
      " |      Extend list by appending elements from the iterable.\n",
      " |  \n",
      " |  index(self, value, start=0, stop=9223372036854775807, /)\n",
      " |      Return first index of value.\n",
      " |      \n",
      " |      Raises ValueError if the value is not present.\n",
      " |  \n",
      " |  insert(self, index, object, /)\n",
      " |      Insert object before index.\n",
      " |  \n",
      " |  pop(self, index=-1, /)\n",
      " |      Remove and return item at index (default last).\n",
      " |      \n",
      " |      Raises IndexError if list is empty or index is out of range.\n",
      " |  \n",
      " |  remove(self, value, /)\n",
      " |      Remove first occurrence of value.\n",
      " |      \n",
      " |      Raises ValueError if the value is not present.\n",
      " |  \n",
      " |  reverse(self, /)\n",
      " |      Reverse *IN PLACE*.\n",
      " |  \n",
      " |  sort(self, /, *, key=None, reverse=False)\n",
      " |      Sort the list in ascending order and return None.\n",
      " |      \n",
      " |      The sort is in-place (i.e. the list itself is modified) and stable (i.e. the\n",
      " |      order of two equal elements is maintained).\n",
      " |      \n",
      " |      If a key function is given, apply it once to each list item and sort them,\n",
      " |      ascending or descending, according to their function values.\n",
      " |      \n",
      " |      The reverse flag can be set to sort in descending order.\n",
      " |  \n",
      " |  ----------------------------------------------------------------------\n",
      " |  Static methods defined here:\n",
      " |  \n",
      " |  __new__(*args, **kwargs) from builtins.type\n",
      " |      Create and return a new object.  See help(type) for accurate signature.\n",
      " |  \n",
      " |  ----------------------------------------------------------------------\n",
      " |  Data and other attributes defined here:\n",
      " |  \n",
      " |  __hash__ = None\n",
      "\n"
     ]
    }
   ],
   "source": [
    "# magic methos of a list object\n",
    "a = [1, 4, 4]\n",
    "help(a)"
   ]
  },
  {
   "cell_type": "code",
   "execution_count": 34,
   "id": "b8647671",
   "metadata": {},
   "outputs": [
    {
     "name": "stdout",
     "output_type": "stream",
     "text": [
      "<class '__main__.Building'>\n",
      "\n",
      "Help on Building in module __main__ object:\n",
      "\n",
      "class Building(builtins.object)\n",
      " |  Building(floors)\n",
      " |  \n",
      " |  Methods defined here:\n",
      " |  \n",
      " |  __getitem__(self, floor_number)\n",
      " |  \n",
      " |  __init__(self, floors)\n",
      " |      Initialize self.  See help(type(self)) for accurate signature.\n",
      " |  \n",
      " |  __repr__(self)\n",
      " |      Return repr(self).\n",
      " |  \n",
      " |  __setitem__(self, floor_number, data)\n",
      " |  \n",
      " |  ----------------------------------------------------------------------\n",
      " |  Data descriptors defined here:\n",
      " |  \n",
      " |  __dict__\n",
      " |      dictionary for instance variables (if defined)\n",
      " |  \n",
      " |  __weakref__\n",
      " |      list of weak references to the object (if defined)\n",
      "\n"
     ]
    }
   ],
   "source": [
    "print(type(building), end = '\\n\\n')\n",
    "help(building)"
   ]
  },
  {
   "cell_type": "code",
   "execution_count": null,
   "id": "37f12df3",
   "metadata": {},
   "outputs": [],
   "source": []
  }
 ],
 "metadata": {
  "kernelspec": {
   "display_name": "Python 3 (ipykernel)",
   "language": "python",
   "name": "python3"
  },
  "language_info": {
   "codemirror_mode": {
    "name": "ipython",
    "version": 3
   },
   "file_extension": ".py",
   "mimetype": "text/x-python",
   "name": "python",
   "nbconvert_exporter": "python",
   "pygments_lexer": "ipython3",
   "version": "3.8.10"
  }
 },
 "nbformat": 4,
 "nbformat_minor": 5
}
