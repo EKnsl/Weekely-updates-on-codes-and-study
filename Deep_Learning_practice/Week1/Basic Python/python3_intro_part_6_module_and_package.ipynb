{
 "cells": [
  {
   "cell_type": "markdown",
   "id": "141203bd",
   "metadata": {},
   "source": [
    "[working with modules in python](https://www.analyticsvidhya.com/blog/2021/07/working-with-modules-in-python-must-known-fundamentals-for-data-scientists/)"
   ]
  },
  {
   "cell_type": "code",
   "execution_count": 1,
   "id": "d0a8834c",
   "metadata": {},
   "outputs": [],
   "source": [
    "OPERATIONS = ['Add', 'Sub']\n",
    "\n",
    "def add(a, b):\n",
    "    return a + b\n",
    "\n",
    "def sub(a, b):\n",
    "    return a - b\n"
   ]
  },
  {
   "cell_type": "code",
   "execution_count": 2,
   "id": "25b0834c",
   "metadata": {},
   "outputs": [
    {
     "ename": "ModuleNotFoundError",
     "evalue": "No module named 'arithmatic'",
     "output_type": "error",
     "traceback": [
      "\u001b[0;31m---------------------------------------------------------------------------\u001b[0m",
      "\u001b[0;31mModuleNotFoundError\u001b[0m                       Traceback (most recent call last)",
      "Input \u001b[0;32mIn [2]\u001b[0m, in \u001b[0;36m<cell line: 1>\u001b[0;34m()\u001b[0m\n\u001b[0;32m----> 1\u001b[0m \u001b[38;5;28;01mimport\u001b[39;00m \u001b[38;5;21;01marithmatic\u001b[39;00m\n\u001b[1;32m      3\u001b[0m \u001b[38;5;28mprint\u001b[39m(arithmatic\u001b[38;5;241m.\u001b[39mOPERATIONS)\n",
      "\u001b[0;31mModuleNotFoundError\u001b[0m: No module named 'arithmatic'"
     ]
    }
   ],
   "source": [
    "import arithmatic\n",
    "\n",
    "print(arithmatic.OPERATIONS)\n"
   ]
  },
  {
   "cell_type": "code",
   "execution_count": 8,
   "id": "7047b3f6",
   "metadata": {},
   "outputs": [],
   "source": [
    "# create a file say arithmatic.py with the following content in the same directory \n",
    "OPERATIONS = ['Add', 'Sub']\n",
    "\n",
    "def add(a, b):\n",
    "    return a + b\n",
    "\n",
    "def sub(a, b):\n",
    "    return a - b"
   ]
  },
  {
   "cell_type": "code",
   "execution_count": 3,
   "id": "d29d3b7f",
   "metadata": {},
   "outputs": [
    {
     "name": "stdout",
     "output_type": "stream",
     "text": [
      "['Add', 'Sub']\n"
     ]
    }
   ],
   "source": [
    "import arithmatic\n",
    "\n",
    "print(arithmatic.OPERATIONS)"
   ]
  },
  {
   "cell_type": "code",
   "execution_count": 4,
   "id": "4becb593",
   "metadata": {},
   "outputs": [
    {
     "name": "stdout",
     "output_type": "stream",
     "text": [
      "12\n"
     ]
    }
   ],
   "source": [
    "from arithmatic import add\n",
    "\n",
    "print(add(2, 10))"
   ]
  },
  {
   "cell_type": "code",
   "execution_count": 5,
   "id": "3fb9f208",
   "metadata": {},
   "outputs": [
    {
     "name": "stdout",
     "output_type": "stream",
     "text": [
      "200\n"
     ]
    }
   ],
   "source": [
    "import arithmatic as am\n",
    "\n",
    "print(am.sub(500, 300))"
   ]
  },
  {
   "cell_type": "markdown",
   "id": "6d12e394",
   "metadata": {},
   "source": [
    "[Python Package](https://realpython.com/python-modules-packages/#python-packages)"
   ]
  },
  {
   "cell_type": "markdown",
   "id": "78275257",
   "metadata": {},
   "source": [
    "Let's create a directory named \"gonit\" in the same directory . \n",
    "\n",
    "To use this as python package, we have to create an init.py file in that directory."
   ]
  },
  {
   "cell_type": "code",
   "execution_count": 6,
   "id": "540fc8e8",
   "metadata": {},
   "outputs": [
    {
     "name": "stdout",
     "output_type": "stream",
     "text": [
      "4\n",
      "-10\n"
     ]
    }
   ],
   "source": [
    "import gonit\n",
    "from gonit import arithmatic \n",
    "\n",
    "print(arithmatic.add(1, 3))\n",
    "print(arithmatic.sub(20, 30))"
   ]
  },
  {
   "cell_type": "code",
   "execution_count": 8,
   "id": "6fe5ad57",
   "metadata": {},
   "outputs": [
    {
     "name": "stdout",
     "output_type": "stream",
     "text": [
      "4\n",
      "-10\n"
     ]
    }
   ],
   "source": [
    "from gonit.arithmatic import add, sub\n",
    "\n",
    "print(arithmatic.add(1, 3))\n",
    "print(arithmatic.sub(20, 30))"
   ]
  },
  {
   "cell_type": "markdown",
   "id": "bcb47c9e",
   "metadata": {},
   "source": [
    "# How python search for modules and packages\n",
    "\n",
    "- The current directory.\n",
    "- The site-packages folder in your computer where python is installed.\n",
    "- In directories in the PYTHONPATH environment variable."
   ]
  },
  {
   "cell_type": "code",
   "execution_count": 10,
   "id": "f11761f0",
   "metadata": {},
   "outputs": [],
   "source": [
    "import sys\n",
    "\n",
    "# for path in sys.path:\n",
    "#     print(\"Path is: \", path)"
   ]
  },
  {
   "cell_type": "markdown",
   "id": "c2664abc",
   "metadata": {},
   "source": [
    "# Reference\n",
    "\n",
    "https://realpython.com/python-modules-packages/\n",
    "\n",
    "https://www.analyticsvidhya.com/blog/2021/07/working-with-modules-in-python-must-known-fundamentals-for-data-scientists/\n",
    "\n",
    "https://python.maateen.me/docs/module-package/"
   ]
  },
  {
   "cell_type": "code",
   "execution_count": null,
   "id": "d7063310",
   "metadata": {},
   "outputs": [],
   "source": []
  }
 ],
 "metadata": {
  "kernelspec": {
   "display_name": "Python 3 (ipykernel)",
   "language": "python",
   "name": "python3"
  },
  "language_info": {
   "codemirror_mode": {
    "name": "ipython",
    "version": 3
   },
   "file_extension": ".py",
   "mimetype": "text/x-python",
   "name": "python",
   "nbconvert_exporter": "python",
   "pygments_lexer": "ipython3",
   "version": "3.8.10"
  }
 },
 "nbformat": 4,
 "nbformat_minor": 5
}
