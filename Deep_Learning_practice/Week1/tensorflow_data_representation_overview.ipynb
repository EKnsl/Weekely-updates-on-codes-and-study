{
 "cells": [
  {
   "cell_type": "markdown",
   "id": "1040ab51",
   "metadata": {},
   "source": [
    "# Brief illustration of how data is stored in Neural Networks"
   ]
  },
  {
   "cell_type": "markdown",
   "id": "93d7e096",
   "metadata": {},
   "source": [
    "Scaler : 0 dimensional tensor"
   ]
  },
  {
   "cell_type": "code",
   "execution_count": 3,
   "id": "cd0ca1f3",
   "metadata": {},
   "outputs": [
    {
     "data": {
      "text/plain": [
       "array(12)"
      ]
     },
     "execution_count": 3,
     "metadata": {},
     "output_type": "execute_result"
    }
   ],
   "source": [
    "import numpy as np\n",
    "X = np.array(12)\n",
    "X"
   ]
  },
  {
   "cell_type": "code",
   "execution_count": 4,
   "id": "5ebe4980",
   "metadata": {},
   "outputs": [
    {
     "data": {
      "text/plain": [
       "0"
      ]
     },
     "execution_count": 4,
     "metadata": {},
     "output_type": "execute_result"
    }
   ],
   "source": [
    "X.ndim"
   ]
  },
  {
   "cell_type": "markdown",
   "id": "3a7f8ae8",
   "metadata": {},
   "source": [
    "1 dimensional array : 1 dimensional tensor"
   ]
  },
  {
   "cell_type": "code",
   "execution_count": 5,
   "id": "eb8b7922",
   "metadata": {},
   "outputs": [
    {
     "data": {
      "text/plain": [
       "1"
      ]
     },
     "execution_count": 5,
     "metadata": {},
     "output_type": "execute_result"
    }
   ],
   "source": [
    "X = np.array([12, 3, 6, 14])\n",
    "X.ndim"
   ]
  },
  {
   "cell_type": "markdown",
   "id": "7ede7512",
   "metadata": {},
   "source": [
    "matrix or 2D array : 2 dimensional tensor"
   ]
  },
  {
   "cell_type": "code",
   "execution_count": 8,
   "id": "ceb072ec",
   "metadata": {},
   "outputs": [
    {
     "data": {
      "text/plain": [
       "2"
      ]
     },
     "execution_count": 8,
     "metadata": {},
     "output_type": "execute_result"
    }
   ],
   "source": [
    "X = np.array(\n",
    "    [\n",
    "        [1,2,3],\n",
    "        [4,5,6],\n",
    "        [7,8,9],\n",
    "        [10,11,12]\n",
    "    ]\n",
    ")\n",
    "\n",
    "X.ndim"
   ]
  },
  {
   "cell_type": "code",
   "execution_count": 11,
   "id": "5f47beee",
   "metadata": {},
   "outputs": [
    {
     "name": "stderr",
     "output_type": "stream",
     "text": [
      "2022-05-26 11:53:13.463309: I tensorflow/core/util/util.cc:169] oneDNN custom operations are on. You may see slightly different numerical results due to floating-point round-off errors from different computation orders. To turn them off, set the environment variable `TF_ENABLE_ONEDNN_OPTS=0`.\n",
      "2022-05-26 11:53:13.465890: W tensorflow/stream_executor/platform/default/dso_loader.cc:64] Could not load dynamic library 'libcudart.so.11.0'; dlerror: libcudart.so.11.0: cannot open shared object file: No such file or directory\n",
      "2022-05-26 11:53:13.465897: I tensorflow/stream_executor/cuda/cudart_stub.cc:29] Ignore above cudart dlerror if you do not have a GPU set up on your machine.\n"
     ]
    }
   ],
   "source": [
    "import tensorflow as tf"
   ]
  },
  {
   "cell_type": "code",
   "execution_count": 22,
   "id": "375d7757",
   "metadata": {},
   "outputs": [
    {
     "name": "stdout",
     "output_type": "stream",
     "text": [
      "Shape of tensor1 :  tf.Tensor([2 2], shape=(2,), dtype=int32)\n",
      "Shape of tensor2 :  tf.Tensor([3 2], shape=(2,), dtype=int32)\n",
      "\n",
      "\n",
      "\n"
     ]
    }
   ],
   "source": [
    "tensor1 = tf.constant([[3,2], \n",
    "                      [5,2]])\n",
    "\n",
    "tensor2 = tf.constant([[3,2], \n",
    "                       [5,2],\n",
    "                       [5,2]\n",
    "                      ])\n",
    "# tensor.ndim\n",
    "print(\"Shape of tensor1 : \" , tf.shape(tensor1) )\n",
    "print(\"Shape of tensor2 : \" , tf.shape(tensor2) )\n",
    "# print(\"\\n\\n\")"
   ]
  },
  {
   "cell_type": "code",
   "execution_count": 23,
   "id": "daf6b2c8",
   "metadata": {},
   "outputs": [
    {
     "name": "stdout",
     "output_type": "stream",
     "text": [
      "tf.Tensor(\n",
      "[[3 2]\n",
      " [5 2]\n",
      " [5 2]], shape=(3, 2), dtype=int32)\n",
      "(3, 2)\n",
      "[Dimension(3), Dimension(2)]\n"
     ]
    }
   ],
   "source": [
    "print(tensor2)\n",
    "print(tensor2.get_shape())\n",
    "print(tensor2.shape.dims )"
   ]
  },
  {
   "cell_type": "code",
   "execution_count": 33,
   "id": "4ca9fb2c",
   "metadata": {},
   "outputs": [
    {
     "data": {
      "text/plain": [
       "array([[[18, 76,  5, 92,  7],\n",
       "        [17, 66, 65, 50, 25],\n",
       "        [18, 38, 13, 70, 25],\n",
       "        [59, 42, 44, 14, 68]],\n",
       "\n",
       "       [[37, 52, 26, 25, 18],\n",
       "        [19, 15, 69, 62, 21],\n",
       "        [86, 49, 85, 61, 84],\n",
       "        [27, 44, 98, 15, 13]],\n",
       "\n",
       "       [[32, 36, 70, 30,  5],\n",
       "        [44, 12, 29,  2, 11],\n",
       "        [23, 55, 72, 22, 71],\n",
       "        [26, 78, 66, 47, 94]]])"
      ]
     },
     "execution_count": 33,
     "metadata": {},
     "output_type": "execute_result"
    }
   ],
   "source": [
    "arr_3d = np.random.randint(0, 100, size=(3, 4, 5))\n",
    "arr_3d"
   ]
  },
  {
   "cell_type": "code",
   "execution_count": 35,
   "id": "1fc67cb8",
   "metadata": {},
   "outputs": [
    {
     "data": {
      "text/plain": [
       "<tf.Tensor: shape=(3, 4, 5), dtype=int64, numpy=\n",
       "array([[[18, 76,  5, 92,  7],\n",
       "        [17, 66, 65, 50, 25],\n",
       "        [18, 38, 13, 70, 25],\n",
       "        [59, 42, 44, 14, 68]],\n",
       "\n",
       "       [[37, 52, 26, 25, 18],\n",
       "        [19, 15, 69, 62, 21],\n",
       "        [86, 49, 85, 61, 84],\n",
       "        [27, 44, 98, 15, 13]],\n",
       "\n",
       "       [[32, 36, 70, 30,  5],\n",
       "        [44, 12, 29,  2, 11],\n",
       "        [23, 55, 72, 22, 71],\n",
       "        [26, 78, 66, 47, 94]]])>"
      ]
     },
     "execution_count": 35,
     "metadata": {},
     "output_type": "execute_result"
    }
   ],
   "source": [
    "tensor = tf.constant(arr_3d)\n",
    "tensor"
   ]
  },
  {
   "cell_type": "code",
   "execution_count": 51,
   "id": "c41335a2",
   "metadata": {},
   "outputs": [
    {
     "name": "stdout",
     "output_type": "stream",
     "text": [
      "x = 7\n",
      "\n",
      "\n",
      "Before adding 7 : \n",
      "\n",
      "tf.Tensor(\n",
      "[[[18 76  5 92  7]\n",
      "  [17 66 65 50 25]\n",
      "  [18 38 13 70 25]\n",
      "  [59 42 44 14 68]]\n",
      "\n",
      " [[37 52 26 25 18]\n",
      "  [19 15 69 62 21]\n",
      "  [86 49 85 61 84]\n",
      "  [27 44 98 15 13]]\n",
      "\n",
      " [[32 36 70 30  5]\n",
      "  [44 12 29  2 11]\n",
      "  [23 55 72 22 71]\n",
      "  [26 78 66 47 94]]], shape=(3, 4, 5), dtype=int64)\n",
      "\n",
      "After adding 7 : \n",
      "\n",
      "tf.Tensor(\n",
      "[[[ 25  83  12  99  14]\n",
      "  [ 24  73  72  57  32]\n",
      "  [ 25  45  20  77  32]\n",
      "  [ 66  49  51  21  75]]\n",
      "\n",
      " [[ 44  59  33  32  25]\n",
      "  [ 26  22  76  69  28]\n",
      "  [ 93  56  92  68  91]\n",
      "  [ 34  51 105  22  20]]\n",
      "\n",
      " [[ 39  43  77  37  12]\n",
      "  [ 51  19  36   9  18]\n",
      "  [ 30  62  79  29  78]\n",
      "  [ 33  85  73  54 101]]], shape=(3, 4, 5), dtype=int64)\n"
     ]
    }
   ],
   "source": [
    "#adds x to each element of tensor\n",
    "\n",
    "# x = input()\n",
    "x = 7\n",
    "print(\"x = {}\\n\\n\".format(x))\n",
    "\n",
    "print(\"Before adding {} : \\n\".format(x))\n",
    "print(tensor, end='\\n\\n')\n",
    "tensor_add_1 = tf.add(tensor , x)\n",
    "\n",
    "print(\"After adding {} : \\n\".format(x))\n",
    "print(tensor_add_1)"
   ]
  },
  {
   "cell_type": "code",
   "execution_count": null,
   "id": "f38b2eae",
   "metadata": {},
   "outputs": [],
   "source": []
  }
 ],
 "metadata": {
  "kernelspec": {
   "display_name": "Python 3 (ipykernel)",
   "language": "python",
   "name": "python3"
  },
  "language_info": {
   "codemirror_mode": {
    "name": "ipython",
    "version": 3
   },
   "file_extension": ".py",
   "mimetype": "text/x-python",
   "name": "python",
   "nbconvert_exporter": "python",
   "pygments_lexer": "ipython3",
   "version": "3.8.10"
  }
 },
 "nbformat": 4,
 "nbformat_minor": 5
}
