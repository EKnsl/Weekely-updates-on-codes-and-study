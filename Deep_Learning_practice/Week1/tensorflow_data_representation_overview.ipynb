{
 "cells": [
  {
   "cell_type": "markdown",
   "id": "b27b86f1",
   "metadata": {},
   "source": [
    "# Brief illustration of how data is stored in Neural Networks"
   ]
  },
  {
   "cell_type": "markdown",
   "id": "2dc23910",
   "metadata": {},
   "source": [
    "Scaler : 0 dimensional tensor"
   ]
  },
  {
   "cell_type": "code",
   "execution_count": 3,
   "id": "61ac7285",
   "metadata": {},
   "outputs": [
    {
     "data": {
      "text/plain": [
       "array(12)"
      ]
     },
     "execution_count": 3,
     "metadata": {},
     "output_type": "execute_result"
    }
   ],
   "source": [
    "import numpy as np\n",
    "X = np.array(12)\n",
    "X"
   ]
  },
  {
   "cell_type": "code",
   "execution_count": 4,
   "id": "ec85a40b",
   "metadata": {},
   "outputs": [
    {
     "data": {
      "text/plain": [
       "0"
      ]
     },
     "execution_count": 4,
     "metadata": {},
     "output_type": "execute_result"
    }
   ],
   "source": [
    "X.ndim"
   ]
  },
  {
   "cell_type": "markdown",
   "id": "21b4c55f",
   "metadata": {},
   "source": [
    "1 dimensional array : 1 dimensional tensor"
   ]
  },
  {
   "cell_type": "code",
   "execution_count": 5,
   "id": "d59c2363",
   "metadata": {},
   "outputs": [
    {
     "data": {
      "text/plain": [
       "1"
      ]
     },
     "execution_count": 5,
     "metadata": {},
     "output_type": "execute_result"
    }
   ],
   "source": [
    "X = np.array([12, 3, 6, 14])\n",
    "X.ndim"
   ]
  },
  {
   "cell_type": "markdown",
   "id": "47bda8e4",
   "metadata": {},
   "source": [
    "matrix or 2D array : 2 dimensional tensor"
   ]
  },
  {
   "cell_type": "code",
   "execution_count": 8,
   "id": "d0e2b7ab",
   "metadata": {},
   "outputs": [
    {
     "data": {
      "text/plain": [
       "2"
      ]
     },
     "execution_count": 8,
     "metadata": {},
     "output_type": "execute_result"
    }
   ],
   "source": [
    "X = np.array(\n",
    "    [\n",
    "        [1,2,3],\n",
    "        [4,5,6],\n",
    "        [7,8,9],\n",
    "        [10,11,12]\n",
    "    ]\n",
    ")\n",
    "\n",
    "X.ndim"
   ]
  },
  {
   "cell_type": "code",
   "execution_count": 11,
   "id": "2899a3c0",
   "metadata": {},
   "outputs": [
    {
     "name": "stderr",
     "output_type": "stream",
     "text": [
      "2022-05-26 11:53:13.463309: I tensorflow/core/util/util.cc:169] oneDNN custom operations are on. You may see slightly different numerical results due to floating-point round-off errors from different computation orders. To turn them off, set the environment variable `TF_ENABLE_ONEDNN_OPTS=0`.\n",
      "2022-05-26 11:53:13.465890: W tensorflow/stream_executor/platform/default/dso_loader.cc:64] Could not load dynamic library 'libcudart.so.11.0'; dlerror: libcudart.so.11.0: cannot open shared object file: No such file or directory\n",
      "2022-05-26 11:53:13.465897: I tensorflow/stream_executor/cuda/cudart_stub.cc:29] Ignore above cudart dlerror if you do not have a GPU set up on your machine.\n"
     ]
    }
   ],
   "source": [
    "import tensorflow as tf"
   ]
  },
  {
   "cell_type": "code",
   "execution_count": 22,
   "id": "5f72e85f",
   "metadata": {},
   "outputs": [
    {
     "name": "stdout",
     "output_type": "stream",
     "text": [
      "Shape of tensor1 :  tf.Tensor([2 2], shape=(2,), dtype=int32)\n",
      "Shape of tensor2 :  tf.Tensor([3 2], shape=(2,), dtype=int32)\n",
      "\n",
      "\n",
      "\n"
     ]
    }
   ],
   "source": [
    "tensor1 = tf.constant([[3,2], \n",
    "                      [5,2]])\n",
    "\n",
    "tensor2 = tf.constant([[3,2], \n",
    "                       [5,2],\n",
    "                       [5,2]\n",
    "                      ])\n",
    "# tensor.ndim\n",
    "print(\"Shape of tensor1 : \" , tf.shape(tensor1) )\n",
    "print(\"Shape of tensor2 : \" , tf.shape(tensor2) )\n",
    "# print(\"\\n\\n\")"
   ]
  },
  {
   "cell_type": "code",
   "execution_count": 23,
   "id": "578c2e0f",
   "metadata": {},
   "outputs": [
    {
     "name": "stdout",
     "output_type": "stream",
     "text": [
      "tf.Tensor(\n",
      "[[3 2]\n",
      " [5 2]\n",
      " [5 2]], shape=(3, 2), dtype=int32)\n",
      "(3, 2)\n",
      "[Dimension(3), Dimension(2)]\n"
     ]
    }
   ],
   "source": [
    "print(tensor2)\n",
    "print(tensor2.get_shape())\n",
    "print(tensor2.shape.dims )"
   ]
  },
  {
   "cell_type": "code",
   "execution_count": 33,
   "id": "d080aa2e",
   "metadata": {},
   "outputs": [
    {
     "data": {
      "text/plain": [
       "array([[[18, 76,  5, 92,  7],\n",
       "        [17, 66, 65, 50, 25],\n",
       "        [18, 38, 13, 70, 25],\n",
       "        [59, 42, 44, 14, 68]],\n",
       "\n",
       "       [[37, 52, 26, 25, 18],\n",
       "        [19, 15, 69, 62, 21],\n",
       "        [86, 49, 85, 61, 84],\n",
       "        [27, 44, 98, 15, 13]],\n",
       "\n",
       "       [[32, 36, 70, 30,  5],\n",
       "        [44, 12, 29,  2, 11],\n",
       "        [23, 55, 72, 22, 71],\n",
       "        [26, 78, 66, 47, 94]]])"
      ]
     },
     "execution_count": 33,
     "metadata": {},
     "output_type": "execute_result"
    }
   ],
   "source": [
    "arr_3d = np.random.randint(0, 100, size=(3, 4, 5))\n",
    "arr_3d"
   ]
  },
  {
   "cell_type": "code",
   "execution_count": 35,
   "id": "eba8bd4d",
   "metadata": {},
   "outputs": [
    {
     "data": {
      "text/plain": [
       "<tf.Tensor: shape=(3, 4, 5), dtype=int64, numpy=\n",
       "array([[[18, 76,  5, 92,  7],\n",
       "        [17, 66, 65, 50, 25],\n",
       "        [18, 38, 13, 70, 25],\n",
       "        [59, 42, 44, 14, 68]],\n",
       "\n",
       "       [[37, 52, 26, 25, 18],\n",
       "        [19, 15, 69, 62, 21],\n",
       "        [86, 49, 85, 61, 84],\n",
       "        [27, 44, 98, 15, 13]],\n",
       "\n",
       "       [[32, 36, 70, 30,  5],\n",
       "        [44, 12, 29,  2, 11],\n",
       "        [23, 55, 72, 22, 71],\n",
       "        [26, 78, 66, 47, 94]]])>"
      ]
     },
     "execution_count": 35,
     "metadata": {},
     "output_type": "execute_result"
    }
   ],
   "source": [
    "tensor = tf.constant(arr_3d)\n",
    "tensor"
   ]
  },
  {
   "cell_type": "markdown",
   "id": "416c6c2c",
   "metadata": {},
   "source": [
    "convert tensor object to numpy :"
   ]
  },
  {
   "cell_type": "code",
   "execution_count": 52,
   "id": "6a3d26ad",
   "metadata": {},
   "outputs": [
    {
     "data": {
      "text/plain": [
       "array([[[18, 76,  5, 92,  7],\n",
       "        [17, 66, 65, 50, 25],\n",
       "        [18, 38, 13, 70, 25],\n",
       "        [59, 42, 44, 14, 68]],\n",
       "\n",
       "       [[37, 52, 26, 25, 18],\n",
       "        [19, 15, 69, 62, 21],\n",
       "        [86, 49, 85, 61, 84],\n",
       "        [27, 44, 98, 15, 13]],\n",
       "\n",
       "       [[32, 36, 70, 30,  5],\n",
       "        [44, 12, 29,  2, 11],\n",
       "        [23, 55, 72, 22, 71],\n",
       "        [26, 78, 66, 47, 94]]])"
      ]
     },
     "execution_count": 52,
     "metadata": {},
     "output_type": "execute_result"
    }
   ],
   "source": [
    "tensor.numpy()"
   ]
  },
  {
   "cell_type": "code",
   "execution_count": 51,
   "id": "4ae09eec",
   "metadata": {},
   "outputs": [
    {
     "name": "stdout",
     "output_type": "stream",
     "text": [
      "x = 7\n",
      "\n",
      "\n",
      "Before adding 7 : \n",
      "\n",
      "tf.Tensor(\n",
      "[[[18 76  5 92  7]\n",
      "  [17 66 65 50 25]\n",
      "  [18 38 13 70 25]\n",
      "  [59 42 44 14 68]]\n",
      "\n",
      " [[37 52 26 25 18]\n",
      "  [19 15 69 62 21]\n",
      "  [86 49 85 61 84]\n",
      "  [27 44 98 15 13]]\n",
      "\n",
      " [[32 36 70 30  5]\n",
      "  [44 12 29  2 11]\n",
      "  [23 55 72 22 71]\n",
      "  [26 78 66 47 94]]], shape=(3, 4, 5), dtype=int64)\n",
      "\n",
      "After adding 7 : \n",
      "\n",
      "tf.Tensor(\n",
      "[[[ 25  83  12  99  14]\n",
      "  [ 24  73  72  57  32]\n",
      "  [ 25  45  20  77  32]\n",
      "  [ 66  49  51  21  75]]\n",
      "\n",
      " [[ 44  59  33  32  25]\n",
      "  [ 26  22  76  69  28]\n",
      "  [ 93  56  92  68  91]\n",
      "  [ 34  51 105  22  20]]\n",
      "\n",
      " [[ 39  43  77  37  12]\n",
      "  [ 51  19  36   9  18]\n",
      "  [ 30  62  79  29  78]\n",
      "  [ 33  85  73  54 101]]], shape=(3, 4, 5), dtype=int64)\n"
     ]
    }
   ],
   "source": [
    "#adds x to each element of tensor\n",
    "\n",
    "# x = input()\n",
    "x = 7\n",
    "print(\"x = {}\\n\\n\".format(x))\n",
    "\n",
    "print(\"Before adding {} : \\n\".format(x))\n",
    "print(tensor, end='\\n\\n')\n",
    "tensor_add_1 = tf.add(tensor , x)\n",
    "\n",
    "print(\"After adding {} : \\n\".format(x))\n",
    "print(tensor_add_1)"
   ]
  },
  {
   "cell_type": "markdown",
   "id": "c6ee0570",
   "metadata": {},
   "source": [
    "reshape a tensor :"
   ]
  },
  {
   "cell_type": "code",
   "execution_count": 65,
   "id": "2d13e1f5",
   "metadata": {},
   "outputs": [
    {
     "name": "stdout",
     "output_type": "stream",
     "text": [
      "Before reshape : \n",
      "[[[ 25  83  12  99  14]\n",
      "  [ 24  73  72  57  32]\n",
      "  [ 25  45  20  77  32]\n",
      "  [ 66  49  51  21  75]]\n",
      "\n",
      " [[ 44  59  33  32  25]\n",
      "  [ 26  22  76  69  28]\n",
      "  [ 93  56  92  68  91]\n",
      "  [ 34  51 105  22  20]]\n",
      "\n",
      " [[ 39  43  77  37  12]\n",
      "  [ 51  19  36   9  18]\n",
      "  [ 30  62  79  29  78]\n",
      "  [ 33  85  73  54 101]]]\n",
      "\n",
      "shape before reshape : (3, 4, 5)\n",
      "\n",
      "\n",
      "After reshape : \n",
      "[[ 25  83  12  99  14  24  73  72  57  32  25  45  20  77  32  66  49  51\n",
      "   21  75]\n",
      " [ 44  59  33  32  25  26  22  76  69  28  93  56  92  68  91  34  51 105\n",
      "   22  20]\n",
      " [ 39  43  77  37  12  51  19  36   9  18  30  62  79  29  78  33  85  73\n",
      "   54 101]]\n",
      "\n",
      "shape after reshape : (3, 20)\n",
      "\n",
      "\n"
     ]
    }
   ],
   "source": [
    "t = tensor_add_1\n",
    "\n",
    "print( ('Before reshape : \\n{}').format(t.numpy() ))\n",
    "print('\\nshape before reshape : {}\\n\\n'.format(t.get_shape() ) )\n",
    "\n",
    "t = tf.reshape(tensor = t, shape=[3 , 20])\n",
    "\n",
    "print( ('After reshape : \\n{}').format(t.numpy() ))\n",
    "print('\\nshape after reshape : {}\\n\\n'.format(t.get_shape() ) )"
   ]
  },
  {
   "cell_type": "code",
   "execution_count": 72,
   "id": "fd0ba2b4",
   "metadata": {},
   "outputs": [
    {
     "name": "stdout",
     "output_type": "stream",
     "text": [
      "Before reshape : \n",
      "[[[ 25  83  12  99  14]\n",
      "  [ 24  73  72  57  32]\n",
      "  [ 25  45  20  77  32]\n",
      "  [ 66  49  51  21  75]]\n",
      "\n",
      " [[ 44  59  33  32  25]\n",
      "  [ 26  22  76  69  28]\n",
      "  [ 93  56  92  68  91]\n",
      "  [ 34  51 105  22  20]]\n",
      "\n",
      " [[ 39  43  77  37  12]\n",
      "  [ 51  19  36   9  18]\n",
      "  [ 30  62  79  29  78]\n",
      "  [ 33  85  73  54 101]]]\n",
      "\n",
      "shape before reshape : (3, 4, 5)\n",
      "\n",
      "\n",
      "After reshape : \n",
      "[[[[ 25  83  12]\n",
      "   [ 99  14  24]]\n",
      "\n",
      "  [[ 73  72  57]\n",
      "   [ 32  25  45]]\n",
      "\n",
      "  [[ 20  77  32]\n",
      "   [ 66  49  51]]\n",
      "\n",
      "  [[ 21  75  44]\n",
      "   [ 59  33  32]]\n",
      "\n",
      "  [[ 25  26  22]\n",
      "   [ 76  69  28]]]\n",
      "\n",
      "\n",
      " [[[ 93  56  92]\n",
      "   [ 68  91  34]]\n",
      "\n",
      "  [[ 51 105  22]\n",
      "   [ 20  39  43]]\n",
      "\n",
      "  [[ 77  37  12]\n",
      "   [ 51  19  36]]\n",
      "\n",
      "  [[  9  18  30]\n",
      "   [ 62  79  29]]\n",
      "\n",
      "  [[ 78  33  85]\n",
      "   [ 73  54 101]]]]\n",
      "\n",
      "shape after reshape : (2, 5, 2, 3)\n",
      "\n",
      "\n"
     ]
    }
   ],
   "source": [
    "t = tensor_add_1\n",
    "\n",
    "print( ('Before reshape : \\n{}').format(t.numpy() ))\n",
    "print('\\nshape before reshape : {}\\n\\n'.format(t.get_shape() ) )\n",
    "\n",
    "# t = tf.reshape(tensor = t, shape=[2,2,3,5])\n",
    "# t = tf.reshape(tensor = t, shape=[5,3,2,2])\n",
    "t = tf.reshape(tensor = t, shape=[2,5,2,3])\n",
    "\n",
    "print( ('After reshape : \\n{}').format(t.numpy() ))\n",
    "print('\\nshape after reshape : {}\\n\\n'.format(t.get_shape() ) )"
   ]
  },
  {
   "cell_type": "code",
   "execution_count": 83,
   "id": "fec85ce7",
   "metadata": {},
   "outputs": [
    {
     "data": {
      "text/plain": [
       "['__builtins__',\n",
       " '__cached__',\n",
       " '__doc__',\n",
       " '__file__',\n",
       " '__loader__',\n",
       " '__name__',\n",
       " '__package__',\n",
       " '__path__',\n",
       " '__spec__',\n",
       " '_sys',\n",
       " 'boston_housing',\n",
       " 'cifar10',\n",
       " 'cifar100',\n",
       " 'fashion_mnist',\n",
       " 'imdb',\n",
       " 'mnist',\n",
       " 'reuters']"
      ]
     },
     "execution_count": 83,
     "metadata": {},
     "output_type": "execute_result"
    }
   ],
   "source": [
    "dir(tf.keras.datasets)"
   ]
  },
  {
   "cell_type": "markdown",
   "id": "d5592731",
   "metadata": {},
   "source": [
    "observing fashion mnist dataset :"
   ]
  },
  {
   "cell_type": "code",
   "execution_count": 73,
   "id": "88ceb045",
   "metadata": {},
   "outputs": [],
   "source": [
    "import tensorflow as tf\n",
    "from tensorflow import keras"
   ]
  },
  {
   "cell_type": "code",
   "execution_count": 76,
   "id": "219fde6c",
   "metadata": {},
   "outputs": [],
   "source": [
    "fashion_mnist = tf.keras.datasets.fashion_mnist"
   ]
  },
  {
   "cell_type": "code",
   "execution_count": 77,
   "id": "faad4067",
   "metadata": {},
   "outputs": [
    {
     "name": "stdout",
     "output_type": "stream",
     "text": [
      "Downloading data from https://storage.googleapis.com/tensorflow/tf-keras-datasets/train-labels-idx1-ubyte.gz\n",
      "29515/29515 [==============================] - 0s 2us/step\n",
      "Downloading data from https://storage.googleapis.com/tensorflow/tf-keras-datasets/train-images-idx3-ubyte.gz\n",
      "26421880/26421880 [==============================] - 8s 0us/step\n",
      "Downloading data from https://storage.googleapis.com/tensorflow/tf-keras-datasets/t10k-labels-idx1-ubyte.gz\n",
      "5148/5148 [==============================] - 0s 0us/step\n",
      "Downloading data from https://storage.googleapis.com/tensorflow/tf-keras-datasets/t10k-images-idx3-ubyte.gz\n",
      "4422102/4422102 [==============================] - 1s 0us/step\n"
     ]
    }
   ],
   "source": [
    "(training_image, training_label), (testing_image, testing_label) = fashion_mnist.load_data()"
   ]
  },
  {
   "cell_type": "code",
   "execution_count": 92,
   "id": "1bfdb1b3",
   "metadata": {},
   "outputs": [
    {
     "name": "stdout",
     "output_type": "stream",
     "text": [
      "number of dimensions of training samples : 3\n",
      "dimensions of training samples : (60000, 28, 28)\n",
      "\n",
      "\n",
      "number of dimensions of testing samples : 3\n",
      "dimensions of testing samples : (10000, 28, 28)\n",
      "\n",
      "\n",
      "number of dimensions of testing  labels : 1\n",
      "dimensions of testing labels : (25000,)\n",
      "\n",
      "\n",
      "number of dimensions of testing  labels : 1\n",
      "dimensions of testing labels : (25000,)\n",
      "\n",
      "\n"
     ]
    }
   ],
   "source": [
    "print(\"number of dimensions of training samples : {}\".format(training_image.ndim))\n",
    "print(\"dimensions of training samples : {}\\n\\n\".format(training_image.shape))\n",
    "\n",
    "print(\"number of dimensions of testing samples : {}\".format(testing_image.ndim))\n",
    "print(\"dimensions of testing samples : {}\\n\\n\".format(testing_image.shape))\n",
    "\n",
    "print(\"number of dimensions of testing  labels : {}\".format(training_label.ndim))\n",
    "print(\"dimensions of testing labels : {}\\n\\n\".format(training_label.shape))\n",
    "\n",
    "print(\"number of dimensions of testing  labels : {}\".format(testing_label.ndim))\n",
    "print(\"dimensions of testing labels : {}\\n\\n\".format(testing_label.shape))"
   ]
  },
  {
   "cell_type": "code",
   "execution_count": 100,
   "id": "fd051dae",
   "metadata": {},
   "outputs": [
    {
     "ename": "TypeError",
     "evalue": "randint() missing 1 required positional argument: 'b'",
     "output_type": "error",
     "traceback": [
      "\u001b[0;31m---------------------------------------------------------------------------\u001b[0m",
      "\u001b[0;31mTypeError\u001b[0m                                 Traceback (most recent call last)",
      "Input \u001b[0;32mIn [100]\u001b[0m, in \u001b[0;36m<cell line: 5>\u001b[0;34m()\u001b[0m\n\u001b[1;32m      2\u001b[0m \u001b[38;5;28;01mimport\u001b[39;00m \u001b[38;5;21;01mmatplotlib\u001b[39;00m\u001b[38;5;21;01m.\u001b[39;00m\u001b[38;5;21;01mpyplot\u001b[39;00m \u001b[38;5;28;01mas\u001b[39;00m \u001b[38;5;21;01mplt\u001b[39;00m \n\u001b[1;32m      3\u001b[0m \u001b[38;5;28;01mimport\u001b[39;00m \u001b[38;5;21;01mrandom\u001b[39;00m\n\u001b[0;32m----> 5\u001b[0m \u001b[38;5;28mid\u001b[39m \u001b[38;5;241m=\u001b[39m \u001b[43mrandom\u001b[49m\u001b[38;5;241;43m.\u001b[39;49m\u001b[43mrandint\u001b[49m\u001b[43m(\u001b[49m\u001b[43m(\u001b[49m\u001b[38;5;241;43m0\u001b[39;49m\u001b[43m,\u001b[49m\u001b[38;5;241;43m100\u001b[39;49m\u001b[43m)\u001b[49m\u001b[43m)\u001b[49m\n\u001b[1;32m      7\u001b[0m plt\u001b[38;5;241m.\u001b[39mfigure()\n\u001b[1;32m      8\u001b[0m plt\u001b[38;5;241m.\u001b[39mimshow(training_image[\u001b[38;5;28mid\u001b[39m])\n",
      "\u001b[0;31mTypeError\u001b[0m: randint() missing 1 required positional argument: 'b'"
     ]
    }
   ],
   "source": [
    "# Visualize the first image from the training dataset\n",
    "import matplotlib.pyplot as plt \n",
    "import random\n",
    "\n",
    "id = random.randint((0,100))\n",
    "\n",
    "plt.figure()\n",
    "plt.imshow(training_image[id])\n",
    "plt.colorbar()\n",
    "plt.grid(False)"
   ]
  },
  {
   "cell_type": "code",
   "execution_count": null,
   "id": "ae9b70b8",
   "metadata": {},
   "outputs": [],
   "source": []
  }
 ],
 "metadata": {
  "kernelspec": {
   "display_name": "Python 3 (ipykernel)",
   "language": "python",
   "name": "python3"
  },
  "language_info": {
   "codemirror_mode": {
    "name": "ipython",
    "version": 3
   },
   "file_extension": ".py",
   "mimetype": "text/x-python",
   "name": "python",
   "nbconvert_exporter": "python",
   "pygments_lexer": "ipython3",
   "version": "3.8.10"
  }
 },
 "nbformat": 4,
 "nbformat_minor": 5
}
