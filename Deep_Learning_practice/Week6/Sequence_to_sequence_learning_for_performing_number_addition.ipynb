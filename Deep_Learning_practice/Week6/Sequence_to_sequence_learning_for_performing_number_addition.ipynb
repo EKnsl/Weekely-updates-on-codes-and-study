{
 "cells": [
  {
   "cell_type": "markdown",
   "id": "d15200b8",
   "metadata": {},
   "source": [
    "# Sequence to sequence learning for performing number addition"
   ]
  },
  {
   "cell_type": "markdown",
   "id": "c7fac61a",
   "metadata": {},
   "source": [
    "### Setup"
   ]
  },
  {
   "cell_type": "code",
   "execution_count": 17,
   "id": "2fa6bf73",
   "metadata": {},
   "outputs": [],
   "source": [
    "import numpy as np\n",
    "from tensorflow import keras\n",
    "from tensorflow.keras import layers\n",
    "\n",
    "\n",
    "from tqdm import tqdm"
   ]
  },
  {
   "cell_type": "code",
   "execution_count": 16,
   "id": "62c5a9cb",
   "metadata": {},
   "outputs": [],
   "source": [
    "# Parameters for the model and dataset.\n",
    "TRAINING_SIZE = 50000\n",
    "DIGITS = 3\n",
    "REVERSE = True\n",
    "\n",
    "# Maximum length of input is 'int + int' (e.g., '345+678'). Maximum length of\n",
    "# int is DIGITS.\n",
    "MAXLEN = DIGITS + 1 + DIGITS\n"
   ]
  },
  {
   "cell_type": "markdown",
   "id": "37af47ee",
   "metadata": {},
   "source": [
    "### Generate the data"
   ]
  },
  {
   "cell_type": "code",
   "execution_count": 2,
   "id": "ff4c8db5",
   "metadata": {},
   "outputs": [
    {
     "name": "stdout",
     "output_type": "stream",
     "text": [
      "Generating data...\n",
      "Total questions: 50000\n"
     ]
    }
   ],
   "source": [
    "class CharacterTable:\n",
    "    \"\"\"Given a set of characters:\n",
    "    + Encode them to a one-hot integer representation\n",
    "    + Decode the one-hot or integer representation to their character output\n",
    "    + Decode a vector of probabilities to their character output\n",
    "    \"\"\"\n",
    "\n",
    "    def __init__(self, chars):\n",
    "        \"\"\"Initialize character table.\n",
    "        # Arguments\n",
    "            chars: Characters that can appear in the input.\n",
    "        \"\"\"\n",
    "        self.chars = sorted(set(chars))\n",
    "        self.char_indices = dict((c, i) for i, c in enumerate(self.chars))\n",
    "        self.indices_char = dict((i, c) for i, c in enumerate(self.chars))\n",
    "\n",
    "    def encode(self, C, num_rows):\n",
    "        \"\"\"One-hot encode given string C.\n",
    "        # Arguments\n",
    "            C: string, to be encoded.\n",
    "            num_rows: Number of rows in the returned one-hot encoding. This is\n",
    "                used to keep the # of rows for each data the same.\n",
    "        \"\"\"\n",
    "        x = np.zeros((num_rows, len(self.chars)))\n",
    "        for i, c in enumerate(C):\n",
    "            x[i, self.char_indices[c]] = 1\n",
    "        return x\n",
    "\n",
    "    def decode(self, x, calc_argmax=True):\n",
    "        \"\"\"Decode the given vector or 2D array to their character output.\n",
    "        # Arguments\n",
    "            x: A vector or a 2D array of probabilities or one-hot representations;\n",
    "                or a vector of character indices (used with `calc_argmax=False`).\n",
    "            calc_argmax: Whether to find the character index with maximum\n",
    "                probability, defaults to `True`.\n",
    "        \"\"\"\n",
    "        if calc_argmax:\n",
    "            x = x.argmax(axis=-1)\n",
    "        return \"\".join(self.indices_char[x] for x in x)\n",
    "\n",
    "\n",
    "# All the numbers, plus sign and space for padding.\n",
    "chars = \"0123456789+ \"\n",
    "ctable = CharacterTable(chars)\n",
    "\n",
    "questions = []\n",
    "expected = []\n",
    "seen = set()\n",
    "print(\"Generating data...\")\n",
    "while len(questions) < TRAINING_SIZE:\n",
    "    f = lambda: int(\n",
    "        \"\".join(\n",
    "            np.random.choice(list(\"0123456789\"))\n",
    "            for i in range(np.random.randint(1, DIGITS + 1))\n",
    "        )\n",
    "    )\n",
    "    a, b = f(), f()\n",
    "    # Skip any addition questions we've already seen\n",
    "    # Also skip any such that x+Y == Y+x (hence the sorting).\n",
    "    key = tuple(sorted((a, b)))\n",
    "    if key in seen:\n",
    "        continue\n",
    "    seen.add(key)\n",
    "    # Pad the data with spaces such that it is always MAXLEN.\n",
    "    q = \"{}+{}\".format(a, b)\n",
    "    query = q + \" \" * (MAXLEN - len(q))\n",
    "    ans = str(a + b)\n",
    "    # Answers can be of maximum size DIGITS + 1.\n",
    "    ans += \" \" * (DIGITS + 1 - len(ans))\n",
    "    if REVERSE:\n",
    "        # Reverse the query, e.g., '12+345  ' becomes '  543+21'. (Note the\n",
    "        # space used for padding.)\n",
    "        query = query[::-1]\n",
    "    questions.append(query)\n",
    "    expected.append(ans)\n",
    "print(\"Total questions:\", len(questions))\n"
   ]
  },
  {
   "cell_type": "markdown",
   "id": "5b40ec94",
   "metadata": {},
   "source": [
    "### Print last 10 questions "
   ]
  },
  {
   "cell_type": "code",
   "execution_count": 3,
   "id": "1bd663cf",
   "metadata": {},
   "outputs": [
    {
     "name": "stdout",
     "output_type": "stream",
     "text": [
      "['   1+65',\n",
      " '  5+681',\n",
      " ' 07+454',\n",
      " '   0+15',\n",
      " '    1+6',\n",
      " ' 702+58',\n",
      " '  654+1',\n",
      " '  958+2',\n",
      " '  0+162',\n",
      " '    9+9']\n"
     ]
    }
   ],
   "source": [
    "from pprint import pprint\n",
    "pprint(questions[:10])"
   ]
  },
  {
   "cell_type": "markdown",
   "id": "f30d2a53",
   "metadata": {},
   "source": [
    "### Vectorize the data"
   ]
  },
  {
   "cell_type": "code",
   "execution_count": 4,
   "id": "55c013f6",
   "metadata": {},
   "outputs": [],
   "source": [
    "x = np.zeros((len(questions), MAXLEN, len(chars)), dtype = bool)\n",
    "\n",
    "y = np.zeros((len(questions), DIGITS + 1, len(chars)), dtype = bool)"
   ]
  },
  {
   "cell_type": "code",
   "execution_count": 13,
   "id": "1637a36c",
   "metadata": {},
   "outputs": [
    {
     "name": "stdout",
     "output_type": "stream",
     "text": [
      "dimension of x :  (50000, 7, 12)\n",
      "dimension of y :  (50000, 4, 12)\n"
     ]
    }
   ],
   "source": [
    "print(\"dimension of x : \", x.shape)\n",
    "print(\"dimension of y : \", y.shape)"
   ]
  },
  {
   "cell_type": "markdown",
   "id": "a205739b",
   "metadata": {},
   "source": [
    "### Encode the data"
   ]
  },
  {
   "cell_type": "code",
   "execution_count": 5,
   "id": "d5dee721",
   "metadata": {},
   "outputs": [],
   "source": [
    "for i, sentence in enumerate(questions):\n",
    "    x[i] = ctable.encode(sentence, MAXLEN)\n",
    "for i, sentence in enumerate(expected):\n",
    "    y[i] = ctable.encode(sentence, DIGITS + 1)"
   ]
  },
  {
   "cell_type": "markdown",
   "id": "3961a369",
   "metadata": {},
   "source": [
    "### Shuffle x and y"
   ]
  },
  {
   "cell_type": "code",
   "execution_count": 6,
   "id": "d89aa63e",
   "metadata": {},
   "outputs": [
    {
     "name": "stdout",
     "output_type": "stream",
     "text": [
      "dimension of x :  (50000, 7, 12)\n",
      "dimension of y :  (50000, 4, 12)\n"
     ]
    }
   ],
   "source": [
    "indices = np.arange(len(y))\n",
    "np.random.shuffle(indices)\n",
    "\n",
    "x = x[indices]\n",
    "y = y[indices]\n",
    "\n",
    "print(\"dimension of x : \", x.shape)\n",
    "print(\"dimension of y : \", y.shape)"
   ]
  },
  {
   "cell_type": "code",
   "execution_count": 29,
   "id": "9f8e2d90",
   "metadata": {},
   "outputs": [],
   "source": [
    "# Explicitly set apart 10% for validation data that we never train over.\n",
    "# split_at = len(x) - len(x) // 10\n",
    "# (x_train, x_test) = x[:split_at], x[split_at:]\n",
    "# (y_train, y_test) = y[:split_at], y[split_at:]"
   ]
  },
  {
   "cell_type": "markdown",
   "id": "3be6fd91",
   "metadata": {},
   "source": [
    "### Split data in train and test"
   ]
  },
  {
   "cell_type": "code",
   "execution_count": 7,
   "id": "57a75a93",
   "metadata": {},
   "outputs": [],
   "source": [
    "from sklearn.model_selection import train_test_split\n",
    "\n",
    "x_train, x_test, y_train, y_test = train_test_split(\n",
    "                    x,\n",
    "                    y, \n",
    "                    test_size = 0.2, \n",
    "                    random_state = 42\n",
    ")"
   ]
  },
  {
   "cell_type": "code",
   "execution_count": 8,
   "id": "0226962c",
   "metadata": {},
   "outputs": [
    {
     "name": "stdout",
     "output_type": "stream",
     "text": [
      "dimension of x_train :  (40000, 7, 12)\n",
      "dimension of y_train :  (40000, 4, 12)\n",
      "dimension of x_test :  (10000, 7, 12)\n",
      "dimension of y_test :  (10000, 4, 12)\n"
     ]
    }
   ],
   "source": [
    "print(\"dimension of x_train : \", x_train.shape)\n",
    "print(\"dimension of y_train : \", y_train.shape)\n",
    "print(\"dimension of x_test : \", x_test.shape)\n",
    "print(\"dimension of y_test : \", y_test.shape)"
   ]
  },
  {
   "cell_type": "markdown",
   "id": "6a04c241",
   "metadata": {},
   "source": [
    "### Create model"
   ]
  },
  {
   "cell_type": "code",
   "execution_count": 9,
   "id": "a55412ee",
   "metadata": {},
   "outputs": [
    {
     "name": "stderr",
     "output_type": "stream",
     "text": [
      "2022-09-27 15:01:55.146522: I tensorflow/compiler/jit/xla_cpu_device.cc:41] Not creating XLA devices, tf_xla_enable_xla_devices not set\n",
      "2022-09-27 15:01:55.147268: I tensorflow/stream_executor/platform/default/dso_loader.cc:49] Successfully opened dynamic library libcuda.so.1\n",
      "2022-09-27 15:01:55.148132: E tensorflow/stream_executor/cuda/cuda_driver.cc:328] failed call to cuInit: CUDA_ERROR_NO_DEVICE: no CUDA-capable device is detected\n",
      "2022-09-27 15:01:55.148147: I tensorflow/stream_executor/cuda/cuda_diagnostics.cc:156] kernel driver does not appear to be running on this host (nsl56): /proc/driver/nvidia/version does not exist\n",
      "2022-09-27 15:01:55.148323: I tensorflow/core/platform/cpu_feature_guard.cc:142] This TensorFlow binary is optimized with oneAPI Deep Neural Network Library (oneDNN) to use the following CPU instructions in performance-critical operations:  SSE4.1 SSE4.2 AVX AVX2 AVX512F FMA\n",
      "To enable them in other operations, rebuild TensorFlow with the appropriate compiler flags.\n",
      "2022-09-27 15:01:55.148747: I tensorflow/compiler/jit/xla_gpu_device.cc:99] Not creating XLA devices, tf_xla_enable_xla_devices not set\n"
     ]
    }
   ],
   "source": [
    "import tensorflow\n",
    "num_layers = 1\n",
    "\n",
    "model = keras.Sequential()\n",
    "# \"Encode\" the input sequence using a LSTM, producing an output of size 128.\n",
    "# Note: In a situation where your input sequences have a variable length,\n",
    "# use input_shape=(None, num_feature).\n",
    "model.add(layers.LSTM(128, input_shape=(MAXLEN, len(chars))))\n",
    "# As the decoder RNN's input, repeatedly provide with the last output of\n",
    "# RNN for each time step. Repeat 'DIGITS + 1' times as that's the maximum\n",
    "# length of output, e.g., when DIGITS=3, max output is 999+999=1998.\n",
    "model.add(layers.RepeatVector(DIGITS + 1))\n",
    "# The decoder RNN can be multiple layers stacked or a single layer.\n",
    "for _ in range(num_layers):\n",
    "    # By setting return_sequences to True, return not only the last output but\n",
    "    # all the outputs so far in the form of (num_samples, timesteps,\n",
    "    # output_dim). This is necessary as TimeDistributed in the below expects\n",
    "    # the first dimension to be the timesteps.\n",
    "    model.add(layers.LSTM(128, return_sequences=True))\n",
    "\n",
    "# Apply a dense layer to the every temporal slice of an input. For each of step\n",
    "# of the output sequence, decide which character should be chosen.\n",
    "model.add(layers.Dense(len(chars), activation=\"softmax\"))\n",
    "\n",
    "#previous numpy version numpy-1.22.3 generated errors like :\n",
    "#NotImplementedError: Cannot convert a symbolic Tensor (lstm_1/strided_slice:0) to a numpy array. This error may indicate that you're trying to pass a Tensor to a NumPy call, which is not supported\n",
    "\n",
    "#so according to https://github.com/tensorflow/models/issues/9706#issuecomment-782841778\n",
    "# dowgrade numpy to 1.19.5"
   ]
  },
  {
   "cell_type": "markdown",
   "id": "d8d07160",
   "metadata": {},
   "source": [
    "### Compile the model"
   ]
  },
  {
   "cell_type": "code",
   "execution_count": 10,
   "id": "db0abae8",
   "metadata": {},
   "outputs": [],
   "source": [
    "model.compile(\n",
    "    loss=\"categorical_crossentropy\", \n",
    "    optimizer=\"adam\", \n",
    "    metrics=[\"accuracy\"]\n",
    ")"
   ]
  },
  {
   "cell_type": "markdown",
   "id": "7d18794d",
   "metadata": {},
   "source": [
    "### Model Summary"
   ]
  },
  {
   "cell_type": "code",
   "execution_count": 11,
   "id": "bcadf34a",
   "metadata": {},
   "outputs": [
    {
     "name": "stdout",
     "output_type": "stream",
     "text": [
      "Model: \"sequential\"\n",
      "_________________________________________________________________\n",
      "Layer (type)                 Output Shape              Param #   \n",
      "=================================================================\n",
      "lstm (LSTM)                  (None, 128)               72192     \n",
      "_________________________________________________________________\n",
      "repeat_vector (RepeatVector) (None, 4, 128)            0         \n",
      "_________________________________________________________________\n",
      "lstm_1 (LSTM)                (None, 4, 128)            131584    \n",
      "_________________________________________________________________\n",
      "dense (Dense)                (None, 4, 12)             1548      \n",
      "=================================================================\n",
      "Total params: 205,324\n",
      "Trainable params: 205,324\n",
      "Non-trainable params: 0\n",
      "_________________________________________________________________\n"
     ]
    }
   ],
   "source": [
    "model.summary()"
   ]
  },
  {
   "cell_type": "code",
   "execution_count": 21,
   "id": "dc1984b7",
   "metadata": {},
   "outputs": [
    {
     "name": "stdout",
     "output_type": "stream",
     "text": [
      "('Failed to import pydot. You must `pip install pydot` and install graphviz (https://graphviz.gitlab.io/download/), ', 'for `pydotprint` to work.')\n"
     ]
    }
   ],
   "source": [
    "\n",
    "tensorflow.keras.utils.plot_model(model, \n",
    "                                  show_shapes=True, \n",
    "                                  show_layer_names=True, \n",
    "                                  expand_nested=True, \n",
    "                                  dpi=50, \n",
    "                                  to_file=\"perform_number_addition_using_seq_to_seq_learning_LSTM.png\"\n",
    "                        )\n",
    "\n"
   ]
  },
  {
   "cell_type": "markdown",
   "id": "5ecfc2f1",
   "metadata": {},
   "source": [
    "### Train the model\n",
    "Train the model on each epochs and predict the validation data"
   ]
  },
  {
   "cell_type": "code",
   "execution_count": 19,
   "id": "b3385f2f",
   "metadata": {},
   "outputs": [
    {
     "name": "stderr",
     "output_type": "stream",
     "text": [
      "  0%|                                                                                                                                                                               | 0/29 [00:00<?, ?it/s]2022-09-27 15:16:26.843978: I tensorflow/compiler/mlir/mlir_graph_optimization_pass.cc:116] None of the MLIR optimization passes are enabled (registered 2)\n",
      "2022-09-27 15:16:26.862804: I tensorflow/core/platform/profile_utils/cpu_utils.cc:112] CPU Frequency: 2592000000 Hz\n"
     ]
    },
    {
     "name": "stdout",
     "output_type": "stream",
     "text": [
      "\n",
      "\n",
      "Iteration 1\n",
      "1250/1250 [==============================] - 6s 4ms/step - loss: 1.8925 - accuracy: 0.3209 - val_loss: 1.5783 - val_accuracy: 0.4104\n"
     ]
    },
    {
     "name": "stderr",
     "output_type": "stream",
     "text": [
      "\r",
      "  3%|█████▊                                                                                                                                                                 | 1/29 [00:06<03:10,  6.82s/it]"
     ]
    },
    {
     "name": "stdout",
     "output_type": "stream",
     "text": [
      "Q 849+56  T 905  ☒ 900 \n",
      "Q 93+66   T 159  ☒ 763 \n",
      "Q 371+868 T 1239 ☒ 1222\n",
      "Q 801+54  T 855  ☒ 900 \n",
      "Q 710+448 T 1158 ☒ 1000\n",
      "Q 65+85   T 150  ☒ 666 \n",
      "Q 582+226 T 808  ☒ 100 \n",
      "Q 302+18  T 320  ☒ 220 \n",
      "Q 6+236   T 242  ☒ 226 \n",
      "Q 48+57   T 105  ☒ 11  \n",
      "\n",
      "\n",
      "Iteration 2\n",
      "1250/1250 [==============================] - 5s 4ms/step - loss: 1.4175 - accuracy: 0.4709 - val_loss: 1.2287 - val_accuracy: 0.5469\n",
      "Q 94+620  T 714  ☒ 700 \n",
      "Q 525+82  T 607  ☒ 600 \n",
      "Q 976+737 T 1713 ☒ 1742\n",
      "Q 780+68  T 848  ☒ 855 \n",
      "Q 7+403   T 410  ☒ 418 \n",
      "Q 43+700  T 743  ☒ 745 \n",
      "Q 910+199 T 1109 ☒ 1150\n"
     ]
    },
    {
     "name": "stderr",
     "output_type": "stream",
     "text": [
      "\r",
      "  7%|███████████▌                                                                                                                                                           | 2/29 [00:12<02:39,  5.89s/it]"
     ]
    },
    {
     "name": "stdout",
     "output_type": "stream",
     "text": [
      "Q 566+88  T 654  ☒ 655 \n",
      "Q 98+529  T 627  ☒ 600 \n",
      "Q 374+1   T 375  ☒ 377 \n",
      "\n",
      "\n",
      "Iteration 3\n",
      "1250/1250 [==============================] - 5s 4ms/step - loss: 1.1089 - accuracy: 0.5887 - val_loss: 0.9984 - val_accuracy: 0.6437\n"
     ]
    },
    {
     "name": "stderr",
     "output_type": "stream",
     "text": [
      "\r",
      " 10%|█████████████████▎                                                                                                                                                     | 3/29 [00:17<02:23,  5.50s/it]"
     ]
    },
    {
     "name": "stdout",
     "output_type": "stream",
     "text": [
      "Q 156+63  T 219  ☒ 210 \n",
      "Q 86+107  T 193  ☒ 196 \n",
      "Q 657+58  T 715  ☒ 710 \n",
      "Q 266+30  T 296  ☒ 390 \n",
      "Q 175+552 T 727  ☒ 701 \n",
      "Q 57+71   T 128  ☒ 126 \n",
      "Q 356+145 T 501  ☒ 406 \n",
      "Q 711+87  T 798  ☒ 890 \n",
      "Q 426+93  T 519  ☒ 516 \n",
      "Q 87+802  T 889  ☒ 886 \n",
      "\n",
      "\n",
      "Iteration 4\n",
      "1250/1250 [==============================] - 5s 4ms/step - loss: 0.9465 - accuracy: 0.6502 - val_loss: 0.9223 - val_accuracy: 0.6527\n"
     ]
    },
    {
     "name": "stderr",
     "output_type": "stream",
     "text": [
      "\r",
      " 14%|███████████████████████                                                                                                                                                | 4/29 [00:22<02:12,  5.30s/it]"
     ]
    },
    {
     "name": "stdout",
     "output_type": "stream",
     "text": [
      "Q 311+467 T 778  ☒ 773 \n",
      "Q 256+11  T 267  ☒ 265 \n",
      "Q 32+47   T 79   ☒ 85  \n",
      "Q 62+392  T 454  ☒ 458 \n",
      "Q 635+12  T 647  ☒ 648 \n",
      "Q 74+53   T 127  ☒ 125 \n",
      "Q 80+151  T 231  ☒ 235 \n",
      "Q 904+721 T 1625 ☒ 1634\n",
      "Q 277+217 T 494  ☒ 492 \n",
      "Q 506+5   T 511  ☒ 518 \n",
      "\n",
      "\n",
      "Iteration 5\n",
      "1250/1250 [==============================] - 5s 4ms/step - loss: 0.8326 - accuracy: 0.6947 - val_loss: 0.7748 - val_accuracy: 0.7218\n"
     ]
    },
    {
     "name": "stderr",
     "output_type": "stream",
     "text": [
      "\r",
      " 17%|████████████████████████████▊                                                                                                                                          | 5/29 [00:27<02:05,  5.23s/it]"
     ]
    },
    {
     "name": "stdout",
     "output_type": "stream",
     "text": [
      "Q 98+5    T 103  ☒ 101 \n",
      "Q 78+655  T 733  ☒ 732 \n",
      "Q 493+99  T 592  ☒ 589 \n",
      "Q 724+622 T 1346 ☒ 1351\n",
      "Q 197+22  T 219  ☒ 221 \n",
      "Q 410+651 T 1061 ☒ 1051\n",
      "Q 480+745 T 1225 ☒ 1221\n",
      "Q 68+645  T 713  ☒ 711 \n",
      "Q 354+45  T 399  ☒ 391 \n",
      "Q 16+997  T 1013 ☒ 1011\n",
      "\n",
      "\n",
      "Iteration 6\n",
      "1250/1250 [==============================] - 5s 4ms/step - loss: 0.7421 - accuracy: 0.7295 - val_loss: 0.7017 - val_accuracy: 0.7451\n"
     ]
    },
    {
     "name": "stderr",
     "output_type": "stream",
     "text": [
      "\r",
      " 21%|██████████████████████████████████▌                                                                                                                                    | 6/29 [00:32<01:59,  5.19s/it]"
     ]
    },
    {
     "name": "stdout",
     "output_type": "stream",
     "text": [
      "Q 207+442 T 649  ☒ 658 \n",
      "Q 668+95  T 763  ☒ 765 \n",
      "Q 459+843 T 1302 ☒ 1305\n",
      "Q 95+276  T 371  ☒ 374 \n",
      "Q 51+483  T 534  ☒ 542 \n",
      "Q 39+61   T 100  ☒ 90  \n",
      "Q 282+80  T 362  ☒ 368 \n",
      "Q 215+639 T 854  ☒ 859 \n",
      "Q 1+795   T 796  ☒ 799 \n",
      "Q 641+442 T 1083 ☒ 1084\n",
      "\n",
      "\n",
      "Iteration 7\n",
      "1250/1250 [==============================] - 6s 4ms/step - loss: 0.6570 - accuracy: 0.7618 - val_loss: 0.5806 - val_accuracy: 0.7931\n"
     ]
    },
    {
     "name": "stderr",
     "output_type": "stream",
     "text": [
      "\r",
      " 24%|████████████████████████████████████████▎                                                                                                                              | 7/29 [00:38<01:58,  5.39s/it]"
     ]
    },
    {
     "name": "stdout",
     "output_type": "stream",
     "text": [
      "Q 723+767 T 1490 ☒ 1481\n",
      "Q 297+83  T 380  ☒ 377 \n",
      "Q 76+921  T 997  ☒ 990 \n",
      "Q 938+458 T 1396 ☒ 1394\n",
      "Q 33+38   T 71   ☒ 79  \n",
      "Q 96+853  T 949  ☒ 941 \n",
      "Q 831+15  T 846  ☑ 846 \n",
      "Q 92+577  T 669  ☒ 667 \n",
      "Q 21+471  T 492  ☒ 491 \n",
      "Q 18+96   T 114  ☒ 115 \n",
      "\n",
      "\n",
      "Iteration 8\n",
      "1250/1250 [==============================] - 6s 4ms/step - loss: 0.4539 - accuracy: 0.8404 - val_loss: 0.3439 - val_accuracy: 0.8798\n"
     ]
    },
    {
     "name": "stderr",
     "output_type": "stream",
     "text": [
      "\r",
      " 28%|██████████████████████████████████████████████                                                                                                                         | 8/29 [00:43<01:55,  5.49s/it]"
     ]
    },
    {
     "name": "stdout",
     "output_type": "stream",
     "text": [
      "Q 510+680 T 1190 ☒ 1192\n",
      "Q 0+570   T 570  ☒ 571 \n",
      "Q 364+61  T 425  ☑ 425 \n",
      "Q 5+283   T 288  ☑ 288 \n",
      "Q 501+442 T 943  ☒ 945 \n",
      "Q 58+926  T 984  ☒ 983 \n",
      "Q 89+48   T 137  ☒ 136 \n",
      "Q 87+44   T 131  ☑ 131 \n",
      "Q 36+828  T 864  ☒ 863 \n",
      "Q 363+3   T 366  ☑ 366 \n",
      "\n",
      "\n",
      "Iteration 9\n",
      "1250/1250 [==============================] - 6s 4ms/step - loss: 0.2792 - accuracy: 0.9170 - val_loss: 0.2204 - val_accuracy: 0.9413\n"
     ]
    },
    {
     "name": "stderr",
     "output_type": "stream",
     "text": [
      "\r",
      " 31%|███████████████████████████████████████████████████▊                                                                                                                   | 9/29 [00:49<01:51,  5.56s/it]"
     ]
    },
    {
     "name": "stdout",
     "output_type": "stream",
     "text": [
      "Q 227+53  T 280  ☑ 280 \n",
      "Q 961+189 T 1150 ☑ 1150\n",
      "Q 331+755 T 1086 ☒ 1085\n",
      "Q 94+170  T 264  ☑ 264 \n",
      "Q 276+473 T 749  ☒ 759 \n",
      "Q 428+218 T 646  ☒ 647 \n",
      "Q 59+46   T 105  ☑ 105 \n",
      "Q 440+540 T 980  ☒ 900 \n",
      "Q 87+464  T 551  ☑ 551 \n",
      "Q 86+376  T 462  ☑ 462 \n",
      "\n",
      "\n",
      "Iteration 10\n",
      "1250/1250 [==============================] - 6s 4ms/step - loss: 0.1850 - accuracy: 0.9531 - val_loss: 0.1657 - val_accuracy: 0.9549\n"
     ]
    },
    {
     "name": "stderr",
     "output_type": "stream",
     "text": [
      "\r",
      " 34%|█████████████████████████████████████████████████████████▏                                                                                                            | 10/29 [00:55<01:46,  5.60s/it]"
     ]
    },
    {
     "name": "stdout",
     "output_type": "stream",
     "text": [
      "Q 187+26  T 213  ☑ 213 \n",
      "Q 126+25  T 151  ☑ 151 \n",
      "Q 8+342   T 350  ☑ 350 \n",
      "Q 52+17   T 69   ☒ 79  \n",
      "Q 142+61  T 203  ☑ 203 \n",
      "Q 299+7   T 306  ☑ 306 \n",
      "Q 129+58  T 187  ☑ 187 \n",
      "Q 64+38   T 102  ☑ 102 \n",
      "Q 564+435 T 999  ☑ 999 \n",
      "Q 527+7   T 534  ☑ 534 \n",
      "\n",
      "\n",
      "Iteration 11\n",
      "1250/1250 [==============================] - 6s 5ms/step - loss: 0.1330 - accuracy: 0.9682 - val_loss: 0.1056 - val_accuracy: 0.9763\n"
     ]
    },
    {
     "name": "stderr",
     "output_type": "stream",
     "text": [
      "\r",
      " 38%|██████████████████████████████████████████████████████████████▉                                                                                                       | 11/29 [01:01<01:42,  5.69s/it]"
     ]
    },
    {
     "name": "stdout",
     "output_type": "stream",
     "text": [
      "Q 65+373  T 438  ☑ 438 \n",
      "Q 79+566  T 645  ☑ 645 \n",
      "Q 722+82  T 804  ☑ 804 \n",
      "Q 499+34  T 533  ☑ 533 \n",
      "Q 243+49  T 292  ☑ 292 \n",
      "Q 129+428 T 557  ☑ 557 \n",
      "Q 82+945  T 1027 ☑ 1027\n",
      "Q 21+90   T 111  ☑ 111 \n",
      "Q 193+4   T 197  ☑ 197 \n",
      "Q 116+25  T 141  ☑ 141 \n",
      "\n",
      "\n",
      "Iteration 12\n",
      "1250/1250 [==============================] - 6s 4ms/step - loss: 0.0994 - accuracy: 0.9762 - val_loss: 0.0830 - val_accuracy: 0.9810\n"
     ]
    },
    {
     "name": "stderr",
     "output_type": "stream",
     "text": [
      "\r",
      " 41%|████████████████████████████████████████████████████████████████████▋                                                                                                 | 12/29 [01:06<01:37,  5.72s/it]"
     ]
    },
    {
     "name": "stdout",
     "output_type": "stream",
     "text": [
      "Q 4+523   T 527  ☑ 527 \n",
      "Q 22+666  T 688  ☑ 688 \n",
      "Q 672+717 T 1389 ☑ 1389\n",
      "Q 586+8   T 594  ☑ 594 \n",
      "Q 661+54  T 715  ☑ 715 \n",
      "Q 475+60  T 535  ☑ 535 \n",
      "Q 363+93  T 456  ☑ 456 \n",
      "Q 77+13   T 90   ☑ 90  \n",
      "Q 916+279 T 1195 ☑ 1195\n",
      "Q 170+0   T 170  ☑ 170 \n",
      "\n",
      "\n",
      "Iteration 13\n",
      "1250/1250 [==============================] - 6s 4ms/step - loss: 0.0750 - accuracy: 0.9828 - val_loss: 0.0557 - val_accuracy: 0.9888\n"
     ]
    },
    {
     "name": "stderr",
     "output_type": "stream",
     "text": [
      "\r",
      " 45%|██████████████████████████████████████████████████████████████████████████▍                                                                                           | 13/29 [01:12<01:31,  5.72s/it]"
     ]
    },
    {
     "name": "stdout",
     "output_type": "stream",
     "text": [
      "Q 780+6   T 786  ☑ 786 \n",
      "Q 2+450   T 452  ☑ 452 \n",
      "Q 37+459  T 496  ☑ 496 \n",
      "Q 342+11  T 353  ☑ 353 \n",
      "Q 8+810   T 818  ☑ 818 \n",
      "Q 285+13  T 298  ☑ 298 \n",
      "Q 11+900  T 911  ☑ 911 \n",
      "Q 630+5   T 635  ☑ 635 \n",
      "Q 2+832   T 834  ☑ 834 \n",
      "Q 86+376  T 462  ☑ 462 \n",
      "\n",
      "\n",
      "Iteration 14\n",
      "1250/1250 [==============================] - 6s 4ms/step - loss: 0.0656 - accuracy: 0.9839 - val_loss: 0.0468 - val_accuracy: 0.9907\n"
     ]
    },
    {
     "name": "stderr",
     "output_type": "stream",
     "text": [
      "\r",
      " 48%|████████████████████████████████████████████████████████████████████████████████▏                                                                                     | 14/29 [01:18<01:25,  5.73s/it]"
     ]
    },
    {
     "name": "stdout",
     "output_type": "stream",
     "text": [
      "Q 344+94  T 438  ☑ 438 \n",
      "Q 690+9   T 699  ☑ 699 \n",
      "Q 5+148   T 153  ☑ 153 \n",
      "Q 830+49  T 879  ☑ 879 \n",
      "Q 831+15  T 846  ☑ 846 \n",
      "Q 5+758   T 763  ☑ 763 \n",
      "Q 369+779 T 1148 ☑ 1148\n",
      "Q 23+443  T 466  ☑ 466 \n",
      "Q 27+801  T 828  ☑ 828 \n",
      "Q 269+98  T 367  ☑ 367 \n",
      "\n",
      "\n",
      "Iteration 15\n",
      "1250/1250 [==============================] - 6s 4ms/step - loss: 0.0440 - accuracy: 0.9905 - val_loss: 0.0374 - val_accuracy: 0.9916\n"
     ]
    },
    {
     "name": "stderr",
     "output_type": "stream",
     "text": [
      "\r",
      " 52%|█████████████████████████████████████████████████████████████████████████████████████▊                                                                                | 15/29 [01:24<01:20,  5.73s/it]"
     ]
    },
    {
     "name": "stdout",
     "output_type": "stream",
     "text": [
      "Q 74+795  T 869  ☑ 869 \n",
      "Q 276+9   T 285  ☑ 285 \n",
      "Q 3+323   T 326  ☑ 326 \n",
      "Q 20+612  T 632  ☑ 632 \n",
      "Q 458+1   T 459  ☒ 469 \n",
      "Q 25+56   T 81   ☑ 81  \n",
      "Q 676+277 T 953  ☑ 953 \n",
      "Q 227+53  T 280  ☑ 280 \n",
      "Q 36+455  T 491  ☑ 491 \n",
      "Q 5+690   T 695  ☑ 695 \n",
      "\n",
      "\n",
      "Iteration 16\n",
      "1250/1250 [==============================] - 6s 4ms/step - loss: 0.0472 - accuracy: 0.9887 - val_loss: 0.0277 - val_accuracy: 0.9947\n"
     ]
    },
    {
     "name": "stderr",
     "output_type": "stream",
     "text": [
      "\r",
      " 55%|███████████████████████████████████████████████████████████████████████████████████████████▌                                                                          | 16/29 [01:29<01:14,  5.75s/it]"
     ]
    },
    {
     "name": "stdout",
     "output_type": "stream",
     "text": [
      "Q 646+93  T 739  ☑ 739 \n",
      "Q 32+46   T 78   ☑ 78  \n",
      "Q 97+96   T 193  ☑ 193 \n",
      "Q 615+506 T 1121 ☑ 1121\n",
      "Q 551+80  T 631  ☑ 631 \n",
      "Q 403+114 T 517  ☒ 527 \n",
      "Q 938+542 T 1480 ☑ 1480\n",
      "Q 337+92  T 429  ☑ 429 \n",
      "Q 865+574 T 1439 ☑ 1439\n",
      "Q 757+1   T 758  ☑ 758 \n",
      "\n",
      "\n",
      "Iteration 17\n",
      "1250/1250 [==============================] - 6s 4ms/step - loss: 0.0545 - accuracy: 0.9853 - val_loss: 0.0338 - val_accuracy: 0.9923\n"
     ]
    },
    {
     "name": "stderr",
     "output_type": "stream",
     "text": [
      "\r",
      " 59%|█████████████████████████████████████████████████████████████████████████████████████████████████▎                                                                    | 17/29 [01:35<01:09,  5.76s/it]"
     ]
    },
    {
     "name": "stdout",
     "output_type": "stream",
     "text": [
      "Q 799+8   T 807  ☑ 807 \n",
      "Q 319+73  T 392  ☑ 392 \n",
      "Q 4+50    T 54   ☑ 54  \n",
      "Q 55+0    T 55   ☑ 55  \n",
      "Q 65+623  T 688  ☑ 688 \n",
      "Q 815+78  T 893  ☑ 893 \n",
      "Q 795+63  T 858  ☑ 858 \n",
      "Q 6+25    T 31   ☒ 32  \n",
      "Q 554+7   T 561  ☑ 561 \n",
      "Q 435+33  T 468  ☑ 468 \n",
      "\n",
      "\n",
      "Iteration 18\n",
      "1250/1250 [==============================] - 6s 4ms/step - loss: 0.0329 - accuracy: 0.9922 - val_loss: 0.0166 - val_accuracy: 0.9974\n"
     ]
    },
    {
     "name": "stderr",
     "output_type": "stream",
     "text": [
      "\r",
      " 62%|███████████████████████████████████████████████████████████████████████████████████████████████████████                                                               | 18/29 [01:41<01:03,  5.74s/it]"
     ]
    },
    {
     "name": "stdout",
     "output_type": "stream",
     "text": [
      "Q 873+983 T 1856 ☑ 1856\n",
      "Q 9+830   T 839  ☑ 839 \n",
      "Q 200+4   T 204  ☑ 204 \n",
      "Q 36+97   T 133  ☑ 133 \n",
      "Q 34+21   T 55   ☑ 55  \n",
      "Q 591+7   T 598  ☑ 598 \n",
      "Q 680+6   T 686  ☑ 686 \n",
      "Q 85+769  T 854  ☑ 854 \n",
      "Q 988+8   T 996  ☑ 996 \n",
      "Q 254+68  T 322  ☑ 322 \n",
      "\n",
      "\n",
      "Iteration 19\n",
      "1250/1250 [==============================] - 6s 4ms/step - loss: 0.0343 - accuracy: 0.9910 - val_loss: 0.1121 - val_accuracy: 0.9678\n"
     ]
    },
    {
     "name": "stderr",
     "output_type": "stream",
     "text": [
      "\r",
      " 66%|████████████████████████████████████████████████████████████████████████████████████████████████████████████▊                                                         | 19/29 [01:47<00:57,  5.73s/it]"
     ]
    },
    {
     "name": "stdout",
     "output_type": "stream",
     "text": [
      "Q 680+6   T 686  ☑ 686 \n",
      "Q 7+791   T 798  ☑ 798 \n",
      "Q 388+59  T 447  ☑ 447 \n",
      "Q 247+649 T 896  ☑ 896 \n",
      "Q 923+499 T 1422 ☒ 1412\n",
      "Q 499+29  T 528  ☑ 528 \n",
      "Q 478+26  T 504  ☑ 504 \n",
      "Q 8+243   T 251  ☑ 251 \n",
      "Q 400+691 T 1091 ☒ 1090\n",
      "Q 74+675  T 749  ☑ 749 \n",
      "\n",
      "\n",
      "Iteration 20\n",
      "1250/1250 [==============================] - 6s 4ms/step - loss: 0.0272 - accuracy: 0.9936 - val_loss: 0.0125 - val_accuracy: 0.9981\n"
     ]
    },
    {
     "name": "stderr",
     "output_type": "stream",
     "text": [
      "\r",
      " 69%|██████████████████████████████████████████████████████████████████████████████████████████████████████████████████▍                                                   | 20/29 [01:52<00:51,  5.73s/it]"
     ]
    },
    {
     "name": "stdout",
     "output_type": "stream",
     "text": [
      "Q 512+45  T 557  ☑ 557 \n",
      "Q 74+675  T 749  ☑ 749 \n",
      "Q 71+532  T 603  ☑ 603 \n",
      "Q 8+693   T 701  ☑ 701 \n",
      "Q 58+337  T 395  ☑ 395 \n",
      "Q 874+47  T 921  ☑ 921 \n",
      "Q 212+284 T 496  ☑ 496 \n",
      "Q 96+782  T 878  ☑ 878 \n",
      "Q 682+2   T 684  ☑ 684 \n",
      "Q 6+302   T 308  ☑ 308 \n",
      "\n",
      "\n",
      "Iteration 21\n",
      "1250/1250 [==============================] - 6s 5ms/step - loss: 0.0450 - accuracy: 0.9870 - val_loss: 0.0202 - val_accuracy: 0.9959\n"
     ]
    },
    {
     "name": "stderr",
     "output_type": "stream",
     "text": [
      "\r",
      " 72%|████████████████████████████████████████████████████████████████████████████████████████████████████████████████████████▏                                             | 21/29 [01:58<00:46,  5.77s/it]"
     ]
    },
    {
     "name": "stdout",
     "output_type": "stream",
     "text": [
      "Q 337+228 T 565  ☑ 565 \n",
      "Q 848+442 T 1290 ☑ 1290\n",
      "Q 35+218  T 253  ☑ 253 \n",
      "Q 972+9   T 981  ☑ 981 \n",
      "Q 73+428  T 501  ☑ 501 \n",
      "Q 300+86  T 386  ☑ 386 \n",
      "Q 692+578 T 1270 ☑ 1270\n",
      "Q 120+33  T 153  ☑ 153 \n",
      "Q 882+445 T 1327 ☑ 1327\n",
      "Q 178+59  T 237  ☑ 237 \n",
      "\n",
      "\n",
      "Iteration 22\n",
      "1250/1250 [==============================] - 6s 5ms/step - loss: 0.0148 - accuracy: 0.9973 - val_loss: 0.0133 - val_accuracy: 0.9972\n"
     ]
    },
    {
     "name": "stderr",
     "output_type": "stream",
     "text": [
      "\r",
      " 76%|█████████████████████████████████████████████████████████████████████████████████████████████████████████████████████████████▉                                        | 22/29 [02:04<00:40,  5.79s/it]"
     ]
    },
    {
     "name": "stdout",
     "output_type": "stream",
     "text": [
      "Q 63+75   T 138  ☑ 138 \n",
      "Q 94+484  T 578  ☑ 578 \n",
      "Q 295+94  T 389  ☑ 389 \n",
      "Q 4+788   T 792  ☑ 792 \n",
      "Q 26+930  T 956  ☑ 956 \n",
      "Q 243+89  T 332  ☑ 332 \n",
      "Q 4+290   T 294  ☑ 294 \n",
      "Q 20+563  T 583  ☑ 583 \n",
      "Q 4+376   T 380  ☑ 380 \n",
      "Q 564+791 T 1355 ☑ 1355\n",
      "\n",
      "\n",
      "Iteration 23\n",
      "1250/1250 [==============================] - 6s 5ms/step - loss: 0.0417 - accuracy: 0.9886 - val_loss: 0.0124 - val_accuracy: 0.9979\n"
     ]
    },
    {
     "name": "stderr",
     "output_type": "stream",
     "text": [
      "\r",
      " 79%|███████████████████████████████████████████████████████████████████████████████████████████████████████████████████████████████████▋                                  | 23/29 [02:10<00:34,  5.82s/it]"
     ]
    },
    {
     "name": "stdout",
     "output_type": "stream",
     "text": [
      "Q 879+205 T 1084 ☑ 1084\n",
      "Q 404+43  T 447  ☑ 447 \n",
      "Q 316+952 T 1268 ☑ 1268\n",
      "Q 213+18  T 231  ☑ 231 \n",
      "Q 918+17  T 935  ☑ 935 \n",
      "Q 139+7   T 146  ☑ 146 \n",
      "Q 89+5    T 94   ☑ 94  \n",
      "Q 751+927 T 1678 ☑ 1678\n",
      "Q 1+233   T 234  ☑ 234 \n",
      "Q 65+623  T 688  ☑ 688 \n",
      "\n",
      "\n",
      "Iteration 24\n",
      "1250/1250 [==============================] - 6s 5ms/step - loss: 0.0069 - accuracy: 0.9993 - val_loss: 0.0165 - val_accuracy: 0.9955\n"
     ]
    },
    {
     "name": "stderr",
     "output_type": "stream",
     "text": [
      "\r",
      " 83%|█████████████████████████████████████████████████████████████████████████████████████████████████████████████████████████████████████████▍                            | 24/29 [02:16<00:29,  5.85s/it]"
     ]
    },
    {
     "name": "stdout",
     "output_type": "stream",
     "text": [
      "Q 644+39  T 683  ☑ 683 \n",
      "Q 21+744  T 765  ☑ 765 \n",
      "Q 945+8   T 953  ☑ 953 \n",
      "Q 24+364  T 388  ☑ 388 \n",
      "Q 679+224 T 903  ☑ 903 \n",
      "Q 13+50   T 63   ☑ 63  \n",
      "Q 74+34   T 108  ☑ 108 \n",
      "Q 124+25  T 149  ☑ 149 \n",
      "Q 306+80  T 386  ☑ 386 \n",
      "Q 735+7   T 742  ☑ 742 \n",
      "\n",
      "\n",
      "Iteration 25\n",
      "1250/1250 [==============================] - 6s 5ms/step - loss: 0.0336 - accuracy: 0.9908 - val_loss: 0.0078 - val_accuracy: 0.9988\n"
     ]
    },
    {
     "name": "stderr",
     "output_type": "stream",
     "text": [
      "\r",
      " 86%|███████████████████████████████████████████████████████████████████████████████████████████████████████████████████████████████████████████████                       | 25/29 [02:22<00:23,  5.86s/it]"
     ]
    },
    {
     "name": "stdout",
     "output_type": "stream",
     "text": [
      "Q 321+0   T 321  ☑ 321 \n",
      "Q 136+227 T 363  ☑ 363 \n",
      "Q 62+37   T 99   ☑ 99  \n",
      "Q 988+80  T 1068 ☑ 1068\n",
      "Q 319+712 T 1031 ☑ 1031\n",
      "Q 748+92  T 840  ☑ 840 \n",
      "Q 126+156 T 282  ☑ 282 \n",
      "Q 89+16   T 105  ☑ 105 \n",
      "Q 501+738 T 1239 ☑ 1239\n",
      "Q 186+835 T 1021 ☑ 1021\n",
      "\n",
      "\n",
      "Iteration 26\n",
      "1250/1250 [==============================] - 6s 4ms/step - loss: 0.0322 - accuracy: 0.9909 - val_loss: 0.0136 - val_accuracy: 0.9972\n"
     ]
    },
    {
     "name": "stderr",
     "output_type": "stream",
     "text": [
      "\r",
      " 90%|████████████████████████████████████████████████████████████████████████████████████████████████████████████████████████████████████████████████████▊                 | 26/29 [02:28<00:17,  5.83s/it]"
     ]
    },
    {
     "name": "stdout",
     "output_type": "stream",
     "text": [
      "Q 84+362  T 446  ☑ 446 \n",
      "Q 86+773  T 859  ☑ 859 \n",
      "Q 345+3   T 348  ☑ 348 \n",
      "Q 716+275 T 991  ☑ 991 \n",
      "Q 953+19  T 972  ☑ 972 \n",
      "Q 625+30  T 655  ☑ 655 \n",
      "Q 0+950   T 950  ☑ 950 \n",
      "Q 336+6   T 342  ☑ 342 \n",
      "Q 930+43  T 973  ☑ 973 \n",
      "Q 50+256  T 306  ☑ 306 \n",
      "\n",
      "\n",
      "Iteration 27\n",
      "1250/1250 [==============================] - 6s 5ms/step - loss: 0.0144 - accuracy: 0.9968 - val_loss: 0.0082 - val_accuracy: 0.9987\n"
     ]
    },
    {
     "name": "stderr",
     "output_type": "stream",
     "text": [
      "\r",
      " 93%|██████████████████████████████████████████████████████████████████████████████████████████████████████████████████████████████████████████████████████████▌           | 27/29 [02:33<00:11,  5.84s/it]"
     ]
    },
    {
     "name": "stdout",
     "output_type": "stream",
     "text": [
      "Q 44+709  T 753  ☑ 753 \n",
      "Q 37+77   T 114  ☑ 114 \n",
      "Q 95+152  T 247  ☑ 247 \n",
      "Q 863+5   T 868  ☑ 868 \n",
      "Q 506+5   T 511  ☑ 511 \n",
      "Q 931+19  T 950  ☑ 950 \n",
      "Q 75+323  T 398  ☑ 398 \n",
      "Q 29+63   T 92   ☑ 92  \n",
      "Q 99+58   T 157  ☑ 157 \n",
      "Q 665+35  T 700  ☑ 700 \n",
      "\n",
      "\n",
      "Iteration 28\n",
      "1250/1250 [==============================] - 6s 5ms/step - loss: 0.0336 - accuracy: 0.9909 - val_loss: 0.0287 - val_accuracy: 0.9922\n"
     ]
    },
    {
     "name": "stderr",
     "output_type": "stream",
     "text": [
      "\r",
      " 97%|████████████████████████████████████████████████████████████████████████████████████████████████████████████████████████████████████████████████████████████████▎     | 28/29 [02:39<00:05,  5.84s/it]"
     ]
    },
    {
     "name": "stdout",
     "output_type": "stream",
     "text": [
      "Q 72+189  T 261  ☑ 261 \n",
      "Q 8+19    T 27   ☑ 27  \n",
      "Q 739+977 T 1716 ☑ 1716\n",
      "Q 1+448   T 449  ☑ 449 \n",
      "Q 61+666  T 727  ☑ 727 \n",
      "Q 714+373 T 1087 ☒ 1077\n",
      "Q 50+624  T 674  ☑ 674 \n",
      "Q 378+133 T 511  ☑ 511 \n",
      "Q 8+24    T 32   ☑ 32  \n",
      "Q 380+62  T 442  ☑ 442 \n",
      "\n",
      "\n",
      "Iteration 29\n",
      "1250/1250 [==============================] - 6s 4ms/step - loss: 0.0204 - accuracy: 0.9948 - val_loss: 0.0169 - val_accuracy: 0.9956\n"
     ]
    },
    {
     "name": "stderr",
     "output_type": "stream",
     "text": [
      "100%|██████████████████████████████████████████████████████████████████████████████████████████████████████████████████████████████████████████████████████████████████████| 29/29 [02:45<00:00,  5.71s/it]"
     ]
    },
    {
     "name": "stdout",
     "output_type": "stream",
     "text": [
      "Q 56+693  T 749  ☑ 749 \n",
      "Q 36+711  T 747  ☑ 747 \n",
      "Q 208+808 T 1016 ☑ 1016\n",
      "Q 795+20  T 815  ☑ 815 \n",
      "Q 833+769 T 1602 ☑ 1602\n",
      "Q 9+406   T 415  ☑ 415 \n",
      "Q 0+31    T 31   ☑ 31  \n",
      "Q 70+308  T 378  ☑ 378 \n",
      "Q 37+296  T 333  ☑ 333 \n",
      "Q 77+427  T 504  ☑ 504 \n"
     ]
    },
    {
     "name": "stderr",
     "output_type": "stream",
     "text": [
      "\n"
     ]
    }
   ],
   "source": [
    "\n",
    "\n",
    "epochs = 30\n",
    "batch_size = 32\n",
    "\n",
    "\n",
    "# Train the model each generation and show predictions against the validation\n",
    "# dataset.\n",
    "for epoch in tqdm(range(1, epochs)):\n",
    "    print()\n",
    "    print(\"\\nIteration\", epoch)\n",
    "    model.fit(\n",
    "        x_train,\n",
    "        y_train,\n",
    "        batch_size=batch_size,\n",
    "        epochs=1,\n",
    "        validation_data=(x_test, y_test),\n",
    "    )\n",
    "    # Select 10 samples from the validation set at random so we can visualize\n",
    "    # errors.\n",
    "    for i in range(10):\n",
    "        ind = np.random.randint(0, len(x_test))\n",
    "        rowx, rowy = x_test[np.array([ind])], y_test[np.array([ind])]\n",
    "        preds = np.argmax(model.predict(rowx), axis=-1)\n",
    "        q = ctable.decode(rowx[0])\n",
    "        correct = ctable.decode(rowy[0])\n",
    "        guess = ctable.decode(preds[0], calc_argmax=False)\n",
    "        print(\"Q\", q[::-1] if REVERSE else q, end=\" \")\n",
    "        print(\"T\", correct, end=\" \")\n",
    "        if correct == guess:\n",
    "            print(\"☑ \" + guess)\n",
    "        else:\n",
    "            print(\"☒ \" + guess)\n"
   ]
  },
  {
   "cell_type": "code",
   "execution_count": 18,
   "id": "52cf2e03",
   "metadata": {},
   "outputs": [],
   "source": [
    "# from tqdm import tqdm\n",
    "# for i in tqdm(range(100000)):\n",
    "#     print(i)"
   ]
  },
  {
   "cell_type": "markdown",
   "id": "db77ae3a",
   "metadata": {},
   "source": [
    "# Reference \n",
    "\n",
    "- https://keras.io/examples/nlp/addition_rnn/\n",
    "- https://medium.com/@nutanbhogendrasharma/sequence-to-sequence-learning-with-neural-networks-to-perform-number-addition-7ef0df7afaa4"
   ]
  },
  {
   "cell_type": "code",
   "execution_count": null,
   "id": "18975ca6",
   "metadata": {},
   "outputs": [],
   "source": []
  }
 ],
 "metadata": {
  "kernelspec": {
   "display_name": "Python 3 (ipykernel)",
   "language": "python",
   "name": "python3"
  },
  "language_info": {
   "codemirror_mode": {
    "name": "ipython",
    "version": 3
   },
   "file_extension": ".py",
   "mimetype": "text/x-python",
   "name": "python",
   "nbconvert_exporter": "python",
   "pygments_lexer": "ipython3",
   "version": "3.9.12"
  }
 },
 "nbformat": 4,
 "nbformat_minor": 5
}
