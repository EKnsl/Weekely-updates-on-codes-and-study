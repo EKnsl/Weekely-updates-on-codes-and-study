{
 "cells": [
  {
   "cell_type": "markdown",
   "id": "8e8eb8e9",
   "metadata": {},
   "source": [
    "# numpy\n",
    "used for matrix and linear algebra related computation"
   ]
  },
  {
   "cell_type": "code",
   "execution_count": 1,
   "id": "84ff17db",
   "metadata": {},
   "outputs": [
    {
     "data": {
      "text/plain": [
       "array([2, 3, 4])"
      ]
     },
     "execution_count": 1,
     "metadata": {},
     "output_type": "execute_result"
    }
   ],
   "source": [
    "import numpy as np\n",
    "a = np.array([2,3,4])\n",
    "a"
   ]
  },
  {
   "cell_type": "code",
   "execution_count": 2,
   "id": "048219bc",
   "metadata": {},
   "outputs": [
    {
     "data": {
      "text/plain": [
       "array([[ 0,  1,  2,  3,  4],\n",
       "       [ 5,  6,  7,  8,  9],\n",
       "       [10, 11, 12, 13, 14]])"
      ]
     },
     "execution_count": 2,
     "metadata": {},
     "output_type": "execute_result"
    }
   ],
   "source": [
    "a = np.arange(15).reshape(3, 5)\n",
    "a"
   ]
  },
  {
   "cell_type": "code",
   "execution_count": 3,
   "id": "9af20e34",
   "metadata": {},
   "outputs": [
    {
     "data": {
      "text/plain": [
       "(3, 5)"
      ]
     },
     "execution_count": 3,
     "metadata": {},
     "output_type": "execute_result"
    }
   ],
   "source": [
    "a.shape"
   ]
  },
  {
   "cell_type": "markdown",
   "id": "6bb96a36",
   "metadata": {},
   "source": [
    "# matplotlib\n",
    "\n",
    "used for graphical plotting"
   ]
  },
  {
   "cell_type": "code",
   "execution_count": 6,
   "id": "b59e20b0",
   "metadata": {},
   "outputs": [
    {
     "data": {
      "image/png": "[encoded data removed]",
      "text/plain": [
       "<Figure size 432x288 with 1 Axes>"
      ]
     },
     "metadata": {
      "needs_background": "light"
     },
     "output_type": "display_data"
    }
   ],
   "source": [
    "%matplotlib inline\n",
    "from matplotlib import pyplot as plt\n",
    "\n",
    "x = np.array(range(10))\n",
    "y = np.array(range(10))\n",
    "\n",
    "plt.plot(x, y)\n",
    "plt.show()"
   ]
  },
  {
   "cell_type": "code",
   "execution_count": 8,
   "id": "c0d46404",
   "metadata": {},
   "outputs": [
    {
     "data": {
      "text/plain": [
       "[0, 1, 4, 9, 16, 25, 36, 49, 64, 81]"
      ]
     },
     "execution_count": 8,
     "metadata": {},
     "output_type": "execute_result"
    }
   ],
   "source": [
    "x = np.array(range(10))\n",
    "x\n",
    "\n",
    "y = [val*val for val in x]\n",
    "y"
   ]
  },
  {
   "cell_type": "code",
   "execution_count": 9,
   "id": "c6b12dc2",
   "metadata": {},
   "outputs": [
    {
     "data": {
      "image/png": "[encoded data removed]",
      "text/plain": [
       "<Figure size 432x288 with 1 Axes>"
      ]
     },
     "metadata": {
      "needs_background": "light"
     },
     "output_type": "display_data"
    }
   ],
   "source": [
    "%matplotlib inline\n",
    "from matplotlib import pyplot as plt\n",
    "\n",
    "plt.plot(x, y)\n",
    "plt.show()"
   ]
  },
  {
   "cell_type": "markdown",
   "id": "497f5612",
   "metadata": {},
   "source": [
    "# Data :\n",
    "- Collection of facts\n",
    "- Can be categorized as \n",
    "    - Qualitive \n",
    "    - Quantitive \n",
    "        - Discrete : takes integer value ( countable )\n",
    "        - Continuous : can take any real number as value (amount is too large that it is impossible to count)"
   ]
  },
  {
   "cell_type": "markdown",
   "id": "2f639300",
   "metadata": {},
   "source": [
    "# Census and Sample\n",
    "\n",
    "- When all the elements are taken from a collection or group of data, it is called census\n",
    "\n",
    "- When we peek a chunk (some subset) from the data, it is called a sample"
   ]
  },
  {
   "cell_type": "markdown",
   "id": "da65e03a",
   "metadata": {},
   "source": [
    "# mean, median, mode\n",
    "\n",
    "mean : the average of all the element taken. when we divide the sum of elements by number of elements , we get mean (or arithmatic mean)"
   ]
  },
  {
   "cell_type": "code",
   "execution_count": 10,
   "id": "2835bb4e",
   "metadata": {},
   "outputs": [
    {
     "name": "stdout",
     "output_type": "stream",
     "text": [
      "7.5\n",
      "7.5\n"
     ]
    }
   ],
   "source": [
    "a = np.array([10, 5, 12, 3])\n",
    "\n",
    "print(np.mean(a))\n",
    "\n",
    "print(np.sum(a)/len(a))"
   ]
  },
  {
   "cell_type": "code",
   "execution_count": 11,
   "id": "9d217613",
   "metadata": {},
   "outputs": [
    {
     "data": {
      "text/plain": [
       "array([1.5, 3.5])"
      ]
     },
     "execution_count": 11,
     "metadata": {},
     "output_type": "execute_result"
    }
   ],
   "source": [
    "a = np.array([[1, 2], [3, 4]])\n",
    "np.mean(a, axis=1)"
   ]
  },
  {
   "cell_type": "markdown",
   "id": "116a7acf",
   "metadata": {},
   "source": [
    "median : the middle element of an ordered collection of elements"
   ]
  },
  {
   "cell_type": "code",
   "execution_count": 12,
   "id": "36a1543e",
   "metadata": {},
   "outputs": [
    {
     "data": {
      "text/plain": [
       "10.0"
      ]
     },
     "execution_count": 12,
     "metadata": {},
     "output_type": "execute_result"
    }
   ],
   "source": [
    "a = np.array([10, 14, 4, 7, 9, 12, 15])\n",
    "np.median(a)              # 4, 7, 9, 10, 12, 14, 15. here  median is 10"
   ]
  },
  {
   "cell_type": "markdown",
   "id": "27d45e4b",
   "metadata": {},
   "source": [
    "mode : most frequent value in a collection \n",
    "- sometimes, when  few values are much grater than all other values in the data, arithmatic mean cannot represaent \n",
    "  real average or actual mid point of minimum and maximum value, median is more useful than mean in those cases."
   ]
  },
  {
   "cell_type": "code",
   "execution_count": 17,
   "id": "62927974",
   "metadata": {},
   "outputs": [
    {
     "data": {
      "text/plain": [
       "ModeResult(mode=array([4]), count=array([2]))"
      ]
     },
     "execution_count": 17,
     "metadata": {},
     "output_type": "execute_result"
    }
   ],
   "source": [
    "from scipy import stats # useful for scientific computing\n",
    "a = np.array([10, 14, 4, 7, 9, 12, 4, 15]) # 4 appeard most\n",
    "stats.mode(a)"
   ]
  },
  {
   "cell_type": "markdown",
   "id": "367a366c",
   "metadata": {},
   "source": [
    "# Normal Distribution "
   ]
  },
  {
   "cell_type": "code",
   "execution_count": 13,
   "id": "121af298",
   "metadata": {},
   "outputs": [
    {
     "data": {
      "image/png": "[encoded data removed]",
      "text/plain": [
       "<Figure size 432x288 with 1 Axes>"
      ]
     },
     "metadata": {
      "needs_background": "light"
     },
     "output_type": "display_data"
    }
   ],
   "source": [
    "x = np.array([20, 30, 30, 30, 20, 20, 50, 20, 20, 30, 40, 40, 40,  50, 60, 60, 90])\n",
    "\n",
    "plt.hist(x, 15)\n",
    "plt.show()"
   ]
  },
  {
   "cell_type": "code",
   "execution_count": 14,
   "id": "3b664732",
   "metadata": {},
   "outputs": [
    {
     "data": {
      "image/png": "[encoded data removed]",
      "text/plain": [
       "<Figure size 432x288 with 1 Axes>"
      ]
     },
     "metadata": {
      "needs_background": "light"
     },
     "output_type": "display_data"
    }
   ],
   "source": [
    "x = np.array([40, 30, 80, 30, 20, 80, 50, 20, 20, 60, 40, 40, 40,  50, 60, 60, 90, 80, 70])\n",
    "\n",
    "plt.hist(x, 15)\n",
    "plt.show()"
   ]
  },
  {
   "cell_type": "code",
   "execution_count": 15,
   "id": "435a6729",
   "metadata": {},
   "outputs": [
    {
     "data": {
      "image/png": "[encoded data removed]",
      "text/plain": [
       "<Figure size 432x288 with 1 Axes>"
      ]
     },
     "metadata": {
      "needs_background": "light"
     },
     "output_type": "display_data"
    }
   ],
   "source": [
    "sizes = np.array([9, 8, 8, 9, 9, 1, 4, 5, 6, 7, 8, 9, 10, 10, 11, 11, 11, 11, 11, 13, 12, 12, 12, 12, 13, 13, 14, 14, 14, 15, 15, 15, 16, 17, 18, 20])\n",
    "\n",
    "plt.hist(sizes)\n",
    "plt.show()"
   ]
  },
  {
   "cell_type": "markdown",
   "id": "54086a37",
   "metadata": {},
   "source": [
    "In the last plot, the data is arranged in a way that the distribution almost looks like a bell curve(https://www.mathsisfun.com/data/standard-normal-distribution.html). This type of distribution is called normal distribution. When the data is (almost) normally distributed, its mean , median and mode are very close."
   ]
  },
  {
   "cell_type": "markdown",
   "id": "3e411b8b",
   "metadata": {},
   "source": [
    "- Variance and Standard daviation\n",
    "- Why Standard daviation is useful\n",
    "- Standardization and why it is necessary\n",
    "- "
   ]
  },
  {
   "cell_type": "code",
   "execution_count": 26,
   "id": "373d7cdf",
   "metadata": {},
   "outputs": [
    {
     "data": {
      "text/plain": [
       "26736.058887317366"
      ]
     },
     "execution_count": 26,
     "metadata": {},
     "output_type": "execute_result"
    }
   ],
   "source": [
    "incomes = np.random.normal(27000, 15000, 10000)\n",
    "np.mean(incomes)"
   ]
  },
  {
   "cell_type": "code",
   "execution_count": 28,
   "id": "599a6c98",
   "metadata": {},
   "outputs": [
    {
     "data": {
      "image/png": "[encoded data removed]",
      "text/plain": [
       "<Figure size 432x288 with 1 Axes>"
      ]
     },
     "metadata": {
      "needs_background": "light"
     },
     "output_type": "display_data"
    }
   ],
   "source": [
    "plt.hist(incomes, 50)\n",
    "plt.show()"
   ]
  },
  {
   "cell_type": "code",
   "execution_count": 29,
   "id": "389fe822",
   "metadata": {},
   "outputs": [
    {
     "data": {
      "text/plain": [
       "26692.148524148513"
      ]
     },
     "execution_count": 29,
     "metadata": {},
     "output_type": "execute_result"
    }
   ],
   "source": [
    "np.median(incomes)"
   ]
  },
  {
   "cell_type": "code",
   "execution_count": 30,
   "id": "2aa57a9b",
   "metadata": {},
   "outputs": [
    {
     "data": {
      "text/plain": [
       "126723.3865486625"
      ]
     },
     "execution_count": 30,
     "metadata": {},
     "output_type": "execute_result"
    }
   ],
   "source": [
    "incomes = np.append(incomes, [10**9])\n",
    "np.mean(incomes)"
   ]
  },
  {
   "cell_type": "code",
   "execution_count": 31,
   "id": "dd35e039",
   "metadata": {},
   "outputs": [
    {
     "data": {
      "text/plain": [
       "26693.489887093245"
      ]
     },
     "execution_count": 31,
     "metadata": {},
     "output_type": "execute_result"
    }
   ],
   "source": [
    "np.median(incomes)"
   ]
  },
  {
   "cell_type": "code",
   "execution_count": 34,
   "id": "b54ccb60",
   "metadata": {},
   "outputs": [
    {
     "data": {
      "image/png": "[encoded data removed]",
      "text/plain": [
       "<Figure size 432x288 with 1 Axes>"
      ]
     },
     "metadata": {
      "needs_background": "light"
     },
     "output_type": "display_data"
    }
   ],
   "source": [
    "\n",
    "incomes = np.random.normal(100.0, 50.0, 10000) # center value 100, standard deviation 20, 10000 data points\n",
    "\n",
    "plt.hist(incomes, 50)\n",
    "plt.show()\n"
   ]
  },
  {
   "cell_type": "code",
   "execution_count": 35,
   "id": "0e54adfa",
   "metadata": {},
   "outputs": [
    {
     "name": "stdout",
     "output_type": "stream",
     "text": [
      "2544.9072846703107\n",
      "50.44707409424565\n"
     ]
    }
   ],
   "source": [
    "print(incomes.var()) # Variance\n",
    "print(incomes.std()) # Standard Deviation"
   ]
  },
  {
   "cell_type": "markdown",
   "id": "65e62c37",
   "metadata": {},
   "source": [
    "# Some other important concepts to know \n",
    "\n",
    "- Probability and probability distribution\n",
    "- Percentile and Moment\n",
    "- Covariance and Correlation\n",
    "- Conditional Probability\n",
    "- Bayes' Theorem"
   ]
  },
  {
   "cell_type": "code",
   "execution_count": null,
   "id": "6e44389e",
   "metadata": {},
   "outputs": [],
   "source": []
  }
 ],
 "metadata": {
  "kernelspec": {
   "display_name": "Python 3 (ipykernel)",
   "language": "python",
   "name": "python3"
  },
  "language_info": {
   "codemirror_mode": {
    "name": "ipython",
    "version": 3
   },
   "file_extension": ".py",
   "mimetype": "text/x-python",
   "name": "python",
   "nbconvert_exporter": "python",
   "pygments_lexer": "ipython3",
   "version": "3.8.10"
  }
 },
 "nbformat": 4,
 "nbformat_minor": 5
}
