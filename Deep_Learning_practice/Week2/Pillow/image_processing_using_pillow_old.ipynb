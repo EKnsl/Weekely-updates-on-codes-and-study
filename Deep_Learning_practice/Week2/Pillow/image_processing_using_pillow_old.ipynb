{
 "cells": [
  {
   "cell_type": "code",
   "execution_count": 27,
   "id": "9288203c",
   "metadata": {},
   "outputs": [],
   "source": [
    "import tkinter as tk\n",
    "from PIL import ImageTk, Image\n",
    "import numpy as np\n",
    "from IPython.display import Image as ipython_image, display"
   ]
  },
  {
   "cell_type": "code",
   "execution_count": 28,
   "id": "216c5d05",
   "metadata": {},
   "outputs": [],
   "source": [
    "def show_image(path):\n",
    "    image_window = tk.Tk()\n",
    "    img = ImageTk.PhotoImage(Image.open(path))\n",
    "    panel = tk.Label(image_window, image=img)\n",
    "    panel.pack(side=\"bottom\", fill=\"both\", expand=\"yes\")\n",
    "    image_window.mainloop()"
   ]
  },
  {
   "cell_type": "code",
   "execution_count": 29,
   "id": "ae417f0d",
   "metadata": {},
   "outputs": [
    {
     "ename": "AttributeError",
     "evalue": "read",
     "output_type": "error",
     "traceback": [
      "\u001b[0;31m---------------------------------------------------------------------------\u001b[0m",
      "\u001b[0;31mAttributeError\u001b[0m                            Traceback (most recent call last)",
      "Input \u001b[0;32mIn [29]\u001b[0m, in \u001b[0;36m<cell line: 1>\u001b[0;34m()\u001b[0m\n\u001b[1;32m      1\u001b[0m \u001b[38;5;28;01mwith\u001b[39;00m Image\u001b[38;5;241m.\u001b[39mopen(\u001b[38;5;124m'\u001b[39m\u001b[38;5;124mimages/nature1.jpeg\u001b[39m\u001b[38;5;124m'\u001b[39m) \u001b[38;5;28;01mas\u001b[39;00m input_image:\n\u001b[1;32m      2\u001b[0m     input_image\u001b[38;5;241m.\u001b[39mshow()\n\u001b[0;32m----> 3\u001b[0m     \u001b[43mshow_image\u001b[49m\u001b[43m(\u001b[49m\u001b[43minput_image\u001b[49m\u001b[43m)\u001b[49m\n\u001b[1;32m      4\u001b[0m     img \u001b[38;5;241m=\u001b[39m input_image\n",
      "Input \u001b[0;32mIn [28]\u001b[0m, in \u001b[0;36mshow_image\u001b[0;34m(path)\u001b[0m\n\u001b[1;32m      1\u001b[0m \u001b[38;5;28;01mdef\u001b[39;00m \u001b[38;5;21mshow_image\u001b[39m(path):\n\u001b[1;32m      2\u001b[0m     image_window \u001b[38;5;241m=\u001b[39m tk\u001b[38;5;241m.\u001b[39mTk()\n\u001b[0;32m----> 3\u001b[0m     img \u001b[38;5;241m=\u001b[39m ImageTk\u001b[38;5;241m.\u001b[39mPhotoImage(\u001b[43mImage\u001b[49m\u001b[38;5;241;43m.\u001b[39;49m\u001b[43mopen\u001b[49m\u001b[43m(\u001b[49m\u001b[43mpath\u001b[49m\u001b[43m)\u001b[49m)\n\u001b[1;32m      4\u001b[0m     panel \u001b[38;5;241m=\u001b[39m tk\u001b[38;5;241m.\u001b[39mLabel(image_window, image\u001b[38;5;241m=\u001b[39mimg)\n\u001b[1;32m      5\u001b[0m     panel\u001b[38;5;241m.\u001b[39mpack(side\u001b[38;5;241m=\u001b[39m\u001b[38;5;124m\"\u001b[39m\u001b[38;5;124mbottom\u001b[39m\u001b[38;5;124m\"\u001b[39m, fill\u001b[38;5;241m=\u001b[39m\u001b[38;5;124m\"\u001b[39m\u001b[38;5;124mboth\u001b[39m\u001b[38;5;124m\"\u001b[39m, expand\u001b[38;5;241m=\u001b[39m\u001b[38;5;124m\"\u001b[39m\u001b[38;5;124myes\u001b[39m\u001b[38;5;124m\"\u001b[39m)\n",
      "File \u001b[0;32m~/anaconda3/envs/jupyter_notebook_env/lib/python3.10/site-packages/PIL/Image.py:3140\u001b[0m, in \u001b[0;36mopen\u001b[0;34m(fp, mode, formats)\u001b[0m\n\u001b[1;32m   3137\u001b[0m     fp \u001b[38;5;241m=\u001b[39m io\u001b[38;5;241m.\u001b[39mBytesIO(fp\u001b[38;5;241m.\u001b[39mread())\n\u001b[1;32m   3138\u001b[0m     exclusive_fp \u001b[38;5;241m=\u001b[39m \u001b[38;5;28;01mTrue\u001b[39;00m\n\u001b[0;32m-> 3140\u001b[0m prefix \u001b[38;5;241m=\u001b[39m \u001b[43mfp\u001b[49m\u001b[38;5;241;43m.\u001b[39;49m\u001b[43mread\u001b[49m(\u001b[38;5;241m16\u001b[39m)\n\u001b[1;32m   3142\u001b[0m preinit()\n\u001b[1;32m   3144\u001b[0m accept_warnings \u001b[38;5;241m=\u001b[39m []\n",
      "File \u001b[0;32m~/anaconda3/envs/jupyter_notebook_env/lib/python3.10/site-packages/PIL/Image.py:517\u001b[0m, in \u001b[0;36mImage.__getattr__\u001b[0;34m(self, name)\u001b[0m\n\u001b[1;32m    515\u001b[0m     deprecate(\u001b[38;5;124m\"\u001b[39m\u001b[38;5;124mImage categories\u001b[39m\u001b[38;5;124m\"\u001b[39m, \u001b[38;5;241m10\u001b[39m, \u001b[38;5;124m\"\u001b[39m\u001b[38;5;124mis_animated\u001b[39m\u001b[38;5;124m\"\u001b[39m, plural\u001b[38;5;241m=\u001b[39m\u001b[38;5;28;01mTrue\u001b[39;00m)\n\u001b[1;32m    516\u001b[0m     \u001b[38;5;28;01mreturn\u001b[39;00m \u001b[38;5;28mself\u001b[39m\u001b[38;5;241m.\u001b[39m_category\n\u001b[0;32m--> 517\u001b[0m \u001b[38;5;28;01mraise\u001b[39;00m \u001b[38;5;167;01mAttributeError\u001b[39;00m(name)\n",
      "\u001b[0;31mAttributeError\u001b[0m: read"
     ]
    }
   ],
   "source": [
    "with Image.open('images/nature1.jpeg') as input_image:\n",
    "#     input_image.show()\n",
    "    show_image(input_image)\n",
    "    img = input_image"
   ]
  },
  {
   "cell_type": "code",
   "execution_count": 4,
   "id": "14e27f46",
   "metadata": {},
   "outputs": [
    {
     "name": "stdout",
     "output_type": "stream",
     "text": [
      "Format :  JPEG\n",
      "size :  (349, 144)\n",
      "mode :  RGB\n",
      "input image :  <PIL.JpegImagePlugin.JpegImageFile image mode=RGB size=349x144 at 0x7FC6E82BFE80>\n"
     ]
    }
   ],
   "source": [
    "print(\"Format : \", input_image.format)\n",
    "print(\"size : \", input_image.size) \n",
    "print(\"mode : \", input_image.mode)\n",
    "print(\"input image : \", input_image)"
   ]
  },
  {
   "cell_type": "code",
   "execution_count": 6,
   "id": "9f8e6c62",
   "metadata": {},
   "outputs": [],
   "source": [
    "img = Image.open('images/nature1.jpeg')\n",
    "img.show()"
   ]
  },
  {
   "cell_type": "markdown",
   "id": "1fc15eb7",
   "metadata": {},
   "source": [
    "# Convert image to numpy"
   ]
  },
  {
   "cell_type": "code",
   "execution_count": 7,
   "id": "40627568",
   "metadata": {},
   "outputs": [
    {
     "name": "stdout",
     "output_type": "stream",
     "text": [
      "<class 'PIL.JpegImagePlugin.JpegImageFile'>\n",
      "<class 'numpy.ndarray'>\n",
      "(144, 349, 3)\n"
     ]
    }
   ],
   "source": [
    "print(type(img))\n",
    "img_array = np.array(img)\n",
    "print(type(img_array))\n",
    "print(img_array.shape)"
   ]
  },
  {
   "cell_type": "markdown",
   "id": "074699dc",
   "metadata": {},
   "source": [
    "# Thumbnail"
   ]
  },
  {
   "cell_type": "code",
   "execution_count": 8,
   "id": "2fd2fc14",
   "metadata": {},
   "outputs": [],
   "source": [
    "import glob, os\n",
    "size = 128, 128\n",
    "for image in glob.glob(\"images/*.jpeg\"):\n",
    "    file, ext = os.path.splitext(image)\n",
    "    with Image.open(image) as img:\n",
    "        img.thumbnail(size)\n",
    "        img.save(file + \".thumbnail\", \"JPEG\")"
   ]
  },
  {
   "cell_type": "markdown",
   "id": "cd9c636b",
   "metadata": {},
   "source": [
    "# Cutting, Pasting and Merging Image"
   ]
  },
  {
   "cell_type": "code",
   "execution_count": 9,
   "id": "94932f0e",
   "metadata": {},
   "outputs": [],
   "source": [
    "#Cutting\n",
    "img = Image.open(\"images/nature3.jpeg\")\n",
    "#im.show()\n",
    "\n",
    "box_img = (100,100,300,300) #left, upper, right, lower\n",
    "region = img.crop(box_img)\n",
    "region.show()\n"
   ]
  },
  {
   "cell_type": "code",
   "execution_count": 10,
   "id": "4306f36c",
   "metadata": {},
   "outputs": [],
   "source": [
    "##pasting\n",
    "region = region.rotate(180)\n",
    "#region = region.transpose(Image.Transpose.ROTATE_180)\n",
    "img.paste(region,box_img)\n",
    "img.show()"
   ]
  },
  {
   "cell_type": "code",
   "execution_count": 11,
   "id": "cee07689",
   "metadata": {},
   "outputs": [],
   "source": [
    "##Merge Image\n",
    "def merge(im1 , im2):\n",
    "    w = im1.size[0] + im2.size[0]\n",
    "    h = max(im1.size[1], im2.size[1])\n",
    "    im = Image.new(\"RGBA\",(w,h))\n",
    "    im.show()\n",
    "\n",
    "    im.paste(im1)\n",
    "    im.paste(im2,(im1.size[0], 0))\n",
    "\n",
    "    return im"
   ]
  },
  {
   "cell_type": "code",
   "execution_count": 13,
   "id": "f123b53b",
   "metadata": {},
   "outputs": [
    {
     "name": "stdout",
     "output_type": "stream",
     "text": [
      "<PIL.Image.Image image mode=RGBA size=624x183 at 0x7FC6E957B5E0>\n"
     ]
    }
   ],
   "source": [
    "im1 = Image.open(\"images/nature1.jpeg\")\n",
    "im2 = Image.open(\"images/nature2.jpeg\")\n",
    "out = merge(im1, im2)\n",
    "out.show()\n",
    "print(out)"
   ]
  },
  {
   "cell_type": "code",
   "execution_count": 25,
   "id": "36ce517c",
   "metadata": {},
   "outputs": [],
   "source": []
  },
  {
   "cell_type": "code",
   "execution_count": 26,
   "id": "b00b5f13",
   "metadata": {},
   "outputs": [],
   "source": [
    "show_image(\"images/nature1.jpeg\")"
   ]
  },
  {
   "cell_type": "code",
   "execution_count": null,
   "id": "c344317a",
   "metadata": {},
   "outputs": [],
   "source": []
  }
 ],
 "metadata": {
  "kernelspec": {
   "display_name": "Python 3 (ipykernel)",
   "language": "python",
   "name": "python3"
  },
  "language_info": {
   "codemirror_mode": {
    "name": "ipython",
    "version": 3
   },
   "file_extension": ".py",
   "mimetype": "text/x-python",
   "name": "python",
   "nbconvert_exporter": "python",
   "pygments_lexer": "ipython3",
   "version": "3.10.5"
  }
 },
 "nbformat": 4,
 "nbformat_minor": 5
}
