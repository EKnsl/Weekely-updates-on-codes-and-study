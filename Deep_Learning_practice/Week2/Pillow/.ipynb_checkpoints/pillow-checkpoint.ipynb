{
 "cells": [
  {
   "cell_type": "code",
   "execution_count": 1,
   "id": "dbd90eb1",
   "metadata": {},
   "outputs": [],
   "source": [
    "from PIL import Image\n",
    "import matplotlib.pyplot as plt\n",
    "import numpy as np\n",
    "%matplotlib inline"
   ]
  },
  {
   "cell_type": "markdown",
   "id": "ad5add54",
   "metadata": {},
   "source": [
    "# read image"
   ]
  },
  {
   "cell_type": "code",
   "execution_count": 2,
   "id": "fe46dbc6",
   "metadata": {},
   "outputs": [
    {
     "ename": "FileNotFoundError",
     "evalue": "[Errno 2] No such file or directory: 'buildings.jpg'",
     "output_type": "error",
     "traceback": [
      "\u001b[0;31m---------------------------------------------------------------------------\u001b[0m",
      "\u001b[0;31mFileNotFoundError\u001b[0m                         Traceback (most recent call last)",
      "Input \u001b[0;32mIn [2]\u001b[0m, in \u001b[0;36m<cell line: 1>\u001b[0;34m()\u001b[0m\n\u001b[0;32m----> 1\u001b[0m image \u001b[38;5;241m=\u001b[39m \u001b[43mImage\u001b[49m\u001b[38;5;241;43m.\u001b[39;49m\u001b[43mopen\u001b[49m\u001b[43m(\u001b[49m\u001b[38;5;124;43m\"\u001b[39;49m\u001b[38;5;124;43mbuildings.jpg\u001b[39;49m\u001b[38;5;124;43m\"\u001b[39;49m\u001b[43m)\u001b[49m\n",
      "File \u001b[0;32m~/anaconda3/envs/jupyter_notebook_env/lib/python3.10/site-packages/PIL/Image.py:3131\u001b[0m, in \u001b[0;36mopen\u001b[0;34m(fp, mode, formats)\u001b[0m\n\u001b[1;32m   3128\u001b[0m     filename \u001b[38;5;241m=\u001b[39m fp\n\u001b[1;32m   3130\u001b[0m \u001b[38;5;28;01mif\u001b[39;00m filename:\n\u001b[0;32m-> 3131\u001b[0m     fp \u001b[38;5;241m=\u001b[39m \u001b[43mbuiltins\u001b[49m\u001b[38;5;241;43m.\u001b[39;49m\u001b[43mopen\u001b[49m\u001b[43m(\u001b[49m\u001b[43mfilename\u001b[49m\u001b[43m,\u001b[49m\u001b[43m \u001b[49m\u001b[38;5;124;43m\"\u001b[39;49m\u001b[38;5;124;43mrb\u001b[39;49m\u001b[38;5;124;43m\"\u001b[39;49m\u001b[43m)\u001b[49m\n\u001b[1;32m   3132\u001b[0m     exclusive_fp \u001b[38;5;241m=\u001b[39m \u001b[38;5;28;01mTrue\u001b[39;00m\n\u001b[1;32m   3134\u001b[0m \u001b[38;5;28;01mtry\u001b[39;00m:\n",
      "\u001b[0;31mFileNotFoundError\u001b[0m: [Errno 2] No such file or directory: 'buildings.jpg'"
     ]
    }
   ],
   "source": [
    "image = Image.open(\"buildings.jpg\")"
   ]
  },
  {
   "cell_type": "markdown",
   "id": "84a00407",
   "metadata": {},
   "source": [
    "# display image"
   ]
  },
  {
   "cell_type": "code",
   "execution_count": null,
   "id": "e63ad4d5",
   "metadata": {},
   "outputs": [],
   "source": [
    "image.show()"
   ]
  },
  {
   "cell_type": "code",
   "execution_count": null,
   "id": "af5ecac8",
   "metadata": {},
   "outputs": [],
   "source": [
    "plt.imshow(image)"
   ]
  },
  {
   "cell_type": "markdown",
   "id": "8ca010af",
   "metadata": {},
   "source": [
    "# Displaying properties of image"
   ]
  },
  {
   "cell_type": "code",
   "execution_count": null,
   "id": "97d77d89",
   "metadata": {},
   "outputs": [],
   "source": [
    "print(image.size)\n",
    "print(image.format)\n",
    "print(image.mode)"
   ]
  },
  {
   "cell_type": "markdown",
   "id": "65528b69",
   "metadata": {},
   "source": [
    "# save image"
   ]
  },
  {
   "cell_type": "code",
   "execution_count": null,
   "id": "e8cf34b6",
   "metadata": {},
   "outputs": [],
   "source": [
    "image.save(\"buildings_v2.jpg\")"
   ]
  },
  {
   "cell_type": "markdown",
   "id": "27c65131",
   "metadata": {},
   "source": [
    "# Cropping"
   ]
  },
  {
   "cell_type": "code",
   "execution_count": null,
   "id": "2fc1bffc",
   "metadata": {},
   "outputs": [],
   "source": [
    "left, top, right, bottom = (400, 500, 600, 700)\n",
    "cropped_image = image.crop((left, top, right, bottom))\n",
    "plt.imshow(cropped_image)"
   ]
  },
  {
   "cell_type": "markdown",
   "id": "eb3907e9",
   "metadata": {},
   "source": [
    "# Copying"
   ]
  },
  {
   "cell_type": "code",
   "execution_count": null,
   "id": "2e09e4f2",
   "metadata": {},
   "outputs": [],
   "source": [
    "copied_image = image.copy()\n",
    "plt.imshow(copied_image)"
   ]
  },
  {
   "cell_type": "markdown",
   "id": "5ea10580",
   "metadata": {},
   "source": [
    "# Transposing"
   ]
  },
  {
   "cell_type": "code",
   "execution_count": null,
   "id": "9e150b2f",
   "metadata": {},
   "outputs": [],
   "source": [
    "left_right_transposed_image = image.transpose(Image.FLIP_LEFT_RIGHT)\n",
    "top_bottom_transposed_image = image.transpose(Image.FLIP_TOP_BOTTOM)\n",
    "rotated_90_degree_image = image.transpose(Image.ROTATE_90)\n",
    "rotated_180_degree_image = image.transpose(Image.ROTATE_180)\n",
    "rotated_270_degree_image = image.transpose(Image.ROTATE_270)\n",
    "transposed_image = image.transpose(Image.TRANSPOSE)\n",
    "images_dict = {\n",
    "    \"left_right_transposed_image\" : left_right_transposed_image,\n",
    "    \"top_bottom_transposed_image\" : top_bottom_transposed_image,  \n",
    "    \"rotated_90_degree_image\" : rotated_90_degree_image,\n",
    "    \"rotated_180_degree_image\" : rotated_180_degree_image,\n",
    "    \"rotated_270_degree_image\" : rotated_270_degree_image,\n",
    "    \"transposed_image\" : rotated_270_degree_image\n",
    "}"
   ]
  },
  {
   "cell_type": "code",
   "execution_count": null,
   "id": "c34160f7",
   "metadata": {},
   "outputs": [],
   "source": [
    "images_dict\n",
    "# images_dict.items()"
   ]
  },
  {
   "cell_type": "code",
   "execution_count": null,
   "id": "c1e2a1d7",
   "metadata": {},
   "outputs": [],
   "source": [
    "# create the figure\n",
    "fig, axs = plt.subplots(nrows=3, ncols=2, figsize=(20, 20))\n",
    "\n",
    "# flatten the axis into a 1-d array to make it easier to access each axes\n",
    "axs = axs.flatten()\n",
    "\n",
    "# iterate through images_dict and enumerate the files, use i to index the axes\n",
    "for i, (label, image) in enumerate(images_dict.items()):\n",
    "    \n",
    "    # read the image in\n",
    "    #pic = plt.imread(image)\n",
    "\n",
    "    # add the image to the axes\n",
    "    axs[i].imshow(image)\n",
    "\n",
    "    # add an axes title; .stem is a pathlib method to get the filename\n",
    "    axs[i].set(title=label)\n",
    "\n",
    "# add a figure title\n",
    "fig.suptitle('image transpose demo', fontsize=18)"
   ]
  },
  {
   "cell_type": "code",
   "execution_count": null,
   "id": "2a3dc195",
   "metadata": {},
   "outputs": [],
   "source": [
    "#to avoid inplace modifications of the image from the above operations\n",
    "image = copied_image"
   ]
  },
  {
   "cell_type": "markdown",
   "id": "d233a709",
   "metadata": {},
   "source": [
    "# interpolation"
   ]
  },
  {
   "cell_type": "code",
   "execution_count": null,
   "id": "686161f5",
   "metadata": {},
   "outputs": [],
   "source": [
    "new_size = (512, 512)\n",
    "\n",
    "image = copied_image\n",
    "resized_image_bilinear_interpolation = image.resize(new_size, Image.BILINEAR)\n",
    "\n",
    "image = copied_image\n",
    "resized_image_nearest_interpolation  = image.resize(new_size, Image.NEAREST)\n",
    "\n",
    "image = copied_image\n",
    "resized_image_box_interpolation = image.resize(new_size, Image.BOX)\n",
    "\n",
    "image = copied_image\n",
    "resized_image_hamming_interpolation = image.resize(new_size, Image.HAMMING)\n",
    "\n",
    "image = copied_image\n",
    "resized_image_bicubic_interpolation = image.resize(new_size, Image.BICUBIC)\n",
    "\n",
    "image = copied_image\n",
    "resized_image_lanczos_interpolation = image.resize(new_size, Image.LANCZOS)"
   ]
  },
  {
   "cell_type": "code",
   "execution_count": null,
   "id": "1a0bae92",
   "metadata": {},
   "outputs": [],
   "source": [
    "interpolated_images_dict = {\n",
    "    \"BILINEAR\" : resized_image_bilinear_interpolation,\n",
    "    \"NEAREST\" : resized_image_nearest_interpolation,  \n",
    "    \"BOX\" : resized_image_box_interpolation,\n",
    "    \"HAMMING\" : resized_image_hamming_interpolation,\n",
    "    \"BICUBIC\" : resized_image_bicubic_interpolation,\n",
    "    \"LANCZOS\" : resized_image_lanczos_interpolation\n",
    "}"
   ]
  },
  {
   "cell_type": "code",
   "execution_count": null,
   "id": "7953113f",
   "metadata": {},
   "outputs": [],
   "source": [
    "# create the figure\n",
    "fig, axs = plt.subplots(nrows=3, ncols=2, figsize=(20, 20))\n",
    "\n",
    "# flatten the axis into a 1-d array to make it easier to access each axes\n",
    "axs = axs.flatten()\n",
    "\n",
    "# iterate through images_dict and enumerate the files, use i to index the axes\n",
    "for i, (label, image) in enumerate(interpolated_images_dict.items()):\n",
    "    \n",
    "    # read the image in\n",
    "    #pic = plt.imread(image)\n",
    "\n",
    "    # add the image to the axes\n",
    "    axs[i].imshow(image)\n",
    "\n",
    "    # add an axes title; .stem is a pathlib method to get the filename\n",
    "    axs[i].set(title=label)\n",
    "\n",
    "# add a figure title\n",
    "fig.suptitle('image interpolation demo', fontsize=18)"
   ]
  },
  {
   "cell_type": "markdown",
   "id": "ba5e9b3f",
   "metadata": {},
   "source": [
    "# Reference\n",
    "- [Image Processing Tutorial for beginners with Python PIL in 30 mins](https://www.youtube.com/watch?v=dkp4wUhCwR4)\n",
    "\n",
    "- https://stackoverflow.com/questions/67595781/how-to-plot-images-in-subplots"
   ]
  },
  {
   "cell_type": "code",
   "execution_count": null,
   "id": "8906a27d",
   "metadata": {},
   "outputs": [],
   "source": []
  }
 ],
 "metadata": {
  "kernelspec": {
   "display_name": "Python 3 (ipykernel)",
   "language": "python",
   "name": "python3"
  },
  "language_info": {
   "codemirror_mode": {
    "name": "ipython",
    "version": 3
   },
   "file_extension": ".py",
   "mimetype": "text/x-python",
   "name": "python",
   "nbconvert_exporter": "python",
   "pygments_lexer": "ipython3",
   "version": "3.10.5"
  }
 },
 "nbformat": 4,
 "nbformat_minor": 5
}
