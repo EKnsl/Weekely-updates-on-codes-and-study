{
 "cells": [
  {
   "cell_type": "code",
   "execution_count": 3,
   "metadata": {},
   "outputs": [],
   "source": [
    "import numpy as np\n",
    "import pandas as pd\n",
    "import matplotlib.pyplot as plt\n",
    "from sklearn.datasets import load_boston\n",
    "from sklearn.linear_model import Ridge, RidgeCV\n",
    "from sklearn.linear_model import Lasso, LassoCV\n",
    "from sklearn.linear_model import LinearRegression\n",
    "from sklearn.preprocessing import StandardScaler\n",
    "from sklearn.model_selection import train_test_split"
   ]
  },
  {
   "cell_type": "code",
   "execution_count": 6,
   "metadata": {},
   "outputs": [
    {
     "data": {
      "text/plain": [
       "['DESCR', 'data', 'feature_names', 'filename', 'target']"
      ]
     },
     "execution_count": 6,
     "metadata": {},
     "output_type": "execute_result"
    }
   ],
   "source": [
    "# extract input and response variables (housing prices), \n",
    "# meaning of each variable is in the link above\n",
    "feature_num = 7\n",
    "boston = load_boston()\n",
    "dir(boston)"
   ]
  },
  {
   "cell_type": "code",
   "execution_count": 7,
   "metadata": {},
   "outputs": [
    {
     "data": {
      "text/html": [
       "<div>\n",
       "<style scoped>\n",
       "    .dataframe tbody tr th:only-of-type {\n",
       "        vertical-align: middle;\n",
       "    }\n",
       "\n",
       "    .dataframe tbody tr th {\n",
       "        vertical-align: top;\n",
       "    }\n",
       "\n",
       "    .dataframe thead th {\n",
       "        text-align: right;\n",
       "    }\n",
       "</style>\n",
       "<table border=\"1\" class=\"dataframe\">\n",
       "  <thead>\n",
       "    <tr style=\"text-align: right;\">\n",
       "      <th></th>\n",
       "      <th>CRIM</th>\n",
       "      <th>ZN</th>\n",
       "      <th>INDUS</th>\n",
       "      <th>CHAS</th>\n",
       "      <th>NOX</th>\n",
       "      <th>RM</th>\n",
       "      <th>AGE</th>\n",
       "    </tr>\n",
       "  </thead>\n",
       "  <tbody>\n",
       "    <tr>\n",
       "      <th>0</th>\n",
       "      <td>0.00632</td>\n",
       "      <td>18.0</td>\n",
       "      <td>2.31</td>\n",
       "      <td>0.0</td>\n",
       "      <td>0.538</td>\n",
       "      <td>6.575</td>\n",
       "      <td>65.2</td>\n",
       "    </tr>\n",
       "    <tr>\n",
       "      <th>1</th>\n",
       "      <td>0.02731</td>\n",
       "      <td>0.0</td>\n",
       "      <td>7.07</td>\n",
       "      <td>0.0</td>\n",
       "      <td>0.469</td>\n",
       "      <td>6.421</td>\n",
       "      <td>78.9</td>\n",
       "    </tr>\n",
       "    <tr>\n",
       "      <th>2</th>\n",
       "      <td>0.02729</td>\n",
       "      <td>0.0</td>\n",
       "      <td>7.07</td>\n",
       "      <td>0.0</td>\n",
       "      <td>0.469</td>\n",
       "      <td>7.185</td>\n",
       "      <td>61.1</td>\n",
       "    </tr>\n",
       "    <tr>\n",
       "      <th>3</th>\n",
       "      <td>0.03237</td>\n",
       "      <td>0.0</td>\n",
       "      <td>2.18</td>\n",
       "      <td>0.0</td>\n",
       "      <td>0.458</td>\n",
       "      <td>6.998</td>\n",
       "      <td>45.8</td>\n",
       "    </tr>\n",
       "    <tr>\n",
       "      <th>4</th>\n",
       "      <td>0.06905</td>\n",
       "      <td>0.0</td>\n",
       "      <td>2.18</td>\n",
       "      <td>0.0</td>\n",
       "      <td>0.458</td>\n",
       "      <td>7.147</td>\n",
       "      <td>54.2</td>\n",
       "    </tr>\n",
       "  </tbody>\n",
       "</table>\n",
       "</div>"
      ],
      "text/plain": [
       "      CRIM    ZN  INDUS  CHAS    NOX     RM   AGE\n",
       "0  0.00632  18.0   2.31   0.0  0.538  6.575  65.2\n",
       "1  0.02731   0.0   7.07   0.0  0.469  6.421  78.9\n",
       "2  0.02729   0.0   7.07   0.0  0.469  7.185  61.1\n",
       "3  0.03237   0.0   2.18   0.0  0.458  6.998  45.8\n",
       "4  0.06905   0.0   2.18   0.0  0.458  7.147  54.2"
      ]
     },
     "execution_count": 7,
     "metadata": {},
     "output_type": "execute_result"
    }
   ],
   "source": [
    "X = boston.data[:, :feature_num]\n",
    "y = boston.target\n",
    "features = boston.feature_names[:feature_num]\n",
    "pd.DataFrame(X, columns = features).head()"
   ]
  },
  {
   "cell_type": "code",
   "execution_count": 8,
   "metadata": {},
   "outputs": [],
   "source": [
    "# split into training and testing sets and standardize them\n",
    "X_train, X_test, y_train, y_test = train_test_split(X, y, random_state = 1)\n",
    "std = StandardScaler()\n",
    "X_train_std = std.fit_transform(X_train)\n",
    "X_test_std = std.transform(X_test)"
   ]
  },
  {
   "cell_type": "code",
   "execution_count": 12,
   "metadata": {},
   "outputs": [
    {
     "name": "stdout",
     "output_type": "stream",
     "text": [
      "different alpha values: [1.e-05 1.e-04 1.e-03 1.e-02 1.e-01 1.e+00 1.e+01 1.e+02 1.e+03 1.e+04]\n"
     ]
    }
   ],
   "source": [
    "# loop through different penalty score (alpha) and obtain the estimated coefficient (weights)\n",
    "alphas = 10 ** np.arange(-5.0, 5)\n",
    "print('different alpha values:', alphas)\n",
    "\n",
    "# stores the weights of each feature\n",
    "ridge_weight = []\n",
    "for alpha in alphas:    \n",
    "    ridge = Ridge(alpha = alpha, fit_intercept = True)\n",
    "    ridge.fit(X_train_std, y_train)\n",
    "    ridge_weight.append(ridge.coef_)"
   ]
  },
  {
   "cell_type": "code",
   "execution_count": 13,
   "metadata": {},
   "outputs": [],
   "source": [
    "def weight_versus_alpha_plot(weight, alphas, features):\n",
    "    \"\"\"\n",
    "    Pass in the estimated weight, the alpha value and the names\n",
    "    for the features and plot the model's estimated coefficient weight \n",
    "    for different alpha values\n",
    "    \"\"\"\n",
    "    fig = plt.figure(figsize = (8, 6))\n",
    "    \n",
    "    # ensure that the weight is an array\n",
    "    weight = np.array(weight)\n",
    "    for col in range(weight.shape[1]):\n",
    "        plt.plot(alphas, weight[:, col], label = features[col])\n",
    "\n",
    "    plt.axhline(0, color = 'black', linestyle = '--', linewidth = 3)\n",
    "    \n",
    "    # manually specify the coordinate of the legend\n",
    "    plt.legend(bbox_to_anchor = (1.3, 0.9))\n",
    "    plt.title('Coefficient Weight as Alpha Grows')\n",
    "    plt.ylabel('Coefficient weight')\n",
    "    plt.xlabel('alpha')\n",
    "    return fig"
   ]
  },
  {
   "cell_type": "code",
   "execution_count": 14,
   "metadata": {},
   "outputs": [
    {
     "data": {
      "image/png": "[encoded data removed]",
      "text/plain": [
       "<Figure size 576x432 with 1 Axes>"
      ]
     },
     "metadata": {
      "needs_background": "light"
     },
     "output_type": "display_data"
    }
   ],
   "source": [
    "# change default figure and font size\n",
    "plt.rcParams['figure.figsize'] = 8, 6 \n",
    "plt.rcParams['font.size'] = 12\n",
    "\n",
    "ridge_fig = weight_versus_alpha_plot(ridge_weight, alphas, features)"
   ]
  },
  {
   "cell_type": "code",
   "execution_count": 15,
   "metadata": {},
   "outputs": [
    {
     "name": "stdout",
     "output_type": "stream",
     "text": [
      "different alpha values: [0.01, 0.1, 1, 5, 8]\n"
     ]
    },
    {
     "data": {
      "image/png": "[encoded data removed]",
      "text/plain": [
       "<Figure size 576x432 with 1 Axes>"
      ]
     },
     "metadata": {
      "needs_background": "light"
     },
     "output_type": "display_data"
    }
   ],
   "source": [
    "# does the same thing above except for lasso\n",
    "alphas = [0.01, 0.1, 1, 5, 8]\n",
    "print('different alpha values:', alphas)\n",
    "\n",
    "lasso_weight = []\n",
    "for alpha in alphas:    \n",
    "    lasso = Lasso(alpha = alpha, fit_intercept = True)\n",
    "    lasso.fit(X_train_std, y_train)\n",
    "    lasso_weight.append(lasso.coef_)\n",
    "\n",
    "lasso_fig = weight_versus_alpha_plot(lasso_weight, alphas, features)"
   ]
  },
  {
   "cell_type": "code",
   "execution_count": 16,
   "metadata": {},
   "outputs": [],
   "source": [
    "def generate_random_data(size, seed):\n",
    "    \"\"\"Example of collinear features existing within the data\"\"\"\n",
    "    rstate = np.random.RandomState(seed)\n",
    "    X_seed = rstate.normal(0, 1, size)\n",
    "    X1 = X_seed + rstate.normal(0, .1, size)\n",
    "    X2 = X_seed + rstate.normal(0, .1, size)\n",
    "    X3 = X_seed + rstate.normal(0, .1, size)\n",
    "    y = X1 + X2 + X3 + rstate.normal(0, 1, size)\n",
    "    X = np.array([X1, X2, X3]).T\n",
    "    return X, y"
   ]
  },
  {
   "cell_type": "code",
   "execution_count": 18,
   "metadata": {},
   "outputs": [],
   "source": [
    "def pretty_print_linear(estimator, names = None, sort = False):\n",
    "    \"\"\"A helper method for pretty-printing linear models' coefficients\"\"\"\n",
    "    coef = estimator.coef_\n",
    "    if names is None:\n",
    "        names = ['X%s' % x for x in range(1, len(coef) + 1)]\n",
    "\n",
    "    info = zip(coef, names)\n",
    "    if sort:\n",
    "        info = sorted(info, key = lambda x: -np.abs(x[0]))\n",
    "    \n",
    "    output = ['{} * {}'.format(round(coef, 3), name) for coef, name in info]\n",
    "    output = ' + '.join(output)\n",
    "    return output"
   ]
  },
  {
   "cell_type": "code",
   "execution_count": 19,
   "metadata": {},
   "outputs": [
    {
     "name": "stdout",
     "output_type": "stream",
     "text": [
      "Random seed: 0\n",
      "Lasso model: 0.486 * X1 + 1.508 * X2 + 0.0 * X3\n",
      "Ridge model: 0.938 * X1 + 1.059 * X2 + 0.877 * X3\n",
      "\n",
      "Random seed: 1\n",
      "Lasso model: 1.034 * X1 + 0.626 * X2 + 0.0 * X3\n",
      "Ridge model: 0.984 * X1 + 1.068 * X2 + 0.759 * X3\n",
      "\n",
      "Random seed: 2\n",
      "Lasso model: 1.361 * X1 + 0.0 * X2 + 0.782 * X3\n",
      "Ridge model: 0.972 * X1 + 0.943 * X2 + 1.085 * X3\n",
      "\n",
      "Random seed: 3\n",
      "Lasso model: 0.0 * X1 + 1.008 * X2 + 1.134 * X3\n",
      "Ridge model: 0.919 * X1 + 1.005 * X2 + 1.033 * X3\n",
      "\n",
      "Random seed: 4\n",
      "Lasso model: 0.27 * X1 + 0.0 * X2 + 1.832 * X3\n",
      "Ridge model: 0.964 * X1 + 0.982 * X2 + 1.098 * X3\n",
      "\n",
      "Random seed: 5\n",
      "Lasso model: 0.0 * X1 + 0.035 * X2 + 1.854 * X3\n",
      "Ridge model: 0.758 * X1 + 1.011 * X2 + 1.139 * X3\n",
      "\n",
      "Random seed: 6\n",
      "Lasso model: 0.486 * X1 + 0.0 * X2 + 1.601 * X3\n",
      "Ridge model: 1.016 * X1 + 0.89 * X2 + 1.091 * X3\n",
      "\n",
      "Random seed: 7\n",
      "Lasso model: 0.441 * X1 + 0.036 * X2 + 1.582 * X3\n",
      "Ridge model: 1.018 * X1 + 1.039 * X2 + 0.901 * X3\n",
      "\n",
      "Random seed: 8\n",
      "Lasso model: 0.28 * X1 + 1.974 * X2 + 0.0 * X3\n",
      "Ridge model: 0.907 * X1 + 1.071 * X2 + 1.008 * X3\n",
      "\n",
      "Random seed: 9\n",
      "Lasso model: 0.0 * X1 + 0.0 * X2 + 1.912 * X3\n",
      "Ridge model: 0.896 * X1 + 0.903 * X2 + 0.98 * X3\n",
      "\n"
     ]
    }
   ],
   "source": [
    "\n",
    "\n",
    "# We run the two method 10 times with different random seeds\n",
    "# confirming that Ridge is more stable than Lasso\n",
    "size = 100\n",
    "for seed in range(10):\n",
    "    print('Random seed:', seed)\n",
    "    X, y = generate_random_data(size, seed)\n",
    " \n",
    "    lasso = Lasso()\n",
    "    lasso.fit(X, y)\n",
    "    print('Lasso model:', pretty_print_linear(lasso))\n",
    " \n",
    "    ridge = Ridge(alpha = 10)\n",
    "    ridge.fit(X, y)\n",
    "    print('Ridge model:', pretty_print_linear(ridge))\n",
    "    print()\n",
    "\n"
   ]
  },
  {
   "cell_type": "markdown",
   "metadata": {},
   "source": [
    "How do we choose the α\n",
    "\n",
    "parameter?\n",
    "\n",
    "We can either use a validation set if we have lots of data or use cross validation for smaller data sets. See a quick examples below that uses cross validation with RidgeCV and LassoCV, which is function that performs ridge regression and lasso regression with built-in cross-validation of the alpha parameter.\n",
    "\n",
    "    From R's glmnet package vignette\n",
    "\n",
    "    It is known that the ridge penalty shrinks the coefficients of correlated predictors towards each other while the lasso tends to pick one of them and discard the others. The elastic-net penalty mixes these two; if predictors are correlated in groups, an α=0.5 tends to select the groups in or out together. This is a higher level parameter, and users might pick a value upfront, else experiment with a few different values. One use of α is for numerical stability; for example, the elastic net with α=1−ϵ for some small ϵ>0 performs much like the lasso, but removes any degeneracies and wild behavior caused by extreme correlations."
   ]
  },
  {
   "cell_type": "code",
   "execution_count": 22,
   "metadata": {},
   "outputs": [
    {
     "name": "stdout",
     "output_type": "stream",
     "text": [
      "coefficients: [-1.49246448  0.37088936 -0.70836731  1.08568161 -0.80970633  4.4075122\n",
      " -0.80450999]\n",
      "best alpha: 10.0\n",
      "\n",
      "RSS: 4366.3219350034615\n"
     ]
    }
   ],
   "source": [
    "# alpha: array of alpha values to try; must be positive, increase for more regularization\n",
    "# create an array of alpha values and select the best one with RidgeCV\n",
    "alpha_range = 10. ** np.arange(-3, 3)\n",
    "ridge_cv = RidgeCV(alphas = alpha_range, fit_intercept = True)\n",
    "ridge_cv.fit(X_train_std, y_train)\n",
    "\n",
    "# examine the coefficients and the errors of the predictions \n",
    "# using the best alpha value\n",
    "y_pred = ridge_cv.predict(X_test_std)\n",
    "print('coefficients:', ridge_cv.coef_, end = '\\n')\n",
    "print('best alpha:' , ridge_cv.alpha_, end = '\\n')\n",
    "print('\\nRSS:', np.sum((y_test - y_pred) ** 2))\n"
   ]
  },
  {
   "cell_type": "code",
   "execution_count": 23,
   "metadata": {},
   "outputs": [
    {
     "name": "stdout",
     "output_type": "stream",
     "text": [
      "coefficients:\n",
      " [-1.5149245   0.34021279 -0.67185865  1.09280671 -0.81071974  4.53310098\n",
      " -0.81752854]\n",
      "best alpha:\n",
      " 0.005835182912170716\n",
      "\n",
      "RSS: 4296.025010307989\n"
     ]
    }
   ],
   "source": [
    "# n_alphas: number of alpha values (automatically chosen) to try\n",
    "# select the best alpha with LassoCV\n",
    "lasso_cv = LassoCV(n_alphas = 10, fit_intercept = True)\n",
    "lasso_cv.fit(X_train_std, y_train)\n",
    "\n",
    "# examine the coefficients and the errors of the predictions \n",
    "# using the best alpha value\n",
    "y_pred = lasso_cv.predict(X_test_std)\n",
    "print('coefficients:\\n', lasso_cv.coef_)\n",
    "print('best alpha:\\n', lasso_cv.alpha_)\n",
    "print('\\nRSS:', np.sum(( y_test - y_pred ) ** 2))"
   ]
  },
  {
   "cell_type": "markdown",
   "metadata": {},
   "source": [
    "To sum it up, overfitting is when we build a predictive model that fits the data \"too closely\", so that it captures the random noise in the data rather than true patterns. As a result, the model predictions will be wrong when applied to new data. Give that our data is sufficiently large and clean, regularization is one good way to prevent overfitting."
   ]
  },
  {
   "cell_type": "markdown",
   "metadata": {},
   "source": [
    "# References\n",
    "- http://ethen8181.github.io/machine-learning/regularization/regularization.html\n",
    "- https://nbviewer.org/github/justmarkham/DAT8/blob/master/notebooks/20_regularization.ipynb\n",
    "- http://scott.fortmann-roe.com/docs/BiasVariance.html\n",
    "- http://blog.datadive.net/selecting-good-features-part-ii-linear-models-and-regularization/\n",
    "- https://developers.google.com/machine-learning/crash-course/regularization-for-simplicity/l2-regularization"
   ]
  },
  {
   "cell_type": "code",
   "execution_count": null,
   "metadata": {},
   "outputs": [],
   "source": []
  }
 ],
 "metadata": {
  "kernelspec": {
   "display_name": "Python 3 (ipykernel)",
   "language": "python",
   "name": "python3"
  },
  "language_info": {
   "codemirror_mode": {
    "name": "ipython",
    "version": 3
   },
   "file_extension": ".py",
   "mimetype": "text/x-python",
   "name": "python",
   "nbconvert_exporter": "python",
   "pygments_lexer": "ipython3",
   "version": "3.7.6"
  }
 },
 "nbformat": 4,
 "nbformat_minor": 4
}
