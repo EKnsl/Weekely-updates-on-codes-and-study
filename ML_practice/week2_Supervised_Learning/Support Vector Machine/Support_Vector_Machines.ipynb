{
 "cells": [
  {
   "cell_type": "markdown",
   "id": "622c9a10",
   "metadata": {},
   "source": [
    "## **Support Vector Machine**\n",
    "\n",
    "\n",
    "Support Vector Machine (SVM)\n",
    "A support vector machine (SVM) is a supervised machine learning model that uses classification algorithms for two-group classification problems.\n",
    "\n",
    "The objective of the support vector machine algorithm is to find a hyperplane in an N-dimensional space(N — the number of features) that distinctly classifies the data points.\n",
    "\n",
    "<img src=\"https://miro.medium.com/max/300/0*9jEWNXTAao7phK-5.png\"> \n",
    "\n",
    "To separate the two classes of data points, there are many possible hyperplanes that could be chosen. Our objective is to find a plane that has the maximum margin, i.e the maximum distance between data points of both classes. Maximizing the margin distance provides some reinforcement so that future data points can be classified with more confidence.\n",
    "\n",
    "<img src = \"https://miro.medium.com/max/300/0*0o8xIA4k3gXUDCFU.png\">\n",
    "\n",
    "Support vectors are data points that are closer to the hyperplane and influence the position and orientation of the hyperplane. Using these support vectors, we maximize the margin of the classifier. Deleting the support vectors will change the position of the hyperplane. These are the points that help us build our SVM.\n",
    "\n",
    "<img src=\"https://miro.medium.com/max/700/0*ecA4Ls8kBYSM5nza.jpg\">\n"
   ]
  },
  {
   "cell_type": "markdown",
   "id": "89cc12cd",
   "metadata": {},
   "source": [
    "## **Import necessary libraries to  get started with SVM Classification**"
   ]
  },
  {
   "cell_type": "code",
   "execution_count": 4,
   "id": "847cd51e",
   "metadata": {},
   "outputs": [],
   "source": [
    "#Importing Libraries\n",
    "import numpy as np\n",
    "import pandas as pd\n",
    "import matplotlib.pyplot as plt\n",
    "import matplotlib.cm as cm\n",
    "from sklearn import svm, datasets\n",
    "from sklearn.model_selection import train_test_split\n",
    "from sklearn.metrics import accuracy_score, confusion_matrix"
   ]
  },
  {
   "cell_type": "markdown",
   "id": "1351f8d2",
   "metadata": {},
   "source": [
    "## **Loading digits dataset**"
   ]
  },
  {
   "cell_type": "code",
   "execution_count": 8,
   "id": "09726ebe",
   "metadata": {},
   "outputs": [],
   "source": [
    "digits = datasets.load_digits()\n",
    "# print(digits)"
   ]
  },
  {
   "cell_type": "code",
   "execution_count": 10,
   "id": "2869d92f",
   "metadata": {},
   "outputs": [
    {
     "name": "stdout",
     "output_type": "stream",
     "text": [
      "<class 'sklearn.utils.Bunch'>\n"
     ]
    }
   ],
   "source": [
    "# print(digits[0])\n",
    "print(type(digits))"
   ]
  },
  {
   "cell_type": "code",
   "execution_count": 18,
   "id": "e21a0183",
   "metadata": {},
   "outputs": [
    {
     "data": {
      "text/plain": [
       "['DESCR', 'data', 'feature_names', 'frame', 'images', 'target', 'target_names']"
      ]
     },
     "execution_count": 18,
     "metadata": {},
     "output_type": "execute_result"
    }
   ],
   "source": [
    "dir(digits)"
   ]
  },
  {
   "cell_type": "code",
   "execution_count": 21,
   "id": "66acfc31",
   "metadata": {},
   "outputs": [],
   "source": [
    "# digits.DESCR"
   ]
  },
  {
   "cell_type": "code",
   "execution_count": 32,
   "id": "375e3c21",
   "metadata": {},
   "outputs": [],
   "source": [
    "# digits.data\n",
    "# digits.data.shape"
   ]
  },
  {
   "cell_type": "code",
   "execution_count": 27,
   "id": "e5a4610c",
   "metadata": {},
   "outputs": [],
   "source": [
    "# digits.feature_names"
   ]
  },
  {
   "cell_type": "code",
   "execution_count": 30,
   "id": "3b8a6c29",
   "metadata": {},
   "outputs": [],
   "source": [
    "# digits.frame"
   ]
  },
  {
   "cell_type": "code",
   "execution_count": 35,
   "id": "5c3331ea",
   "metadata": {},
   "outputs": [
    {
     "data": {
      "text/plain": [
       "(1797, 8, 8)"
      ]
     },
     "execution_count": 35,
     "metadata": {},
     "output_type": "execute_result"
    }
   ],
   "source": [
    "# digits.images\n",
    "digits.images.shape"
   ]
  },
  {
   "cell_type": "code",
   "execution_count": 36,
   "id": "1916cac1",
   "metadata": {},
   "outputs": [
    {
     "data": {
      "text/plain": [
       "array([0, 1, 2, ..., 8, 9, 8])"
      ]
     },
     "execution_count": 36,
     "metadata": {},
     "output_type": "execute_result"
    }
   ],
   "source": [
    "digits.target"
   ]
  },
  {
   "cell_type": "code",
   "execution_count": 22,
   "id": "f6d67b3e",
   "metadata": {},
   "outputs": [],
   "source": [
    "images_and_labels = list(zip(digits.images , digits.target))"
   ]
  },
  {
   "cell_type": "code",
   "execution_count": 37,
   "id": "a09511fa",
   "metadata": {},
   "outputs": [
    {
     "name": "stdout",
     "output_type": "stream",
     "text": [
      "(array([[ 0.,  0.,  5., 13.,  9.,  1.,  0.,  0.],\n",
      "       [ 0.,  0., 13., 15., 10., 15.,  5.,  0.],\n",
      "       [ 0.,  3., 15.,  2.,  0., 11.,  8.,  0.],\n",
      "       [ 0.,  4., 12.,  0.,  0.,  8.,  8.,  0.],\n",
      "       [ 0.,  5.,  8.,  0.,  0.,  9.,  8.,  0.],\n",
      "       [ 0.,  4., 11.,  0.,  1., 12.,  7.,  0.],\n",
      "       [ 0.,  2., 14.,  5., 10., 12.,  0.,  0.],\n",
      "       [ 0.,  0.,  6., 13., 10.,  0.,  0.,  0.]]), 0)\n"
     ]
    }
   ],
   "source": [
    "print(images_and_labels[0])"
   ]
  },
  {
   "cell_type": "code",
   "execution_count": 38,
   "id": "2fcbd678",
   "metadata": {},
   "outputs": [],
   "source": [
    "# digits.images"
   ]
  },
  {
   "cell_type": "code",
   "execution_count": 13,
   "id": "de3e2665",
   "metadata": {},
   "outputs": [
    {
     "data": {
      "text/plain": [
       "(1797, 8, 8)"
      ]
     },
     "execution_count": 13,
     "metadata": {},
     "output_type": "execute_result"
    }
   ],
   "source": [
    "digits.images.shape"
   ]
  },
  {
   "cell_type": "code",
   "execution_count": 14,
   "id": "c057229c",
   "metadata": {},
   "outputs": [
    {
     "data": {
      "text/plain": [
       "array([0, 1, 2, ..., 8, 9, 8])"
      ]
     },
     "execution_count": 14,
     "metadata": {},
     "output_type": "execute_result"
    }
   ],
   "source": [
    "digits.target"
   ]
  },
  {
   "cell_type": "code",
   "execution_count": 15,
   "id": "119448fb",
   "metadata": {},
   "outputs": [
    {
     "data": {
      "text/plain": [
       "(1797,)"
      ]
     },
     "execution_count": 15,
     "metadata": {},
     "output_type": "execute_result"
    }
   ],
   "source": [
    "digits.target.shape"
   ]
  },
  {
   "cell_type": "code",
   "execution_count": 40,
   "id": "785a8da9",
   "metadata": {},
   "outputs": [
    {
     "data": {
      "text/plain": [
       "numpy.ndarray"
      ]
     },
     "execution_count": 40,
     "metadata": {},
     "output_type": "execute_result"
    }
   ],
   "source": [
    "type(digits.images)"
   ]
  },
  {
   "cell_type": "markdown",
   "id": "7dfe0545",
   "metadata": {},
   "source": [
    "## **Flattening the Images**\n",
    "\n",
    "To apply a classifier on this data, we need to flatten the images to turn the data into (samples, features) matrix."
   ]
  },
  {
   "cell_type": "code",
   "execution_count": 60,
   "id": "4db03981",
   "metadata": {},
   "outputs": [],
   "source": [
    "a = np.array([1,2,3,4,5,6,7,8,9,10,11,12,13,14,15,16])\n",
    "# a.reshape(2,2,2,2).shape\n",
    "b = a.reshape(2,2,2,2)\n",
    "b = b.reshape(16, -1)\n",
    "# b.shape\n",
    "# print(b)"
   ]
  },
  {
   "cell_type": "code",
   "execution_count": 61,
   "id": "1f98ac54",
   "metadata": {},
   "outputs": [],
   "source": [
    "n_samples = len(digits.images)\n",
    "# print(n_samples)\n",
    "data = digits.images.reshape((n_samples, -1))"
   ]
  },
  {
   "cell_type": "code",
   "execution_count": 63,
   "id": "ba5d188f",
   "metadata": {},
   "outputs": [
    {
     "data": {
      "text/plain": [
       "array([[ 0.,  0.,  5., ...,  0.,  0.,  0.],\n",
       "       [ 0.,  0.,  0., ..., 10.,  0.,  0.],\n",
       "       [ 0.,  0.,  0., ..., 16.,  9.,  0.],\n",
       "       ...,\n",
       "       [ 0.,  0.,  1., ...,  6.,  0.,  0.],\n",
       "       [ 0.,  0.,  2., ..., 12.,  0.,  0.],\n",
       "       [ 0.,  0., 10., ..., 12.,  1.,  0.]])"
      ]
     },
     "execution_count": 63,
     "metadata": {},
     "output_type": "execute_result"
    }
   ],
   "source": [
    "data\n",
    "# data.shape"
   ]
  },
  {
   "cell_type": "code",
   "execution_count": 150,
   "id": "7c470816",
   "metadata": {},
   "outputs": [],
   "source": [
    "# dir(svm)\n",
    "# dir(svm.SVC())"
   ]
  },
  {
   "cell_type": "markdown",
   "id": "1af60c33",
   "metadata": {},
   "source": [
    "## **Training the Model**\n",
    "\n",
    "We are using SVM model as imported from sklearn library and then it's being trained on 75% of the digits."
   ]
  },
  {
   "cell_type": "code",
   "execution_count": 109,
   "id": "b40cb40a",
   "metadata": {},
   "outputs": [
    {
     "data": {
      "text/plain": [
       "SVC()"
      ]
     },
     "execution_count": 109,
     "metadata": {},
     "output_type": "execute_result"
    }
   ],
   "source": [
    "#Fetching training set, 75% of entire dataset, rest will be used for testing\n",
    "\n",
    "trainTestSplit = int(n_samples*0.75)\n",
    "\n",
    "#Training the model\n",
    "model = svm.SVC()\n",
    "model.fit(data[:trainTestSplit], digits.target[:trainTestSplit])\n"
   ]
  },
  {
   "cell_type": "markdown",
   "id": "d2e20b7a",
   "metadata": {},
   "source": [
    "# Predict and evaluate model performance"
   ]
  },
  {
   "cell_type": "code",
   "execution_count": 110,
   "id": "b9b6406f",
   "metadata": {},
   "outputs": [],
   "source": [
    "target = digits.target[trainTestSplit:]\n",
    "predictions = model.predict(data[trainTestSplit:])"
   ]
  },
  {
   "cell_type": "code",
   "execution_count": 111,
   "id": "4b5cbcd6",
   "metadata": {},
   "outputs": [
    {
     "name": "stdout",
     "output_type": "stream",
     "text": [
      "[[42  0  0  0  1  0  0  0  0  0]\n",
      " [ 0 46  0  0  0  0  0  0  0  0]\n",
      " [ 0  0 43  0  0  0  0  0  0  0]\n",
      " [ 0  0  0 37  0  2  0  2  6  0]\n",
      " [ 0  0  0  0 45  0  0  0  1  2]\n",
      " [ 0  0  0  0  0 44  1  0  0  0]\n",
      " [ 0  0  0  0  0  0 47  0  0  0]\n",
      " [ 0  0  0  0  0  0  0 44  1  0]\n",
      " [ 0  2  0  0  0  0  0  0 38  1]\n",
      " [ 0  0  0  1  0  1  0  1  1 41]]\n",
      "0.9488888888888889\n"
     ]
    }
   ],
   "source": [
    "print(confusion_matrix(target,predictions))\n",
    "print(accuracy_score(target,predictions))"
   ]
  },
  {
   "cell_type": "code",
   "execution_count": 112,
   "id": "e987325f",
   "metadata": {},
   "outputs": [
    {
     "data": {
      "text/plain": [
       "<AxesSubplot:>"
      ]
     },
     "execution_count": 112,
     "metadata": {},
     "output_type": "execute_result"
    },
    {
     "data": {
      "image/png": "[encoded data removed]",
      "text/plain": [
       "<Figure size 432x288 with 2 Axes>"
      ]
     },
     "metadata": {
      "needs_background": "light"
     },
     "output_type": "display_data"
    }
   ],
   "source": [
    "import seaborn as sns\n",
    "sns.heatmap(confusion_matrix(target,predictions), annot=True, cmap='Blues')"
   ]
  },
  {
   "cell_type": "code",
   "execution_count": 113,
   "id": "2ede16b0",
   "metadata": {},
   "outputs": [
    {
     "name": "stdout",
     "output_type": "stream",
     "text": [
      "Prediction for test image: [2]\n"
     ]
    },
    {
     "data": {
      "image/png": "[encoded data removed]",
      "text/plain": [
       "<Figure size 432x288 with 1 Axes>"
      ]
     },
     "metadata": {
      "needs_background": "light"
     },
     "output_type": "display_data"
    }
   ],
   "source": [
    "plt.imshow(digits.images[-55], cmap = plt.cm.gray_r, interpolation = \"nearest\")\n",
    "print(\"Prediction for test image:\", model.predict(data[-55].reshape(1,-1)))\n",
    "\n",
    "plt.show()"
   ]
  },
  {
   "cell_type": "code",
   "execution_count": 114,
   "id": "427588c2",
   "metadata": {},
   "outputs": [
    {
     "data": {
      "text/plain": [
       "<matplotlib.image.AxesImage at 0x24f81c43eb0>"
      ]
     },
     "execution_count": 114,
     "metadata": {},
     "output_type": "execute_result"
    },
    {
     "data": {
      "image/png": "[encoded data removed]",
      "text/plain": [
       "<Figure size 432x288 with 1 Axes>"
      ]
     },
     "metadata": {
      "needs_background": "light"
     },
     "output_type": "display_data"
    }
   ],
   "source": [
    "plt.imshow(digits.images[-55])"
   ]
  },
  {
   "cell_type": "markdown",
   "id": "fcea110d",
   "metadata": {},
   "source": [
    "# Testing svm model with different kernel"
   ]
  },
  {
   "cell_type": "code",
   "execution_count": 127,
   "id": "e1821458",
   "metadata": {},
   "outputs": [],
   "source": [
    "# svm_rbf_1 = svm.SVC(kernel='rbf', gamma=0.5, C=0.1)\n",
    "# svm_rbf_1.fit(data[:trainTestSplit], digits.target[:trainTestSplit])\n",
    "\n",
    "# svm_poly = svm.SVC(kernel='poly', degree=3, C=1)\n",
    "# svm_poly.fit(data[:trainTestSplit], digits.target[:trainTestSplit])\n",
    "\n",
    "# svm_rbf_2 = svm.SVC(kernel='rbf', gamma=0.5, C=1)\n",
    "# svm_rbf_2.fit(data[:trainTestSplit], digits.target[:trainTestSplit])\n",
    "\n",
    "# target = digits.target[trainTestSplit:]\n",
    "# predictions = model.predict(data[trainTestSplit:])\n",
    "\n",
    "# poly_pred = svm_poly.predict(data[trainTestSplit:])\n",
    "# rbf_1_pred = svm_rbf_1.predict(data[trainTestSplit:])\n",
    "# rbf_2_pred = svm_rbf_2.predict(data[trainTestSplit:])\n",
    "\n",
    "# print(svm_poly)\n",
    "# print(\"Accouracy with \", svm_poly , \" : \", accuracy_score(target , poly_pred))\n",
    "# print(\"Accouracy with \", svm_rbf_1 , \" : \" , accuracy_score(target , rbf_1_pred) )\n",
    "# print(\"Accouracy with \", svm_rbf_2 ,  \" : \" , accuracy_score(target , rbf_2_pred) )"
   ]
  },
  {
   "cell_type": "code",
   "execution_count": 132,
   "id": "8363b972",
   "metadata": {},
   "outputs": [],
   "source": [
    "svm_with_kernel = dict()\n",
    "kernels = ['linear', 'poly', 'rbf', 'sigmoid']\n",
    "C = 1.0\n",
    "\n",
    "# svm_with_kernel[''] = svm.SVC()\n",
    "# svm_with_kernel['linear'] = svm.SVC(kernel='linear', C=C)\n",
    "# svm_with_kernel['poly'] = svm.SVC(kernel='poly', C=C)\n",
    "# svm_with_kernel['rbf'] = svm.SVC(kernel='rbf', C=C)\n",
    "# svm_with_kernel['sigmoid'] = svm.SVC(kernel='sigmoid', C=C)\n",
    "\n"
   ]
  },
  {
   "cell_type": "markdown",
   "id": "227ae49d",
   "metadata": {},
   "source": [
    "Initialize SVM model with given kernel"
   ]
  },
  {
   "cell_type": "code",
   "execution_count": 137,
   "id": "50efb8bd",
   "metadata": {},
   "outputs": [],
   "source": [
    "for k in kernels : \n",
    "    svm_with_kernel[k] = svm.SVC(kernel = k, C = C)"
   ]
  },
  {
   "cell_type": "markdown",
   "id": "a7a2874b",
   "metadata": {},
   "source": [
    "Train the models with training data"
   ]
  },
  {
   "cell_type": "code",
   "execution_count": 133,
   "id": "a0f4866c",
   "metadata": {},
   "outputs": [],
   "source": [
    "for k in kernels : \n",
    "    svm_with_kernel[k].fit(data[:trainTestSplit], digits.target[:trainTestSplit])"
   ]
  },
  {
   "cell_type": "markdown",
   "id": "414736fe",
   "metadata": {},
   "source": [
    "predict output "
   ]
  },
  {
   "cell_type": "code",
   "execution_count": 134,
   "id": "932b32eb",
   "metadata": {},
   "outputs": [],
   "source": [
    "predictions = dict()\n",
    "# predictions = model.predict(data[trainTestSplit:])\n",
    "\n",
    "for k in kernels :\n",
    "    predictions[k] = svm_with_kernel[k].predict(data[trainTestSplit:])"
   ]
  },
  {
   "cell_type": "markdown",
   "id": "f3d1f71e",
   "metadata": {},
   "source": [
    "Evaluate performance of SVM using different kernels"
   ]
  },
  {
   "cell_type": "code",
   "execution_count": 139,
   "id": "0e105316",
   "metadata": {},
   "outputs": [
    {
     "name": "stdout",
     "output_type": "stream",
     "text": [
      "Accouracy with SVM using  linear  kernel :  0.9288888888888889\n",
      "Accouracy with SVM using  poly  kernel :  0.9533333333333334\n",
      "Accouracy with SVM using  rbf  kernel :  0.9488888888888889\n",
      "Accouracy with SVM using  sigmoid  kernel :  0.8644444444444445\n"
     ]
    }
   ],
   "source": [
    "target = digits.target[trainTestSplit:]\n",
    "\n",
    "for k in kernels :\n",
    "    print(\"Accouracy with SVM using \", k  , \" kernel : \", accuracy_score(target , predictions[k]))"
   ]
  },
  {
   "cell_type": "markdown",
   "id": "e40bd37c",
   "metadata": {},
   "source": [
    "# Resource : \n",
    "    \n",
    "https://scikit-learn.org/stable/modules/svm.html\n",
    "\n",
    "https://dataaspirant.com/svm-kernels/#t-1608054630737\n",
    "\n",
    "https://data-flair.training/blogs/svm-kernel-functions\n",
    "\n",
    "https://scikit-learn.org/stable/auto_examples/svm/plot_custom_kernel.html#sphx-glr-auto-examples-svm-plot-custom-kernel-py"
   ]
  },
  {
   "cell_type": "code",
   "execution_count": null,
   "id": "834a93aa",
   "metadata": {},
   "outputs": [],
   "source": []
  }
 ],
 "metadata": {
  "kernelspec": {
   "display_name": "Python [conda env:root] *",
   "language": "python",
   "name": "conda-root-py"
  },
  "language_info": {
   "codemirror_mode": {
    "name": "ipython",
    "version": 3
   },
   "file_extension": ".py",
   "mimetype": "text/x-python",
   "name": "python",
   "nbconvert_exporter": "python",
   "pygments_lexer": "ipython3",
   "version": "3.8.8"
  }
 },
 "nbformat": 4,
 "nbformat_minor": 5
}
