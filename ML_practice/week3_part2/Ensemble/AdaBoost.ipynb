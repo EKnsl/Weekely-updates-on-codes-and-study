{
 "cells": [
  {
   "cell_type": "markdown",
   "id": "b5cac1e1",
   "metadata": {},
   "source": [
    "AdaBoost is provided via the [AdaBoostRegressor](https://scikit-learn.org/stable/modules/generated/sklearn.ensemble.AdaBoostRegressor.html) \n",
    "and [AdaBoostClassifier](https://scikit-learn.org/stable/modules/generated/sklearn.ensemble.AdaBoostClassifier.html)  classes."
   ]
  },
  {
   "cell_type": "markdown",
   "id": "6f6a3917",
   "metadata": {},
   "source": [
    "# AdaBoost for Classification\n",
    "\n",
    "In this section, we will look at using AdaBoost for a classification problem.\n",
    "\n",
    "First, we can use the [make_classification()](https://scikit-learn.org/stable/modules/generated/sklearn.datasets.make_classification.html) function to create a synthetic binary classification problem with 1,000 examples and 20 input features.\n",
    "\n",
    "The complete example is listed below."
   ]
  },
  {
   "cell_type": "code",
   "execution_count": 1,
   "id": "c671ff0e",
   "metadata": {},
   "outputs": [
    {
     "name": "stdout",
     "output_type": "stream",
     "text": [
      "(1000, 20) (1000,)\n"
     ]
    }
   ],
   "source": [
    "# test classification dataset\n",
    "from sklearn.datasets import make_classification\n",
    "# define dataset\n",
    "X, y = make_classification(n_samples=1000, n_features=20, n_informative=15, n_redundant=5, random_state=6)\n",
    "# summarize the dataset\n",
    "print(X.shape, y.shape)"
   ]
  },
  {
   "cell_type": "markdown",
   "id": "05d50ba1",
   "metadata": {},
   "source": [
    "Next, we can evaluate an AdaBoost algorithm on this dataset.\n",
    "\n",
    "We will evaluate the model using [repeated stratified k-fold cross-validation](https://machinelearningmastery.com/k-fold-cross-validation/), with three repeats and 10 folds. We will report the mean and standard deviation of the accuracy of the model across all repeats and folds. Running the example below reports the mean and standard deviation accuracy of the model :"
   ]
  },
  {
   "cell_type": "code",
   "execution_count": 3,
   "id": "03af89e1",
   "metadata": {},
   "outputs": [
    {
     "name": "stdout",
     "output_type": "stream",
     "text": [
      "Accuracy: 0.806 (0.041)\n"
     ]
    }
   ],
   "source": [
    "# evaluate adaboost algorithm for classification\n",
    "from numpy import mean\n",
    "from numpy import std\n",
    "from sklearn.datasets import make_classification\n",
    "from sklearn.model_selection import cross_val_score\n",
    "from sklearn.model_selection import RepeatedStratifiedKFold\n",
    "from sklearn.ensemble import AdaBoostClassifier\n",
    "# define dataset\n",
    "X, y = make_classification(n_samples=1000, n_features=20, n_informative=15, n_redundant=5, random_state=6)\n",
    "# define the model\n",
    "model = AdaBoostClassifier()\n",
    "# evaluate the model\n",
    "cv = RepeatedStratifiedKFold(n_splits=10, n_repeats=3, random_state=1)\n",
    "n_scores = cross_val_score(model, X, y, scoring='accuracy', cv=cv, n_jobs=-1, error_score='raise')\n",
    "# report performance\n",
    "print('Accuracy: %.3f (%.3f)' % (mean(n_scores), std(n_scores) ) )"
   ]
  },
  {
   "cell_type": "markdown",
   "id": "017cf691",
   "metadata": {},
   "source": [
    "We can also use the AdaBoost model as a final model and make predictions for classification.\n",
    "\n",
    "First, the AdaBoost ensemble is fit on all available data, then the predict() function can be called to make predictions on new data.\n",
    "\n",
    "The example below demonstrates this on our binary classification dataset.Running the example below fits the AdaBoost ensemble model on the entire dataset and is then used to make a prediction on a new row of data"
   ]
  },
  {
   "cell_type": "code",
   "execution_count": 15,
   "id": "5c1bca0d",
   "metadata": {},
   "outputs": [
    {
     "name": "stdout",
     "output_type": "stream",
     "text": [
      "Predicted Class: 0\n"
     ]
    }
   ],
   "source": [
    "# make predictions using adaboost for classification\n",
    "from sklearn.datasets import make_classification\n",
    "from sklearn.ensemble import AdaBoostClassifier\n",
    "# define dataset\n",
    "X, y = make_classification(n_samples=1000, n_features=20, n_informative=15, n_redundant=5, random_state=42)\n",
    "# define the model\n",
    "model = AdaBoostClassifier()\n",
    "# fit the model on the whole dataset\n",
    "model.fit(X, y)\n",
    "# make a single prediction\n",
    "row = [[-3.47224758,1.95378146,0.04875169,-0.91592588,-3.54022468,1.96405547,-7.72564954,-2.64787168,-1.81726906,-1.67104974,2.33762043,-4.30273117,0.4839841,-1.28253034,-10.6704077,-0.7641103,-3.58493721,2.07283886,0.08385173,0.91461126]]\n",
    "yhat = model.predict(row)\n",
    "print('Predicted Class: %d' % yhat[0])"
   ]
  },
  {
   "cell_type": "markdown",
   "id": "053d5095",
   "metadata": {},
   "source": [
    "# AdaBoost for Regression\n",
    "\n",
    "In this section, we will look at using AdaBoost for a regression problem.\n",
    "\n",
    "First, we can use the [make_regression()](https://scikit-learn.org/stable/modules/generated/sklearn.datasets.make_regression.html) function to create a synthetic regression problem with 1,000 examples and 20 input features.\n",
    "\n",
    "The complete example is listed below."
   ]
  },
  {
   "cell_type": "code",
   "execution_count": 16,
   "id": "94839412",
   "metadata": {},
   "outputs": [
    {
     "name": "stdout",
     "output_type": "stream",
     "text": [
      "(1000, 20) (1000,)\n"
     ]
    }
   ],
   "source": [
    "# test regression dataset\n",
    "from sklearn.datasets import make_regression\n",
    "# define dataset\n",
    "X, y = make_regression(n_samples=1000, n_features=20, n_informative=15, noise=0.1, random_state=6)\n",
    "# summarize the dataset\n",
    "print(X.shape, y.shape)"
   ]
  },
  {
   "cell_type": "markdown",
   "id": "b2f5f3dd",
   "metadata": {},
   "source": [
    "Next, we can evaluate an AdaBoost algorithm on this dataset.\n",
    "\n",
    "As we did with the last section, we will evaluate the model using repeated k-fold cross-validation, with three repeats and 10 folds. We will report the mean absolute error (MAE) of the model across all repeats and folds. The scikit-learn library makes the MAE negative so that it is maximized instead of minimized. This means that larger negative MAE are better and a perfect model has a MAE of 0.\n",
    "\n",
    "Running the example below reports the mean and standard deviation accuracy of the adaboost regression model."
   ]
  },
  {
   "cell_type": "code",
   "execution_count": 4,
   "id": "69637d6b",
   "metadata": {},
   "outputs": [
    {
     "name": "stdout",
     "output_type": "stream",
     "text": [
      "MAE: -72.694 (3.812)\n"
     ]
    }
   ],
   "source": [
    "# evaluate adaboost ensemble for regression\n",
    "from numpy import mean\n",
    "from numpy import std\n",
    "from sklearn.datasets import make_regression\n",
    "from sklearn.model_selection import cross_val_score\n",
    "from sklearn.model_selection import RepeatedKFold\n",
    "from sklearn.ensemble import AdaBoostRegressor\n",
    "# define dataset\n",
    "X, y = make_regression(n_samples=1000, n_features=20, n_informative=15, noise=0.1, random_state=6)\n",
    "# define the model\n",
    "model = AdaBoostRegressor()\n",
    "# evaluate the model\n",
    "cv = RepeatedKFold(n_splits=10, n_repeats=3, random_state=1)\n",
    "n_scores = cross_val_score(model, X, y, scoring='neg_mean_absolute_error', cv=cv, n_jobs=-1, error_score='raise')\n",
    "# report performance\n",
    "print('MAE: %.3f (%.3f)' % (mean(n_scores), std(n_scores)))"
   ]
  },
  {
   "cell_type": "markdown",
   "id": "649dc887",
   "metadata": {},
   "source": [
    "We can also use the AdaBoost model as a final model and make predictions for regression.\n",
    "\n",
    "First, the AdaBoost ensemble is fit on all available data, then the predict() function can be called to make predictions on new data.\n",
    "\n",
    "Running the example below fits the AdaBoost ensemble model on the entire dataset and is then used to make a prediction on a new row of data, as we might when using the model in an application."
   ]
  },
  {
   "cell_type": "code",
   "execution_count": 6,
   "id": "97b0e8d1",
   "metadata": {},
   "outputs": [
    {
     "name": "stdout",
     "output_type": "stream",
     "text": [
      "Prediction: -43\n"
     ]
    }
   ],
   "source": [
    "# adaboost ensemble for making predictions for regression\n",
    "from sklearn.datasets import make_regression\n",
    "from sklearn.ensemble import AdaBoostRegressor\n",
    "# define dataset\n",
    "X, y = make_regression(n_samples=1000, n_features=20, n_informative=15, noise=0.1, random_state=6)\n",
    "# define the model\n",
    "model = AdaBoostRegressor()\n",
    "# fit the model on the whole dataset\n",
    "model.fit(X, y)\n",
    "# make a single prediction\n",
    "row = [[1.20871625,0.88440466,-0.9030013,-0.22687731,-0.82940077,\n",
    "        -1.14410988,1.26554256,-0.2842871,1.43929072,0.74250241,\n",
    "        0.34035501,0.45363034,0.1778756,-1.75252881,-1.33337384,\n",
    "        -1.50337215,-0.45099008,0.46160133,0.58385557,-1.79936198]]\n",
    "yhat = model.predict(row)\n",
    "print('Prediction: %d' % yhat[0])"
   ]
  },
  {
   "cell_type": "markdown",
   "id": "1252b120",
   "metadata": {},
   "source": [
    "# AdaBoost Hyperparameters\n",
    "\n",
    "In this section, we will take a closer look at some of the hyperparameters you should consider tuning for the AdaBoost ensemble and their effect on model performance.\n",
    "\n",
    "## Explore Number of Trees\n",
    "\n",
    "An important hyperparameter for AdaBoost algorithm is the number of decision trees used in the ensemble.\n",
    "\n",
    "Recall that each decision tree used in the ensemble is designed to be a weak learner. That is, it has skill over random prediction, but is not highly skillful. As such, one-level decision trees are used, called decision stumps.\n",
    "\n",
    "The number of trees added to the model must be high for the model to work well, often hundreds, if not thousands.\n",
    "\n",
    "The number of trees can be set via the “n_estimators” argument and defaults to 50.\n",
    "\n",
    "The example below explores the effect of the number of trees with values between 10 to 5,000."
   ]
  },
  {
   "cell_type": "code",
   "execution_count": 7,
   "id": "1fef228a",
   "metadata": {},
   "outputs": [
    {
     "name": "stdout",
     "output_type": "stream",
     "text": [
      ">10 0.773 (0.039)\n",
      ">50 0.806 (0.041)\n",
      ">100 0.801 (0.032)\n",
      ">500 0.793 (0.028)\n",
      ">1000 0.791 (0.032)\n",
      ">5000 0.783 (0.031)\n"
     ]
    },
    {
     "data": {
      "image/png": "[encoded data removed]",
      "text/plain": [
       "<Figure size 432x288 with 1 Axes>"
      ]
     },
     "metadata": {
      "needs_background": "light"
     },
     "output_type": "display_data"
    }
   ],
   "source": [
    "# explore adaboost ensemble number of trees effect on performance\n",
    "from numpy import mean\n",
    "from numpy import std\n",
    "from sklearn.datasets import make_classification\n",
    "from sklearn.model_selection import cross_val_score\n",
    "from sklearn.model_selection import RepeatedStratifiedKFold\n",
    "from sklearn.ensemble import AdaBoostClassifier\n",
    "from matplotlib import pyplot\n",
    "\n",
    "# get the dataset\n",
    "def get_dataset():\n",
    "\tX, y = make_classification(n_samples=1000, n_features=20, n_informative=15, n_redundant=5, random_state=6)\n",
    "\treturn X, y\n",
    "\n",
    "# get a list of models to evaluate\n",
    "def get_models():\n",
    "\tmodels = dict()\n",
    "\t# define number of trees to consider\n",
    "\tn_trees = [10, 50, 100, 500, 1000, 5000]\n",
    "\tfor n in n_trees:\n",
    "\t\tmodels[str(n)] = AdaBoostClassifier(n_estimators=n)\n",
    "\treturn models\n",
    "\n",
    "# evaluate a given model using cross-validation\n",
    "def evaluate_model(model, X, y):\n",
    "\t# define the evaluation procedure\n",
    "\tcv = RepeatedStratifiedKFold(n_splits=10, n_repeats=3, random_state=1)\n",
    "\t# evaluate the model and collect the results\n",
    "\tscores = cross_val_score(model, X, y, scoring='accuracy', cv=cv, n_jobs=-1)\n",
    "\treturn scores\n",
    "\n",
    "# define dataset\n",
    "X, y = get_dataset()\n",
    "# get the models to evaluate\n",
    "models = get_models()\n",
    "# evaluate the models and store results\n",
    "results, names = list(), list()\n",
    "for name, model in models.items():\n",
    "\t# evaluate the model\n",
    "\tscores = evaluate_model(model, X, y)\n",
    "\t# store the results\n",
    "\tresults.append(scores)\n",
    "\tnames.append(name)\n",
    "\t# summarize the performance along the way\n",
    "\tprint('>%s %.3f (%.3f)' % (name, mean(scores), std(scores)))\n",
    "# plot model performance for comparison\n",
    "pyplot.boxplot(results, labels=names, showmeans=True)\n",
    "pyplot.show()"
   ]
  },
  {
   "cell_type": "markdown",
   "id": "810a13d8",
   "metadata": {},
   "source": [
    "Running the example first reports the mean accuracy for each configured number of decision trees.\n",
    "\n",
    "In this case, we can see that that performance improves on this dataset until about 50 trees and declines after that. This might be a sign of the ensemble overfitting the training dataset after additional trees are added.\n",
    "\n",
    "A box and whisker plot is created for the distribution of accuracy scores for each configured number of trees.\n",
    "We can see the general trend of model performance and ensemble size."
   ]
  },
  {
   "cell_type": "markdown",
   "id": "4b3d5f63",
   "metadata": {},
   "source": [
    "## Explore Depth\n",
    "\n",
    "A decision tree with one level is used as the weak learner by default.\n",
    "\n",
    "We can make the models used in the ensemble less weak (more skillful) by increasing the depth of the decision tree.\n",
    "\n",
    "The example below explores the effect of increasing the depth of the [DecisionTreeClassifier](https://scikit-learn.org/stable/modules/generated/sklearn.tree.DecisionTreeClassifier.html) weak learner on the AdBoost ensemble."
   ]
  },
  {
   "cell_type": "code",
   "execution_count": 8,
   "id": "fa872a6e",
   "metadata": {},
   "outputs": [
    {
     "name": "stdout",
     "output_type": "stream",
     "text": [
      ">1 0.806 (0.041)\n",
      ">2 0.863 (0.029)\n",
      ">3 0.870 (0.027)\n",
      ">4 0.899 (0.035)\n",
      ">5 0.912 (0.030)\n",
      ">6 0.925 (0.024)\n",
      ">7 0.931 (0.022)\n",
      ">8 0.933 (0.021)\n",
      ">9 0.926 (0.022)\n",
      ">10 0.933 (0.022)\n",
      ">11 0.888 (0.069)\n",
      ">12 0.815 (0.056)\n",
      ">13 0.806 (0.032)\n",
      ">14 0.803 (0.039)\n",
      ">15 0.799 (0.037)\n"
     ]
    },
    {
     "data": {
      "image/png": "[encoded data removed]",
      "text/plain": [
       "<Figure size 432x288 with 1 Axes>"
      ]
     },
     "metadata": {
      "needs_background": "light"
     },
     "output_type": "display_data"
    }
   ],
   "source": [
    "# explore adaboost ensemble tree depth effect on performance\n",
    "from numpy import mean\n",
    "from numpy import std\n",
    "from sklearn.datasets import make_classification\n",
    "from sklearn.model_selection import cross_val_score\n",
    "from sklearn.model_selection import RepeatedStratifiedKFold\n",
    "from sklearn.ensemble import AdaBoostClassifier\n",
    "from sklearn.tree import DecisionTreeClassifier\n",
    "from matplotlib import pyplot\n",
    "\n",
    "# get the dataset\n",
    "def get_dataset():\n",
    "\tX, y = make_classification(n_samples=1000, n_features=20, n_informative=15, n_redundant=5, random_state=6)\n",
    "\treturn X, y\n",
    "\n",
    "# get a list of models to evaluate\n",
    "def get_models():\n",
    "\tmodels = dict()\n",
    "\t# explore depths from 1 to 15\n",
    "\tfor i in range(1,16):\n",
    "\t\t# define base model\n",
    "\t\tbase = DecisionTreeClassifier(max_depth=i)\n",
    "\t\t# define ensemble model\n",
    "\t\tmodels[str(i)] = AdaBoostClassifier(base_estimator=base)\n",
    "\treturn models\n",
    "\n",
    "# evaluate a given model using cross-validation\n",
    "def evaluate_model(model, X, y):\n",
    "\t# define the evaluation procedure\n",
    "\tcv = RepeatedStratifiedKFold(n_splits=10, n_repeats=3, random_state=1)\n",
    "\t# evaluate the model and collect the results\n",
    "\tscores = cross_val_score(model, X, y, scoring='accuracy', cv=cv, n_jobs=-1)\n",
    "\treturn scores\n",
    "\n",
    "# define dataset\n",
    "X, y = get_dataset()\n",
    "# get the models to evaluate\n",
    "models = get_models()\n",
    "# evaluate the models and store results\n",
    "results, names = list(), list()\n",
    "for name, model in models.items():\n",
    "\t# evaluate the model\n",
    "\tscores = evaluate_model(model, X, y)\n",
    "\t# store the results\n",
    "\tresults.append(scores)\n",
    "\tnames.append(name)\n",
    "\t# summarize the performance along the way\n",
    "\tprint('>%s %.3f (%.3f)' % (name, mean(scores), std(scores)))\n",
    "# plot model performance for comparison\n",
    "pyplot.boxplot(results, labels=names, showmeans=True)\n",
    "pyplot.show()"
   ]
  },
  {
   "cell_type": "markdown",
   "id": "17398491",
   "metadata": {},
   "source": [
    "Running the example first reports the mean accuracy for each configured weak learner tree depth.\n",
    "we can see that that performance improves on this dataset till depth = 10 and declines after that. This might be a sign of the ensemble overfitting the training dataset after too much increase in depth."
   ]
  },
  {
   "cell_type": "markdown",
   "id": "a85b016b",
   "metadata": {},
   "source": [
    "## Explore Learning Rate\n",
    "\n",
    "AdaBoost also supports a learning rate that controls the contribution of each model to the ensemble prediction.\n",
    "\n",
    "This is controlled by the “learning_rate” argument and by default is set to 1.0 or full contribution. Smaller or larger values might be appropriate depending on the number of models used in the ensemble. There is a balance between the contribution of the models and the number of trees in the ensemble.\n",
    "\n",
    "More trees may require a smaller learning rate; fewer trees may require a larger learning rate. It is common to use values between 0 and 1 and sometimes very small values to avoid overfitting such as 0.1, 0.01 or 0.001.\n",
    "\n",
    "The example below explores learning rate values between 0.1 and 2.0 in 0.1 increments."
   ]
  },
  {
   "cell_type": "code",
   "execution_count": 9,
   "id": "b0e13e70",
   "metadata": {},
   "outputs": [
    {
     "name": "stdout",
     "output_type": "stream",
     "text": [
      ">0.100 0.767 (0.049)\n",
      ">0.200 0.786 (0.042)\n",
      ">0.300 0.802 (0.040)\n",
      ">0.400 0.798 (0.037)\n",
      ">0.500 0.805 (0.042)\n",
      ">0.600 0.795 (0.031)\n",
      ">0.700 0.799 (0.035)\n",
      ">0.800 0.801 (0.033)\n",
      ">0.900 0.805 (0.032)\n",
      ">1.000 0.806 (0.041)\n",
      ">1.100 0.801 (0.037)\n",
      ">1.200 0.800 (0.030)\n",
      ">1.300 0.799 (0.041)\n",
      ">1.400 0.793 (0.041)\n",
      ">1.500 0.790 (0.040)\n",
      ">1.600 0.775 (0.034)\n",
      ">1.700 0.767 (0.054)\n",
      ">1.800 0.768 (0.040)\n",
      ">1.900 0.736 (0.047)\n",
      ">2.000 0.682 (0.048)\n"
     ]
    },
    {
     "data": {
      "image/png": "[encoded data removed]",
      "text/plain": [
       "<Figure size 432x288 with 1 Axes>"
      ]
     },
     "metadata": {
      "needs_background": "light"
     },
     "output_type": "display_data"
    }
   ],
   "source": [
    "# explore adaboost ensemble learning rate effect on performance\n",
    "from numpy import mean\n",
    "from numpy import std\n",
    "from numpy import arange\n",
    "from sklearn.datasets import make_classification\n",
    "from sklearn.model_selection import cross_val_score\n",
    "from sklearn.model_selection import RepeatedStratifiedKFold\n",
    "from sklearn.ensemble import AdaBoostClassifier\n",
    "from matplotlib import pyplot\n",
    "\n",
    "# get the dataset\n",
    "def get_dataset():\n",
    "\tX, y = make_classification(n_samples=1000, n_features=20, n_informative=15, n_redundant=5, random_state=6)\n",
    "\treturn X, y\n",
    "\n",
    "# get a list of models to evaluate\n",
    "def get_models():\n",
    "\tmodels = dict()\n",
    "\t# explore learning rates from 0.1 to 2 in 0.1 increments\n",
    "\tfor i in arange(0.1, 2.1, 0.1):\n",
    "\t\tkey = '%.3f' % i\n",
    "\t\tmodels[key] = AdaBoostClassifier(learning_rate=i)\n",
    "\treturn models\n",
    "\n",
    "# evaluate a given model using cross-validation\n",
    "def evaluate_model(model, X, y):\n",
    "\t# define the evaluation procedure\n",
    "\tcv = RepeatedStratifiedKFold(n_splits=10, n_repeats=3, random_state=1)\n",
    "\t# evaluate the model and collect the results\n",
    "\tscores = cross_val_score(model, X, y, scoring='accuracy', cv=cv, n_jobs=-1)\n",
    "\treturn scores\n",
    "\n",
    "# define dataset\n",
    "X, y = get_dataset()\n",
    "# get the models to evaluate\n",
    "models = get_models()\n",
    "# evaluate the models and store results\n",
    "results, names = list(), list()\n",
    "for name, model in models.items():\n",
    "\t# evaluate the model\n",
    "\tscores = evaluate_model(model, X, y)\n",
    "\t# store the results\n",
    "\tresults.append(scores)\n",
    "\tnames.append(name)\n",
    "\t# summarize the performance along the way\n",
    "\tprint('>%s %.3f (%.3f)' % (name, mean(scores), std(scores)))\n",
    "# plot model performance for comparison\n",
    "pyplot.boxplot(results, labels=names, showmeans=True)\n",
    "pyplot.xticks(rotation=45)\n",
    "pyplot.show()"
   ]
  },
  {
   "cell_type": "markdown",
   "id": "015e0325",
   "metadata": {},
   "source": [
    "Running the example first reports the mean accuracy for each configured learning rate.\n",
    "A box and whisker plot is created for the distribution of accuracy scores for each configured learning rate.\n",
    "\n",
    "In this case, we can see similar values between 0.5 to 1.0 and a decrease in model performance after that."
   ]
  },
  {
   "cell_type": "markdown",
   "id": "735e88b2",
   "metadata": {},
   "source": [
    "## Explore Alternate Algorithm\n",
    "\n",
    "The default algorithm used in the ensemble is a decision tree, although other algorithms can be used.\n",
    "\n",
    "The intent is to use very simple models, called weak learners. Also, the scikit-learn implementation requires that any models used must also support weighted samples, as they are how the ensemble is created by fitting models based on a weighted version of the training dataset.\n",
    "\n",
    "The base model can be specified via the “base_estimator” argument. The base model must also support predicting probabilities or probability-like scores in the case of classification. If the specified model does not support a weighted training dataset, you will see an error message as follows:\n",
    "\n",
    "ValueError: KNeighborsClassifier doesn't support sample_weight.\n",
    "\n",
    "One example of a model that supports a weighted training is the logistic regression algorithm.\n",
    "\n",
    "The example below demonstrates an AdaBoost algorithm with a [LogisticRegression](https://scikit-learn.org/stable/modules/generated/sklearn.linear_model.LogisticRegression.html) weak learner."
   ]
  },
  {
   "cell_type": "code",
   "execution_count": 10,
   "id": "27993a33",
   "metadata": {},
   "outputs": [
    {
     "name": "stdout",
     "output_type": "stream",
     "text": [
      "Accuracy: 0.794 (0.032)\n"
     ]
    }
   ],
   "source": [
    "# evaluate adaboost algorithm with logistic regression weak learner for classification\n",
    "from numpy import mean\n",
    "from numpy import std\n",
    "from sklearn.datasets import make_classification\n",
    "from sklearn.model_selection import cross_val_score\n",
    "from sklearn.model_selection import RepeatedStratifiedKFold\n",
    "from sklearn.ensemble import AdaBoostClassifier\n",
    "from sklearn.linear_model import LogisticRegression\n",
    "# define dataset\n",
    "X, y = make_classification(n_samples=1000, n_features=20, n_informative=15, n_redundant=5, random_state=6)\n",
    "# define the model\n",
    "model = AdaBoostClassifier(base_estimator=LogisticRegression())\n",
    "# evaluate the model\n",
    "cv = RepeatedStratifiedKFold(n_splits=10, n_repeats=3, random_state=1)\n",
    "n_scores = cross_val_score(model, X, y, scoring='accuracy', cv=cv, n_jobs=-1, error_score='raise')\n",
    "# report performance\n",
    "print('Accuracy: %.3f (%.3f)' % (mean(n_scores), std(n_scores)))"
   ]
  },
  {
   "cell_type": "markdown",
   "id": "57d8e98a",
   "metadata": {},
   "source": [
    "Running the example reports the mean and standard deviation accuracy of the model.\n",
    "\n",
    "In this case, we can see the AdaBoost ensemble with a logistic regression weak model achieves a classification accuracy of about 79 percent on this test dataset."
   ]
  },
  {
   "cell_type": "markdown",
   "id": "b194838d",
   "metadata": {},
   "source": [
    "## Grid Search AdaBoost Hyperparameters\n",
    "\n",
    "AdaBoost can be challenging to configure as the algorithm as many key hyperparameters that influence the behavior of the model on training data and the hyperparameters interact with each other.\n",
    "\n",
    "As such, it is a good practice to use a search process to discover a configuration of the model hyperparameters that works well or best for a given predictive modeling problem. Popular search processes include a random search and a grid search.\n",
    "\n",
    "In this section we will look at grid searching common ranges for the key hyperparameters for the AdaBoost algorithm that you can use as starting point for your own projects. This can be achieving using the [GridSearchCV](https://scikit-learn.org/stable/modules/generated/sklearn.model_selection.GridSearchCV.html) class and specifying a dictionary that maps model hyperparameter names to the values to search.\n",
    "\n",
    "In this case, we will grid search two key hyperparameters for AdaBoost: the number of trees used in the ensemble and the learning rate. We will use a range of popular well performing values for each hyperparameter.\n",
    "\n",
    "Each configuration combination will be evaluated using repeated k-fold cross-validation and configurations will be compared using the mean score, in this case, classification accuracy.\n",
    "\n",
    "The complete example of grid searching the key hyperparameters of the AdaBoost algorithm on our synthetic classification dataset is listed below."
   ]
  },
  {
   "cell_type": "code",
   "execution_count": 17,
   "id": "24a495e0",
   "metadata": {},
   "outputs": [
    {
     "name": "stdout",
     "output_type": "stream",
     "text": [
      "Best: 0.813667 using {'learning_rate': 0.1, 'n_estimators': 500}\n",
      "0.646333 (0.036376) with: {'learning_rate': 0.0001, 'n_estimators': 10}\n",
      "0.646667 (0.036545) with: {'learning_rate': 0.0001, 'n_estimators': 50}\n",
      "0.646667 (0.036545) with: {'learning_rate': 0.0001, 'n_estimators': 100}\n",
      "0.647000 (0.038136) with: {'learning_rate': 0.0001, 'n_estimators': 500}\n",
      "0.646667 (0.036545) with: {'learning_rate': 0.001, 'n_estimators': 10}\n",
      "0.647000 (0.038136) with: {'learning_rate': 0.001, 'n_estimators': 50}\n",
      "0.654333 (0.045511) with: {'learning_rate': 0.001, 'n_estimators': 100}\n",
      "0.672667 (0.046543) with: {'learning_rate': 0.001, 'n_estimators': 500}\n",
      "0.648333 (0.042197) with: {'learning_rate': 0.01, 'n_estimators': 10}\n",
      "0.671667 (0.045613) with: {'learning_rate': 0.01, 'n_estimators': 50}\n",
      "0.715000 (0.053213) with: {'learning_rate': 0.01, 'n_estimators': 100}\n",
      "0.767667 (0.045948) with: {'learning_rate': 0.01, 'n_estimators': 500}\n",
      "0.716667 (0.048876) with: {'learning_rate': 0.1, 'n_estimators': 10}\n",
      "0.767000 (0.049271) with: {'learning_rate': 0.1, 'n_estimators': 50}\n",
      "0.784667 (0.042874) with: {'learning_rate': 0.1, 'n_estimators': 100}\n",
      "0.813667 (0.032092) with: {'learning_rate': 0.1, 'n_estimators': 500}\n",
      "0.773333 (0.038759) with: {'learning_rate': 1.0, 'n_estimators': 10}\n",
      "0.806333 (0.040701) with: {'learning_rate': 1.0, 'n_estimators': 50}\n",
      "0.801000 (0.032491) with: {'learning_rate': 1.0, 'n_estimators': 100}\n",
      "0.792667 (0.027560) with: {'learning_rate': 1.0, 'n_estimators': 500}\n"
     ]
    }
   ],
   "source": [
    "# example of grid searching key hyperparameters for adaboost on a classification dataset\n",
    "from sklearn.datasets import make_classification\n",
    "from sklearn.model_selection import RepeatedStratifiedKFold\n",
    "from sklearn.model_selection import GridSearchCV\n",
    "from sklearn.ensemble import AdaBoostClassifier\n",
    "# define dataset\n",
    "X, y = make_classification(n_samples=1000, n_features=20, n_informative=15, n_redundant=5, random_state=6)\n",
    "# define the model with default hyperparameters\n",
    "model = AdaBoostClassifier()\n",
    "# define the grid of values to search\n",
    "grid = dict()\n",
    "grid['n_estimators'] = [10, 50, 100, 500]\n",
    "grid['learning_rate'] = [0.0001, 0.001, 0.01, 0.1, 1.0]\n",
    "# grid['max_depth'] = [range(1,11)]\n",
    "# define the evaluation procedure\n",
    "cv = RepeatedStratifiedKFold(n_splits=10, n_repeats=3, random_state=1)\n",
    "# define the grid search procedure\n",
    "grid_search = GridSearchCV(estimator=model, param_grid=grid, n_jobs=-1, cv=cv, scoring='accuracy')\n",
    "# execute the grid search\n",
    "grid_result = grid_search.fit(X, y)\n",
    "# summarize the best score and configuration\n",
    "print(\"Best: %f using %s\" % (grid_result.best_score_, grid_result.best_params_))\n",
    "# summarize all scores that were evaluated\n",
    "means = grid_result.cv_results_['mean_test_score']\n",
    "stds = grid_result.cv_results_['std_test_score']\n",
    "params = grid_result.cv_results_['params']\n",
    "for mean, stdev, param in zip(means, stds, params):\n",
    "    print(\"%f (%f) with: %r\" % (mean, stdev, param))"
   ]
  },
  {
   "cell_type": "markdown",
   "id": "da2afc63",
   "metadata": {},
   "source": [
    "Running the example many take a while. At the end of the run, the configuration that achieved the best score is reported first, followed by the scores for all other configurations that were considered.\n",
    "\n",
    "In this case, we can see that a configuration with 500 trees and a learning rate of 0.1 performed the best with a classification accuracy of about 81.3 percent.\n",
    "\n",
    "The model may perform even better with more trees such as 1,000 or 5,000 although these configurations were not tested in this case to ensure that the grid search completed in a reasonable time."
   ]
  },
  {
   "cell_type": "markdown",
   "id": "92c59bc3",
   "metadata": {},
   "source": [
    "## Additional Resources :\n",
    "\n",
    "- https://machinelearningmastery.com/boosting-and-adaboost-for-machine-learning/\n",
    "\n",
    "- [A desicion-theoretic generalization of on-line learning and an application to boosting](https://link.springer.com/chapter/10.1007/3-540-59119-2_166)\n",
    "\n",
    "- [multiclass adaboost](https://www.intlpress.com/site/pub/pages/journals/items/sii/content/vols/0002/0003/a008/)\n",
    "\n",
    "- https://en.wikipedia.org/wiki/AdaBoost\n",
    "\n",
    "- [Improved Boosting Algorithms Using Confidence-rated Predictions](https://link.springer.com/article/10.1023/A:1007614523901)\n",
    "\n",
    "- [Explaining AdaBoost](https://link.springer.com/chapter/10.1007/978-3-642-41136-6_5)\n",
    "\n",
    "- [Tuning the hyper-parameters of an estimator using GridSearchCV](https://scikit-learn.org/stable/modules/grid_search.html)"
   ]
  },
  {
   "cell_type": "code",
   "execution_count": null,
   "id": "0cb1776a",
   "metadata": {},
   "outputs": [],
   "source": []
  }
 ],
 "metadata": {
  "kernelspec": {
   "display_name": "Python 3 (ipykernel)",
   "language": "python",
   "name": "python3"
  },
  "language_info": {
   "codemirror_mode": {
    "name": "ipython",
    "version": 3
   },
   "file_extension": ".py",
   "mimetype": "text/x-python",
   "name": "python",
   "nbconvert_exporter": "python",
   "pygments_lexer": "ipython3",
   "version": "3.9.12"
  }
 },
 "nbformat": 4,
 "nbformat_minor": 5
}
